{
 "cells": [
  {
   "cell_type": "code",
   "execution_count": 1,
   "metadata": {
    "collapsed": false
   },
   "outputs": [
    {
     "name": "stderr",
     "output_type": "stream",
     "text": [
      "C:\\Anaconda\\lib\\site-packages\\sklearn\\cross_validation.py:41: DeprecationWarning: This module was deprecated in version 0.18 in favor of the model_selection module into which all the refactored classes and functions are moved. Also note that the interface of the new CV iterators are different from that of this module. This module will be removed in 0.20.\n",
      "  \"This module will be removed in 0.20.\", DeprecationWarning)\n"
     ]
    }
   ],
   "source": [
    "import pandas as pd\n",
    "import numpy as np\n",
    "\n",
    "import seaborn as sns\n",
    "\n",
    "from sklearn.preprocessing import LabelEncoder\n",
    "from sklearn.cross_validation import train_test_split\n",
    "from sklearn.preprocessing import StandardScaler\n",
    "from sklearn.ensemble import RandomForestClassifier\n",
    "from sklearn.neighbors import KNeighborsClassifier\n",
    "from sklearn.linear_model import LogisticRegression\n",
    "from sklearn.metrics import classification_report, confusion_matrix, accuracy_score\n",
    "\n",
    "import pickle\n",
    "\n",
    "%matplotlib inline"
   ]
  },
  {
   "cell_type": "code",
   "execution_count": 2,
   "metadata": {
    "collapsed": true
   },
   "outputs": [],
   "source": [
    "trng_data = pd.read_csv('training set values.csv')\n",
    "trng_lbl = pd.read_csv('training set labels.csv')"
   ]
  },
  {
   "cell_type": "code",
   "execution_count": 3,
   "metadata": {
    "collapsed": false
   },
   "outputs": [],
   "source": [
    "# Convert status_group to numerical.\n",
    "trng_lbl['status_group'] = trng_lbl.status_group.map({'functional':0, 'functional needs repair':1, 'non functional':2})"
   ]
  },
  {
   "cell_type": "code",
   "execution_count": 4,
   "metadata": {
    "collapsed": false
   },
   "outputs": [],
   "source": [
    "data = pd.merge(trng_data,trng_lbl,how ='outer',on ='id',)"
   ]
  },
  {
   "cell_type": "code",
   "execution_count": 5,
   "metadata": {
    "collapsed": false
   },
   "outputs": [
    {
     "data": {
      "text/plain": [
       "Index([u'id', u'amount_tsh', u'date_recorded', u'funder', u'gps_height',\n",
       "       u'installer', u'longitude', u'latitude', u'wpt_name', u'num_private',\n",
       "       u'basin', u'subvillage', u'region', u'region_code', u'district_code',\n",
       "       u'lga', u'ward', u'population', u'public_meeting', u'recorded_by',\n",
       "       u'scheme_management', u'scheme_name', u'permit', u'construction_year',\n",
       "       u'extraction_type', u'extraction_type_group', u'extraction_type_class',\n",
       "       u'management', u'management_group', u'payment', u'payment_type',\n",
       "       u'water_quality', u'quality_group', u'quantity', u'quantity_group',\n",
       "       u'source', u'source_type', u'source_class', u'waterpoint_type',\n",
       "       u'waterpoint_type_group', u'status_group'],\n",
       "      dtype='object')"
      ]
     },
     "execution_count": 5,
     "metadata": {},
     "output_type": "execute_result"
    }
   ],
   "source": [
    "data.columns"
   ]
  },
  {
   "cell_type": "code",
   "execution_count": 6,
   "metadata": {
    "collapsed": false
   },
   "outputs": [
    {
     "name": "stdout",
     "output_type": "stream",
     "text": [
      "<class 'pandas.core.frame.DataFrame'>\n",
      "Int64Index: 59400 entries, 0 to 59399\n",
      "Data columns (total 41 columns):\n",
      "id                       59400 non-null int64\n",
      "amount_tsh               59400 non-null float64\n",
      "date_recorded            59400 non-null object\n",
      "funder                   55765 non-null object\n",
      "gps_height               59400 non-null int64\n",
      "installer                55745 non-null object\n",
      "longitude                59400 non-null float64\n",
      "latitude                 59400 non-null float64\n",
      "wpt_name                 59400 non-null object\n",
      "num_private              59400 non-null int64\n",
      "basin                    59400 non-null object\n",
      "subvillage               59029 non-null object\n",
      "region                   59400 non-null object\n",
      "region_code              59400 non-null int64\n",
      "district_code            59400 non-null int64\n",
      "lga                      59400 non-null object\n",
      "ward                     59400 non-null object\n",
      "population               59400 non-null int64\n",
      "public_meeting           56066 non-null object\n",
      "recorded_by              59400 non-null object\n",
      "scheme_management        55523 non-null object\n",
      "scheme_name              31234 non-null object\n",
      "permit                   56344 non-null object\n",
      "construction_year        59400 non-null int64\n",
      "extraction_type          59400 non-null object\n",
      "extraction_type_group    59400 non-null object\n",
      "extraction_type_class    59400 non-null object\n",
      "management               59400 non-null object\n",
      "management_group         59400 non-null object\n",
      "payment                  59400 non-null object\n",
      "payment_type             59400 non-null object\n",
      "water_quality            59400 non-null object\n",
      "quality_group            59400 non-null object\n",
      "quantity                 59400 non-null object\n",
      "quantity_group           59400 non-null object\n",
      "source                   59400 non-null object\n",
      "source_type              59400 non-null object\n",
      "source_class             59400 non-null object\n",
      "waterpoint_type          59400 non-null object\n",
      "waterpoint_type_group    59400 non-null object\n",
      "status_group             59400 non-null int64\n",
      "dtypes: float64(3), int64(8), object(30)\n",
      "memory usage: 19.0+ MB\n"
     ]
    }
   ],
   "source": [
    "data.info()"
   ]
  },
  {
   "cell_type": "code",
   "execution_count": 7,
   "metadata": {
    "collapsed": false,
    "scrolled": true
   },
   "outputs": [
    {
     "data": {
      "text/html": [
       "<div>\n",
       "<style>\n",
       "    .dataframe thead tr:only-child th {\n",
       "        text-align: right;\n",
       "    }\n",
       "\n",
       "    .dataframe thead th {\n",
       "        text-align: left;\n",
       "    }\n",
       "\n",
       "    .dataframe tbody tr th {\n",
       "        vertical-align: top;\n",
       "    }\n",
       "</style>\n",
       "<table border=\"1\" class=\"dataframe\">\n",
       "  <thead>\n",
       "    <tr style=\"text-align: right;\">\n",
       "      <th></th>\n",
       "      <th>id</th>\n",
       "      <th>amount_tsh</th>\n",
       "      <th>date_recorded</th>\n",
       "      <th>funder</th>\n",
       "      <th>gps_height</th>\n",
       "      <th>installer</th>\n",
       "      <th>longitude</th>\n",
       "      <th>latitude</th>\n",
       "      <th>wpt_name</th>\n",
       "      <th>num_private</th>\n",
       "      <th>...</th>\n",
       "      <th>water_quality</th>\n",
       "      <th>quality_group</th>\n",
       "      <th>quantity</th>\n",
       "      <th>quantity_group</th>\n",
       "      <th>source</th>\n",
       "      <th>source_type</th>\n",
       "      <th>source_class</th>\n",
       "      <th>waterpoint_type</th>\n",
       "      <th>waterpoint_type_group</th>\n",
       "      <th>status_group</th>\n",
       "    </tr>\n",
       "  </thead>\n",
       "  <tbody>\n",
       "    <tr>\n",
       "      <th>0</th>\n",
       "      <td>69572</td>\n",
       "      <td>6000.0</td>\n",
       "      <td>2011-03-14</td>\n",
       "      <td>Roman</td>\n",
       "      <td>1390</td>\n",
       "      <td>Roman</td>\n",
       "      <td>34.938093</td>\n",
       "      <td>-9.856322</td>\n",
       "      <td>none</td>\n",
       "      <td>0</td>\n",
       "      <td>...</td>\n",
       "      <td>soft</td>\n",
       "      <td>good</td>\n",
       "      <td>enough</td>\n",
       "      <td>enough</td>\n",
       "      <td>spring</td>\n",
       "      <td>spring</td>\n",
       "      <td>groundwater</td>\n",
       "      <td>communal standpipe</td>\n",
       "      <td>communal standpipe</td>\n",
       "      <td>0</td>\n",
       "    </tr>\n",
       "    <tr>\n",
       "      <th>1</th>\n",
       "      <td>8776</td>\n",
       "      <td>0.0</td>\n",
       "      <td>2013-03-06</td>\n",
       "      <td>Grumeti</td>\n",
       "      <td>1399</td>\n",
       "      <td>GRUMETI</td>\n",
       "      <td>34.698766</td>\n",
       "      <td>-2.147466</td>\n",
       "      <td>Zahanati</td>\n",
       "      <td>0</td>\n",
       "      <td>...</td>\n",
       "      <td>soft</td>\n",
       "      <td>good</td>\n",
       "      <td>insufficient</td>\n",
       "      <td>insufficient</td>\n",
       "      <td>rainwater harvesting</td>\n",
       "      <td>rainwater harvesting</td>\n",
       "      <td>surface</td>\n",
       "      <td>communal standpipe</td>\n",
       "      <td>communal standpipe</td>\n",
       "      <td>0</td>\n",
       "    </tr>\n",
       "    <tr>\n",
       "      <th>2</th>\n",
       "      <td>34310</td>\n",
       "      <td>25.0</td>\n",
       "      <td>2013-02-25</td>\n",
       "      <td>Lottery Club</td>\n",
       "      <td>686</td>\n",
       "      <td>World vision</td>\n",
       "      <td>37.460664</td>\n",
       "      <td>-3.821329</td>\n",
       "      <td>Kwa Mahundi</td>\n",
       "      <td>0</td>\n",
       "      <td>...</td>\n",
       "      <td>soft</td>\n",
       "      <td>good</td>\n",
       "      <td>enough</td>\n",
       "      <td>enough</td>\n",
       "      <td>dam</td>\n",
       "      <td>dam</td>\n",
       "      <td>surface</td>\n",
       "      <td>communal standpipe multiple</td>\n",
       "      <td>communal standpipe</td>\n",
       "      <td>0</td>\n",
       "    </tr>\n",
       "    <tr>\n",
       "      <th>3</th>\n",
       "      <td>67743</td>\n",
       "      <td>0.0</td>\n",
       "      <td>2013-01-28</td>\n",
       "      <td>Unicef</td>\n",
       "      <td>263</td>\n",
       "      <td>UNICEF</td>\n",
       "      <td>38.486161</td>\n",
       "      <td>-11.155298</td>\n",
       "      <td>Zahanati Ya Nanyumbu</td>\n",
       "      <td>0</td>\n",
       "      <td>...</td>\n",
       "      <td>soft</td>\n",
       "      <td>good</td>\n",
       "      <td>dry</td>\n",
       "      <td>dry</td>\n",
       "      <td>machine dbh</td>\n",
       "      <td>borehole</td>\n",
       "      <td>groundwater</td>\n",
       "      <td>communal standpipe multiple</td>\n",
       "      <td>communal standpipe</td>\n",
       "      <td>2</td>\n",
       "    </tr>\n",
       "    <tr>\n",
       "      <th>4</th>\n",
       "      <td>19728</td>\n",
       "      <td>0.0</td>\n",
       "      <td>2011-07-13</td>\n",
       "      <td>Action In A</td>\n",
       "      <td>0</td>\n",
       "      <td>Artisan</td>\n",
       "      <td>31.130847</td>\n",
       "      <td>-1.825359</td>\n",
       "      <td>Shuleni</td>\n",
       "      <td>0</td>\n",
       "      <td>...</td>\n",
       "      <td>soft</td>\n",
       "      <td>good</td>\n",
       "      <td>seasonal</td>\n",
       "      <td>seasonal</td>\n",
       "      <td>rainwater harvesting</td>\n",
       "      <td>rainwater harvesting</td>\n",
       "      <td>surface</td>\n",
       "      <td>communal standpipe</td>\n",
       "      <td>communal standpipe</td>\n",
       "      <td>0</td>\n",
       "    </tr>\n",
       "  </tbody>\n",
       "</table>\n",
       "<p>5 rows × 41 columns</p>\n",
       "</div>"
      ],
      "text/plain": [
       "      id  amount_tsh date_recorded        funder  gps_height     installer  \\\n",
       "0  69572      6000.0    2011-03-14         Roman        1390         Roman   \n",
       "1   8776         0.0    2013-03-06       Grumeti        1399       GRUMETI   \n",
       "2  34310        25.0    2013-02-25  Lottery Club         686  World vision   \n",
       "3  67743         0.0    2013-01-28        Unicef         263        UNICEF   \n",
       "4  19728         0.0    2011-07-13   Action In A           0       Artisan   \n",
       "\n",
       "   longitude   latitude              wpt_name  num_private     ...       \\\n",
       "0  34.938093  -9.856322                  none            0     ...        \n",
       "1  34.698766  -2.147466              Zahanati            0     ...        \n",
       "2  37.460664  -3.821329           Kwa Mahundi            0     ...        \n",
       "3  38.486161 -11.155298  Zahanati Ya Nanyumbu            0     ...        \n",
       "4  31.130847  -1.825359               Shuleni            0     ...        \n",
       "\n",
       "  water_quality quality_group      quantity  quantity_group  \\\n",
       "0          soft          good        enough          enough   \n",
       "1          soft          good  insufficient    insufficient   \n",
       "2          soft          good        enough          enough   \n",
       "3          soft          good           dry             dry   \n",
       "4          soft          good      seasonal        seasonal   \n",
       "\n",
       "                 source           source_type source_class  \\\n",
       "0                spring                spring  groundwater   \n",
       "1  rainwater harvesting  rainwater harvesting      surface   \n",
       "2                   dam                   dam      surface   \n",
       "3           machine dbh              borehole  groundwater   \n",
       "4  rainwater harvesting  rainwater harvesting      surface   \n",
       "\n",
       "               waterpoint_type waterpoint_type_group status_group  \n",
       "0           communal standpipe    communal standpipe            0  \n",
       "1           communal standpipe    communal standpipe            0  \n",
       "2  communal standpipe multiple    communal standpipe            0  \n",
       "3  communal standpipe multiple    communal standpipe            2  \n",
       "4           communal standpipe    communal standpipe            0  \n",
       "\n",
       "[5 rows x 41 columns]"
      ]
     },
     "execution_count": 7,
     "metadata": {},
     "output_type": "execute_result"
    }
   ],
   "source": [
    "data.head()"
   ]
  },
  {
   "cell_type": "markdown",
   "metadata": {},
   "source": [
    "# Feature Transformation/Engineering"
   ]
  },
  {
   "cell_type": "markdown",
   "metadata": {},
   "source": [
    "# Date Features: date_recorded, construction_year"
   ]
  },
  {
   "cell_type": "code",
   "execution_count": 8,
   "metadata": {
    "collapsed": false
   },
   "outputs": [],
   "source": [
    "# Convert dates from strings\n",
    "data['date_recorded'] = pd.to_datetime(data['date_recorded'])\n",
    "data['construction_year'] = pd.to_datetime(data['construction_year'])"
   ]
  },
  {
   "cell_type": "code",
   "execution_count": 9,
   "metadata": {
    "collapsed": false
   },
   "outputs": [],
   "source": [
    "data['age_of_pump_mnths'] = (data['date_recorded']-data['construction_year'])/np.timedelta64(1, 'Y')"
   ]
  },
  {
   "cell_type": "code",
   "execution_count": 10,
   "metadata": {
    "collapsed": false
   },
   "outputs": [],
   "source": [
    "data.drop('date_recorded',axis = 1, inplace = True)\n",
    "data.drop('construction_year',axis =1, inplace = True)"
   ]
  },
  {
   "cell_type": "markdown",
   "metadata": {},
   "source": [
    "# Geographical Features: longitude, latitude, gps_height,basin, subvillage, region, region_code,district_code,lga,ward."
   ]
  },
  {
   "cell_type": "code",
   "execution_count": 11,
   "metadata": {
    "collapsed": false
   },
   "outputs": [],
   "source": [
    "geo_data = data[['longitude','latitude','gps_height','basin','subvillage',\n",
    "                 'region','region_code','district_code','lga','ward']]"
   ]
  },
  {
   "cell_type": "code",
   "execution_count": 12,
   "metadata": {
    "collapsed": false
   },
   "outputs": [
    {
     "data": {
      "text/plain": [
       "array([[<matplotlib.axes._subplots.AxesSubplot object at 0x0000000010DC35C0>,\n",
       "        <matplotlib.axes._subplots.AxesSubplot object at 0x0000000010778400>],\n",
       "       [<matplotlib.axes._subplots.AxesSubplot object at 0x00000000106ACBA8>,\n",
       "        <matplotlib.axes._subplots.AxesSubplot object at 0x000000000BE4C860>]], dtype=object)"
      ]
     },
     "execution_count": 12,
     "metadata": {},
     "output_type": "execute_result"
    },
    {
     "data": {
      "image/png": "[encoded data removed]",
      "text/plain": [
       "<matplotlib.figure.Figure at 0x10dc3080>"
      ]
     },
     "metadata": {},
     "output_type": "display_data"
    }
   ],
   "source": [
    "geo_data[['longitude','latitude','gps_height']].hist(figsize = (20,10))"
   ]
  },
  {
   "cell_type": "code",
   "execution_count": 13,
   "metadata": {
    "collapsed": false
   },
   "outputs": [
    {
     "data": {
      "text/plain": [
       "region  region_code  district_code  basin        subvillage           lga      ward       \n",
       "Arusha  2            1              Internal     Alasai               Monduli  Monduli Juu    1\n",
       "                                                 Arkaria              Monduli  Sepeko         5\n",
       "                                                 Baraka               Monduli  Esilalei       4\n",
       "                                                 Bomba                Monduli  Selela         3\n",
       "                                                 Chemchem             Monduli  Esilalei       1\n",
       "                                                 Duka Bovu            Monduli  Sepeko         5\n",
       "                                                 Dukambili            Monduli  Sepeko         2\n",
       "                                                 Emogoro              Monduli  Sepeko         1\n",
       "                                                 Emugurunanyoki       Monduli  Sepeko         1\n",
       "                                                 Emurua               Monduli  Monduli Juu    1\n",
       "                                                 Engasiti             Monduli  Makuyuni       1\n",
       "                                                 Engigiri             Monduli  Sepeko         1\n",
       "                                                 Engloriti            Monduli  Sepeko         1\n",
       "                                                 Esmiti               Monduli  Esilalei       1\n",
       "                                                 Hyhh                 Monduli  Engaruka       1\n",
       "                                                 Imbopong             Monduli  Monduli Juu    1\n",
       "                                                 Jangwani             Monduli  Esilalei       5\n",
       "                                                 Kambi Ya Mkaa        Monduli  Esilalei       1\n",
       "                                                 Kanisani             Monduli  Makuyuni       1\n",
       "                                                 Kigongoni            Monduli  Esilalei       6\n",
       "                                                 Kirurumo             Monduli  Esilalei       1\n",
       "                                                 Kisutu               Monduli  Esilalei       1\n",
       "                                                 Korea                Monduli  Esilalei       1\n",
       "                                                 Larmaroro            Monduli  Monduli Juu    5\n",
       "                                                 Latimi               Monduli  Esilalei       1\n",
       "                                                 Lemioni              Monduli  Makuyuni       2\n",
       "                                                 Lengeni              Monduli  Engutoto       1\n",
       "                                                 Lengine              Monduli  Engutoto       2\n",
       "                                                 Lesala               Monduli  Engutoto       1\n",
       "                                                 Losingirani          Monduli  Sepeko         1\n",
       "                                                                                             ..\n",
       "Tanga   4            8              Pangani      Totohovu             Mkinga   Moa            1\n",
       "                                                 Ushirika             Mkinga   Daluni         1\n",
       "                                                 Vibambani            Mkinga   Manza          1\n",
       "                                                 Vuo                  Mkinga   Moa            1\n",
       "                                                 Vyeru                Mkinga   Kwale          1\n",
       "                                                 Zigua                Mkinga   Maramba        1\n",
       "                                                 Zigua A              Mkinga   Maramba        5\n",
       "                                                 Zingibali            Mkinga   Moa            5\n",
       "                                                 Zingibali Secondary  Mkinga   Moa            4\n",
       "        5            1              Wami / Ruvu  Chang'Ombe           Kilindi  Kikunde        2\n",
       "                                                 Chanika              Kilindi  Kikunde        2\n",
       "                                                 Chiwaga              Kilindi  Kikunde        1\n",
       "                                                 Diola                Kilindi  Kikunde        3\n",
       "                                                 Dukani               Kilindi  Kikunde        4\n",
       "                                                 Dukani B             Kilindi  Kikunde        1\n",
       "                                                 Embeti               Kilindi  Kikunde        1\n",
       "                                                 Ibong'O              Kilindi  Kikunde        3\n",
       "                                                 Kijiweni             Kilindi  Kikunde        1\n",
       "                                                 Malowelo             Kilindi  Kikunde        2\n",
       "                                                 Mapendekezo          Kilindi  Kikunde        1\n",
       "                                                 Masimbani Kilama     Kilindi  Kikunde        1\n",
       "                                                 Matale               Kilindi  Kikunde        1\n",
       "                                                 Misheni              Kilindi  Kikunde        3\n",
       "                                                 Mkuyuni              Kilindi  Kikunde        1\n",
       "                                                 Mkwajuni             Kilindi  Kikunde        1\n",
       "                                                 Morogoro             Kilindi  Kikunde        1\n",
       "                                                 Rebenya              Kilindi  Kikunde        2\n",
       "                                                 Temeke A             Kilindi  Kikunde        1\n",
       "                                                 Ungulodi             Kilindi  Kikunde        1\n",
       "                                                 Walambe              Kilindi  Kikunde        1\n",
       "Length: 27584, dtype: int64"
      ]
     },
     "execution_count": 13,
     "metadata": {},
     "output_type": "execute_result"
    }
   ],
   "source": [
    "geo_data.groupby(['region','region_code','district_code','basin','subvillage','lga','ward']).size()"
   ]
  },
  {
   "cell_type": "code",
   "execution_count": 14,
   "metadata": {
    "collapsed": false
   },
   "outputs": [
    {
     "name": "stdout",
     "output_type": "stream",
     "text": [
      "longitude 57516 [ 34.93809275  34.6987661   37.46066446 ...,  34.01708706  35.86131531\n",
      "  38.10404822]\n",
      "\n",
      "latitude 57517 [-9.85632177 -2.14746569 -3.82132853 ..., -8.75043433 -6.37857327\n",
      " -6.74746425]\n",
      "\n",
      "gps_height 2428 [1390 1399  686 ...,  -90 2091 2366]\n",
      "\n",
      "basin 9 ['Lake Nyasa' 'Lake Victoria' 'Pangani' 'Ruvuma / Southern Coast'\n",
      " 'Internal' 'Lake Tanganyika' 'Wami / Ruvu' 'Rufiji' 'Lake Rukwa']\n",
      "\n",
      "subvillage 19288 ['Mnyusi B' 'Nyamara' 'Majengo' ..., 'Itete B' 'Maore Kati' 'Kikatanyemba']\n",
      "\n",
      "region 21 ['Iringa' 'Mara' 'Manyara' 'Mtwara' 'Kagera' 'Tanga' 'Shinyanga' 'Tabora'\n",
      " 'Pwani' 'Ruvuma' 'Kilimanjaro' 'Rukwa' 'Mwanza' 'Kigoma' 'Lindi' 'Dodoma'\n",
      " 'Arusha' 'Mbeya' 'Singida' 'Morogoro' 'Dar es Salaam']\n",
      "\n",
      "region_code 27 [11 20 21 90 18  4 17 14 60 10  3 15 19 16 80  1  6  2 12 13  5  7 99 24  9\n",
      "  8 40]\n",
      "\n",
      "district_code 20 [ 5  2  4 63  1  8  3  6 43  7 23 33 53 62 60 30 13  0 80 67]\n",
      "\n",
      "lga 125 ['Ludewa' 'Serengeti' 'Simanjiro' 'Nanyumbu' 'Karagwe' 'Mkinga'\n",
      " 'Shinyanga Rural' 'Kahama' 'Tabora Urban' 'Mkuranga' 'Namtumbo' 'Maswa'\n",
      " 'Siha' 'Meatu' 'Sumbawanga Rural' 'Njombe' 'Ukerewe' 'Bariadi' 'Same'\n",
      " 'Kigoma Rural' 'Moshi Rural' 'Lindi Rural' 'Rombo' 'Chamwino' 'Bagamoyo'\n",
      " 'Mafia' 'Arusha Rural' 'Kyela' 'Kondoa' 'Kilolo' 'Kibondo' 'Makete'\n",
      " 'Singida Rural' 'Masasi' 'Rungwe' 'Moshi Urban' 'Geita' 'Mbulu'\n",
      " 'Bukoba Rural' 'Muheza' 'Lushoto' 'Meru' 'Iramba' 'Kilombero' 'Mbarali'\n",
      " 'Kasulu' 'Bukoba Urban' 'Korogwe' 'Bukombe' 'Morogoro Rural' 'Kishapu'\n",
      " 'Musoma Rural' 'Sengerema' 'Iringa Rural' 'Muleba' 'Dodoma Urban'\n",
      " 'Ruangwa' 'Hanang' 'Misenyi' 'Missungwi' 'Songea Rural' 'Tanga' 'Tunduru'\n",
      " 'Hai' 'Mwanga' 'Chato' 'Biharamulo' 'Ileje' 'Mpwapwa' 'Mvomero' 'Bunda'\n",
      " 'Kiteto' 'Longido' 'Urambo' 'Mbozi' 'Sikonge' 'Ilala' 'Tarime' 'Temeke'\n",
      " 'Mbeya Rural' 'Magu' 'Manyoni' 'Igunga' 'Kilosa' 'Babati' 'Chunya'\n",
      " 'Mufindi' 'Mtwara Rural' 'Ngara' 'Karatu' 'Mpanda' 'Kibaha'\n",
      " 'Singida Urban' 'Newala' 'Nzega' 'Nkasi' 'Bahi' 'Mbinga' 'Ulanga'\n",
      " 'Sumbawanga Urban' 'Morogoro Urban' 'Tandahimba' 'Kisarawe' 'Mtwara Urban'\n",
      " 'Kilwa' 'Liwale' 'Kongwa' 'Uyui' 'Rufiji' 'Kwimba' 'Monduli'\n",
      " 'Shinyanga Urban' 'Ngorongoro' 'Handeni' 'Rorya' 'Pangani' 'Lindi Urban'\n",
      " 'Nachingwea' 'Kinondoni' 'Kigoma Urban' 'Ilemela' 'Kilindi' 'Arusha Urban'\n",
      " 'Songea Urban' 'Nyamagana']\n",
      "\n",
      "ward 2092 ['Mundindi' 'Natta' 'Ngorika' ..., 'Chinugulu' 'Nyamtinga' 'Kinungu']\n",
      "\n"
     ]
    }
   ],
   "source": [
    "for i in geo_data.columns:\n",
    "    print i,len(geo_data[i].unique()),geo_data[i].unique()\n",
    "    print \"\""
   ]
  },
  {
   "cell_type": "code",
   "execution_count": 15,
   "metadata": {
    "collapsed": false
   },
   "outputs": [
    {
     "name": "stdout",
     "output_type": "stream",
     "text": [
      "<class 'pandas.core.frame.DataFrame'>\n",
      "Int64Index: 59400 entries, 0 to 59399\n",
      "Data columns (total 10 columns):\n",
      "longitude        59400 non-null float64\n",
      "latitude         59400 non-null float64\n",
      "gps_height       59400 non-null int64\n",
      "basin            59400 non-null object\n",
      "subvillage       59029 non-null object\n",
      "region           59400 non-null object\n",
      "region_code      59400 non-null int64\n",
      "district_code    59400 non-null int64\n",
      "lga              59400 non-null object\n",
      "ward             59400 non-null object\n",
      "dtypes: float64(2), int64(3), object(5)\n",
      "memory usage: 7.5+ MB\n"
     ]
    }
   ],
   "source": [
    "geo_data.info()"
   ]
  },
  {
   "cell_type": "markdown",
   "metadata": {},
   "source": [
    "Looking at the data above, for initial attempt we will;\n",
    "1. Impute Longitude,Latitude and GPS Height by mean\n",
    "2. For remaining features will encode the values individually."
   ]
  },
  {
   "cell_type": "code",
   "execution_count": 16,
   "metadata": {
    "collapsed": true
   },
   "outputs": [],
   "source": [
    "mean_imputation = ['longitude','latitude','gps_height']\n",
    "label_encode = ['basin','subvillage','region','region_code','district_code','lga','ward']"
   ]
  },
  {
   "cell_type": "code",
   "execution_count": 17,
   "metadata": {
    "collapsed": false
   },
   "outputs": [],
   "source": [
    "def geo_feat_eng(df):\n",
    "    le = LabelEncoder()\n",
    "    for i in df.columns:\n",
    "        print \"\"\n",
    "        print \"Picked up Feature: \"+i\n",
    "        if i in mean_imputation:\n",
    "            df[i].replace(0, np.nan, inplace=True)\n",
    "            df[i].fillna(df[i].mean(),inplace = True)\n",
    "            print \"Imputed mean for Feature: \"+i\n",
    "        elif i in label_encode:\n",
    "            le.fit(df[i])\n",
    "            print \"Fitting LabelEncoder on Feature: \"+i\n",
    "            df[i] = le.transform(df[i])\n",
    "            print \"Transformed Feature: \"+i\n",
    "        else:\n",
    "            print \"Ignored, Out of scope\"\n",
    "    return df.dtypes"
   ]
  },
  {
   "cell_type": "code",
   "execution_count": 18,
   "metadata": {
    "collapsed": false
   },
   "outputs": [
    {
     "name": "stdout",
     "output_type": "stream",
     "text": [
      "\n",
      "Picked up Feature: id\n",
      "Ignored, Out of scope\n",
      "\n",
      "Picked up Feature: amount_tsh\n",
      "Ignored, Out of scope\n",
      "\n",
      "Picked up Feature: funder\n",
      "Ignored, Out of scope\n",
      "\n",
      "Picked up Feature: gps_height\n",
      "Imputed mean for Feature: gps_height\n",
      "\n",
      "Picked up Feature: installer\n",
      "Ignored, Out of scope\n",
      "\n",
      "Picked up Feature: longitude\n",
      "Imputed mean for Feature: longitude\n",
      "\n",
      "Picked up Feature: latitude\n",
      "Imputed mean for Feature: latitude\n",
      "\n",
      "Picked up Feature: wpt_name\n",
      "Ignored, Out of scope\n",
      "\n",
      "Picked up Feature: num_private\n",
      "Ignored, Out of scope\n",
      "\n",
      "Picked up Feature: basin\n",
      "Fitting LabelEncoder on Feature: basin"
     ]
    },
    {
     "name": "stderr",
     "output_type": "stream",
     "text": [
      "C:\\Anaconda\\lib\\site-packages\\numpy\\lib\\arraysetops.py:216: FutureWarning: numpy not_equal will not check object identity in the future. The comparison did not return the same result as suggested by the identity (`is`)) and will change.\n",
      "  flag = np.concatenate(([True], aux[1:] != aux[:-1]))\n",
      "C:\\Anaconda\\lib\\site-packages\\numpy\\lib\\arraysetops.py:275: FutureWarning: numpy equal will not check object identity in the future. The comparison did not return the same result as suggested by the identity (`is`)) and will change.\n",
      "  return aux[:-1][aux[1:] == aux[:-1]]\n"
     ]
    },
    {
     "name": "stdout",
     "output_type": "stream",
     "text": [
      "\n",
      "Transformed Feature: basin\n",
      "\n",
      "Picked up Feature: subvillage\n",
      "Fitting LabelEncoder on Feature: subvillage\n",
      "Transformed Feature: subvillage\n",
      "\n",
      "Picked up Feature: region\n",
      "Fitting LabelEncoder on Feature: region\n",
      "Transformed Feature: region\n",
      "\n",
      "Picked up Feature: region_code\n",
      "Fitting LabelEncoder on Feature: region_code\n",
      "Transformed Feature: region_code\n",
      "\n",
      "Picked up Feature: district_code\n",
      "Fitting LabelEncoder on Feature: district_code\n",
      "Transformed Feature: district_code\n",
      "\n",
      "Picked up Feature: lga\n",
      "Fitting LabelEncoder on Feature: lga\n",
      "Transformed Feature: lga\n",
      "\n",
      "Picked up Feature: ward\n",
      "Fitting LabelEncoder on Feature: ward\n",
      "Transformed Feature: ward\n",
      "\n",
      "Picked up Feature: population\n",
      "Ignored, Out of scope\n",
      "\n",
      "Picked up Feature: public_meeting\n",
      "Ignored, Out of scope\n",
      "\n",
      "Picked up Feature: recorded_by\n",
      "Ignored, Out of scope\n",
      "\n",
      "Picked up Feature: scheme_management\n",
      "Ignored, Out of scope\n",
      "\n",
      "Picked up Feature: scheme_name\n",
      "Ignored, Out of scope\n",
      "\n",
      "Picked up Feature: permit\n",
      "Ignored, Out of scope\n",
      "\n",
      "Picked up Feature: extraction_type\n",
      "Ignored, Out of scope\n",
      "\n",
      "Picked up Feature: extraction_type_group\n",
      "Ignored, Out of scope\n",
      "\n",
      "Picked up Feature: extraction_type_class\n",
      "Ignored, Out of scope\n",
      "\n",
      "Picked up Feature: management\n",
      "Ignored, Out of scope\n",
      "\n",
      "Picked up Feature: management_group\n",
      "Ignored, Out of scope\n",
      "\n",
      "Picked up Feature: payment\n",
      "Ignored, Out of scope\n",
      "\n",
      "Picked up Feature: payment_type\n",
      "Ignored, Out of scope\n",
      "\n",
      "Picked up Feature: water_quality\n",
      "Ignored, Out of scope\n",
      "\n",
      "Picked up Feature: quality_group\n",
      "Ignored, Out of scope\n",
      "\n",
      "Picked up Feature: quantity\n",
      "Ignored, Out of scope\n",
      "\n",
      "Picked up Feature: quantity_group\n",
      "Ignored, Out of scope\n",
      "\n",
      "Picked up Feature: source\n",
      "Ignored, Out of scope\n",
      "\n",
      "Picked up Feature: source_type\n",
      "Ignored, Out of scope\n",
      "\n",
      "Picked up Feature: source_class\n",
      "Ignored, Out of scope\n",
      "\n",
      "Picked up Feature: waterpoint_type\n",
      "Ignored, Out of scope\n",
      "\n",
      "Picked up Feature: waterpoint_type_group\n",
      "Ignored, Out of scope\n",
      "\n",
      "Picked up Feature: status_group\n",
      "Ignored, Out of scope\n",
      "\n",
      "Picked up Feature: age_of_pump_mnths\n",
      "Ignored, Out of scope\n"
     ]
    },
    {
     "data": {
      "text/plain": [
       "id                         int64\n",
       "amount_tsh               float64\n",
       "funder                    object\n",
       "gps_height               float64\n",
       "installer                 object\n",
       "longitude                float64\n",
       "latitude                 float64\n",
       "wpt_name                  object\n",
       "num_private                int64\n",
       "basin                      int64\n",
       "subvillage                 int64\n",
       "region                     int64\n",
       "region_code                int64\n",
       "district_code              int64\n",
       "lga                        int64\n",
       "ward                       int64\n",
       "population                 int64\n",
       "public_meeting            object\n",
       "recorded_by               object\n",
       "scheme_management         object\n",
       "scheme_name               object\n",
       "permit                    object\n",
       "extraction_type           object\n",
       "extraction_type_group     object\n",
       "extraction_type_class     object\n",
       "management                object\n",
       "management_group          object\n",
       "payment                   object\n",
       "payment_type              object\n",
       "water_quality             object\n",
       "quality_group             object\n",
       "quantity                  object\n",
       "quantity_group            object\n",
       "source                    object\n",
       "source_type               object\n",
       "source_class              object\n",
       "waterpoint_type           object\n",
       "waterpoint_type_group     object\n",
       "status_group               int64\n",
       "age_of_pump_mnths        float64\n",
       "dtype: object"
      ]
     },
     "execution_count": 18,
     "metadata": {},
     "output_type": "execute_result"
    }
   ],
   "source": [
    "geo_feat_eng(data)"
   ]
  },
  {
   "cell_type": "markdown",
   "metadata": {
    "collapsed": true
   },
   "source": [
    "# Remaining Features:"
   ]
  },
  {
   "cell_type": "code",
   "execution_count": 19,
   "metadata": {
    "collapsed": false
   },
   "outputs": [],
   "source": [
    "other_feats = [(i) for i in data.columns if data[i].dtype not in ['int64','float64']]"
   ]
  },
  {
   "cell_type": "code",
   "execution_count": 20,
   "metadata": {
    "collapsed": true
   },
   "outputs": [],
   "source": [
    "remaining_feats = []"
   ]
  },
  {
   "cell_type": "code",
   "execution_count": 21,
   "metadata": {
    "collapsed": false
   },
   "outputs": [
    {
     "name": "stdout",
     "output_type": "stream",
     "text": [
      "24 ['funder', 'installer', 'wpt_name', 'public_meeting', 'recorded_by', 'scheme_management', 'scheme_name', 'permit', 'extraction_type', 'extraction_type_group', 'extraction_type_class', 'management', 'management_group', 'payment', 'payment_type', 'water_quality', 'quality_group', 'quantity', 'quantity_group', 'source', 'source_type', 'source_class', 'waterpoint_type', 'waterpoint_type_group']\n"
     ]
    }
   ],
   "source": [
    "print len(other_feats), other_feats"
   ]
  },
  {
   "cell_type": "code",
   "execution_count": 22,
   "metadata": {
    "collapsed": false
   },
   "outputs": [],
   "source": [
    "# Lets check out features which seem to be repeating but the data might be at a different level.\n",
    "def ret_grouped_view(cols):\n",
    "    lcols = list(cols)\n",
    "    return data.groupby(lcols).size()"
   ]
  },
  {
   "cell_type": "code",
   "execution_count": 23,
   "metadata": {
    "collapsed": false
   },
   "outputs": [],
   "source": [
    "# In scheme_names there were same strings but segregrated in diff groups due to caps, maybe should do this with\n",
    "# everything before encoding.\n",
    "\n",
    "#data['scheme_name'] = data['scheme_name'].str.lower()\n",
    "ret_grouped_view(('scheme_management', 'scheme_name'))\n",
    "#data['scheme_name'].value_counts()\n",
    "\n",
    "# Tried to make sence of scheme names but it doesn't seem to have any logic, hence dropping name and adding\n",
    "# to rem_feat list.\n",
    "\n",
    "data.drop('scheme_name',axis = 1, inplace = True)\n",
    "remaining_feats.append('scheme_management')"
   ]
  },
  {
   "cell_type": "code",
   "execution_count": 24,
   "metadata": {
    "collapsed": false
   },
   "outputs": [
    {
     "data": {
      "text/plain": [
       "extraction_type            extraction_type_group  extraction_type_class\n",
       "afridev                    afridev                handpump                  1770\n",
       "cemo                       other motorpump        motorpump                   90\n",
       "climax                     other motorpump        motorpump                   32\n",
       "gravity                    gravity                gravity                  26780\n",
       "india mark ii              india mark ii          handpump                  2400\n",
       "india mark iii             india mark iii         handpump                    98\n",
       "ksb                        submersible            submersible               1415\n",
       "mono                       mono                   motorpump                 2865\n",
       "nira/tanira                nira/tanira            handpump                  8154\n",
       "other                      other                  other                     6430\n",
       "other - mkulima/shinyanga  other handpump         handpump                     2\n",
       "other - play pump          other handpump         handpump                    85\n",
       "other - rope pump          rope pump              rope pump                  451\n",
       "other - swn 81             other handpump         handpump                   229\n",
       "submersible                submersible            submersible               4764\n",
       "swn 80                     swn 80                 handpump                  3670\n",
       "walimi                     other handpump         handpump                    48\n",
       "windmill                   wind-powered           wind-powered               117\n",
       "dtype: int64"
      ]
     },
     "execution_count": 24,
     "metadata": {},
     "output_type": "execute_result"
    }
   ],
   "source": [
    "ret_grouped_view(('extraction_type', 'extraction_type_group','extraction_type_class'))"
   ]
  },
  {
   "cell_type": "code",
   "execution_count": 25,
   "metadata": {
    "collapsed": true
   },
   "outputs": [],
   "source": [
    "# Dropping ext type and using other two\n",
    "data.drop('extraction_type_group',axis = 1,inplace = True)\n",
    "remaining_feats.append('extraction_type')\n",
    "remaining_feats.append('extraction_type_class')"
   ]
  },
  {
   "cell_type": "code",
   "execution_count": 26,
   "metadata": {
    "collapsed": false
   },
   "outputs": [
    {
     "data": {
      "text/plain": [
       "management        management_group\n",
       "company           commercial            685\n",
       "other             other                 844\n",
       "other - school    other                  99\n",
       "parastatal        parastatal           1768\n",
       "private operator  commercial           1971\n",
       "trust             commercial             78\n",
       "unknown           unknown               561\n",
       "vwc               user-group          40507\n",
       "water authority   commercial            904\n",
       "water board       user-group           2933\n",
       "wua               user-group           2535\n",
       "wug               user-group           6515\n",
       "dtype: int64"
      ]
     },
     "execution_count": 26,
     "metadata": {},
     "output_type": "execute_result"
    }
   ],
   "source": [
    "ret_grouped_view(('management', 'management_group'))"
   ]
  },
  {
   "cell_type": "code",
   "execution_count": 27,
   "metadata": {
    "collapsed": true
   },
   "outputs": [],
   "source": [
    "# Dropping mgmt grp\n",
    "data.drop('management_group',axis = 1, inplace=True)\n",
    "remaining_feats.append('management')"
   ]
  },
  {
   "cell_type": "code",
   "execution_count": 28,
   "metadata": {
    "collapsed": false
   },
   "outputs": [
    {
     "data": {
      "text/plain": [
       "water_quality       quality_group\n",
       "coloured            colored            490\n",
       "fluoride            fluoride           200\n",
       "fluoride abandoned  fluoride            17\n",
       "milky               milky              804\n",
       "salty               salty             4856\n",
       "salty abandoned     salty              339\n",
       "soft                good             50818\n",
       "unknown             unknown           1876\n",
       "dtype: int64"
      ]
     },
     "execution_count": 28,
     "metadata": {},
     "output_type": "execute_result"
    }
   ],
   "source": [
    "ret_grouped_view(('water_quality', 'quality_group'))"
   ]
  },
  {
   "cell_type": "code",
   "execution_count": 29,
   "metadata": {
    "collapsed": true
   },
   "outputs": [],
   "source": [
    "# Dropping quality_grp\n",
    "data.drop('quality_group',axis = 1, inplace=True)\n",
    "remaining_feats.append('water_quality')"
   ]
  },
  {
   "cell_type": "code",
   "execution_count": 30,
   "metadata": {
    "collapsed": false
   },
   "outputs": [
    {
     "data": {
      "text/plain": [
       "quantity      quantity_group\n",
       "dry           dry                6246\n",
       "enough        enough            33186\n",
       "insufficient  insufficient      15129\n",
       "seasonal      seasonal           4050\n",
       "unknown       unknown             789\n",
       "dtype: int64"
      ]
     },
     "execution_count": 30,
     "metadata": {},
     "output_type": "execute_result"
    }
   ],
   "source": [
    "ret_grouped_view(('quantity', 'quantity_group'))"
   ]
  },
  {
   "cell_type": "code",
   "execution_count": 31,
   "metadata": {
    "collapsed": true
   },
   "outputs": [],
   "source": [
    "# Dropping quantity_group\n",
    "data.drop('quantity_group',axis = 1, inplace=True)\n",
    "remaining_feats.append('quantity')"
   ]
  },
  {
   "cell_type": "code",
   "execution_count": 32,
   "metadata": {
    "collapsed": false
   },
   "outputs": [
    {
     "data": {
      "text/plain": [
       "source                source_type           source_class\n",
       "dam                   dam                   surface           656\n",
       "hand dtw              borehole              groundwater       874\n",
       "lake                  river/lake            surface           765\n",
       "machine dbh           borehole              groundwater     11075\n",
       "other                 other                 unknown           212\n",
       "rainwater harvesting  rainwater harvesting  surface          2295\n",
       "river                 river/lake            surface          9612\n",
       "shallow well          shallow well          groundwater     16824\n",
       "spring                spring                groundwater     17021\n",
       "unknown               other                 unknown            66\n",
       "dtype: int64"
      ]
     },
     "execution_count": 32,
     "metadata": {},
     "output_type": "execute_result"
    }
   ],
   "source": [
    "ret_grouped_view(('source', 'source_type', 'source_class'))"
   ]
  },
  {
   "cell_type": "code",
   "execution_count": 33,
   "metadata": {
    "collapsed": true
   },
   "outputs": [],
   "source": [
    "#As source seems to be cleanest using source dropping other two.\n",
    "data.drop('source',inplace=True,axis=1)\n",
    "data.drop('source_type',inplace=True,axis=1)\n",
    "remaining_feats.append('source_class')"
   ]
  },
  {
   "cell_type": "code",
   "execution_count": 34,
   "metadata": {
    "collapsed": false
   },
   "outputs": [
    {
     "data": {
      "text/plain": [
       "waterpoint_type              waterpoint_type_group\n",
       "cattle trough                cattle trough              116\n",
       "communal standpipe           communal standpipe       28522\n",
       "communal standpipe multiple  communal standpipe        6103\n",
       "dam                          dam                          7\n",
       "hand pump                    hand pump                17488\n",
       "improved spring              improved spring            784\n",
       "other                        other                     6380\n",
       "dtype: int64"
      ]
     },
     "execution_count": 34,
     "metadata": {},
     "output_type": "execute_result"
    }
   ],
   "source": [
    "ret_grouped_view(('waterpoint_type', 'waterpoint_type_group'))"
   ]
  },
  {
   "cell_type": "code",
   "execution_count": 35,
   "metadata": {
    "collapsed": true
   },
   "outputs": [],
   "source": [
    "data.drop('waterpoint_type_group',inplace=True,axis=1)\n",
    "remaining_feats.append('waterpoint_type')"
   ]
  },
  {
   "cell_type": "code",
   "execution_count": 36,
   "metadata": {
    "collapsed": false
   },
   "outputs": [
    {
     "data": {
      "text/plain": [
       "payment                payment_type\n",
       "never pay              never pay       25348\n",
       "other                  other            1054\n",
       "pay annually           annually         3642\n",
       "pay monthly            monthly          8300\n",
       "pay per bucket         per bucket       8985\n",
       "pay when scheme fails  on failure       3914\n",
       "unknown                unknown          8157\n",
       "dtype: int64"
      ]
     },
     "execution_count": 36,
     "metadata": {},
     "output_type": "execute_result"
    }
   ],
   "source": [
    "ret_grouped_view(('payment','payment_type'))"
   ]
  },
  {
   "cell_type": "code",
   "execution_count": 37,
   "metadata": {
    "collapsed": true
   },
   "outputs": [],
   "source": [
    "data.drop('payment',inplace=True,axis=1)\n",
    "remaining_feats.append('payment_type')"
   ]
  },
  {
   "cell_type": "code",
   "execution_count": 38,
   "metadata": {
    "collapsed": false
   },
   "outputs": [
    {
     "name": "stdout",
     "output_type": "stream",
     "text": [
      "<class 'pandas.core.frame.DataFrame'>\n",
      "Int64Index: 59400 entries, 0 to 59399\n",
      "Data columns (total 31 columns):\n",
      "id                       59400 non-null int64\n",
      "amount_tsh               59400 non-null float64\n",
      "funder                   55765 non-null object\n",
      "gps_height               59400 non-null float64\n",
      "installer                55745 non-null object\n",
      "longitude                59400 non-null float64\n",
      "latitude                 59400 non-null float64\n",
      "wpt_name                 59400 non-null object\n",
      "num_private              59400 non-null int64\n",
      "basin                    59400 non-null int64\n",
      "subvillage               59400 non-null int64\n",
      "region                   59400 non-null int64\n",
      "region_code              59400 non-null int64\n",
      "district_code            59400 non-null int64\n",
      "lga                      59400 non-null int64\n",
      "ward                     59400 non-null int64\n",
      "population               59400 non-null int64\n",
      "public_meeting           56066 non-null object\n",
      "recorded_by              59400 non-null object\n",
      "scheme_management        55523 non-null object\n",
      "permit                   56344 non-null object\n",
      "extraction_type          59400 non-null object\n",
      "extraction_type_class    59400 non-null object\n",
      "management               59400 non-null object\n",
      "payment_type             59400 non-null object\n",
      "water_quality            59400 non-null object\n",
      "quantity                 59400 non-null object\n",
      "source_class             59400 non-null object\n",
      "waterpoint_type          59400 non-null object\n",
      "status_group             59400 non-null int64\n",
      "age_of_pump_mnths        59400 non-null float64\n",
      "dtypes: float64(5), int64(11), object(15)\n",
      "memory usage: 17.0+ MB\n"
     ]
    }
   ],
   "source": [
    "data.info()"
   ]
  },
  {
   "cell_type": "code",
   "execution_count": 39,
   "metadata": {
    "collapsed": false
   },
   "outputs": [
    {
     "name": "stdout",
     "output_type": "stream",
     "text": [
      "funder\n",
      "installer\n",
      "wpt_name\n",
      "public_meeting\n",
      "recorded_by\n",
      "permit\n"
     ]
    }
   ],
   "source": [
    "# There were non repeating objects which we need to account for:\n",
    "for i in data.columns:\n",
    "    if data[i].dtype not in ['int64','float64']:\n",
    "        if i not in remaining_feats:\n",
    "            print i"
   ]
  },
  {
   "cell_type": "code",
   "execution_count": 40,
   "metadata": {
    "collapsed": true
   },
   "outputs": [],
   "source": [
    "#Also dropping pub meeting, rec by\n",
    "data.drop('public_meeting',inplace=True,axis=1)\n",
    "data.drop('recorded_by',inplace=True,axis=1)\n",
    "\n",
    "remaining_feats.append('funder')\n",
    "remaining_feats.append('installer')\n",
    "remaining_feats.append('wpt_name')"
   ]
  },
  {
   "cell_type": "code",
   "execution_count": 41,
   "metadata": {
    "collapsed": false
   },
   "outputs": [
    {
     "data": {
      "text/plain": [
       "['scheme_management',\n",
       " 'extraction_type',\n",
       " 'extraction_type_class',\n",
       " 'management',\n",
       " 'water_quality',\n",
       " 'quantity',\n",
       " 'source_class',\n",
       " 'waterpoint_type',\n",
       " 'payment_type',\n",
       " 'funder',\n",
       " 'installer',\n",
       " 'wpt_name']"
      ]
     },
     "execution_count": 41,
     "metadata": {},
     "output_type": "execute_result"
    }
   ],
   "source": [
    "remaining_feats"
   ]
  },
  {
   "cell_type": "code",
   "execution_count": 42,
   "metadata": {
    "collapsed": false
   },
   "outputs": [
    {
     "name": "stdout",
     "output_type": "stream",
     "text": [
      "scheme_management object\n",
      "extraction_type object\n",
      "extraction_type_class object\n",
      "management object\n",
      "water_quality object\n",
      "quantity object\n",
      "source_class object\n",
      "waterpoint_type object\n",
      "payment_type object\n",
      "funder object\n",
      "installer object\n",
      "wpt_name object\n"
     ]
    }
   ],
   "source": [
    "for i in remaining_feats:\n",
    "    print i, data[i].dtypes"
   ]
  },
  {
   "cell_type": "code",
   "execution_count": 43,
   "metadata": {
    "collapsed": false
   },
   "outputs": [],
   "source": [
    "def feat_eng(df):\n",
    "    le = LabelEncoder()\n",
    "    for i in df.columns:\n",
    "        print \"\"\n",
    "        print \"Picked up Feature: \"+i\n",
    "        if i in remaining_feats:\n",
    "            df[i] = df[i].str.lower()\n",
    "            le.fit(df[i])\n",
    "            print \"Fitting LabelEncoder on Feature: \"+i\n",
    "            df[i] = le.transform(df[i])\n",
    "            print \"Transformed Feature: \"+i\n",
    "        else:\n",
    "            print \"Ignored, Out of scope\"\n",
    "    return df.dtypes"
   ]
  },
  {
   "cell_type": "code",
   "execution_count": 44,
   "metadata": {
    "collapsed": false
   },
   "outputs": [
    {
     "name": "stdout",
     "output_type": "stream",
     "text": [
      "\n",
      "Picked up Feature: id\n",
      "Ignored, Out of scope\n",
      "\n",
      "Picked up Feature: amount_tsh\n",
      "Ignored, Out of scope\n",
      "\n",
      "Picked up Feature: funder\n",
      "Fitting LabelEncoder on Feature: funder\n",
      "Transformed Feature: funder\n",
      "\n",
      "Picked up Feature: gps_height\n",
      "Ignored, Out of scope\n",
      "\n",
      "Picked up Feature: installer\n",
      "Fitting LabelEncoder on Feature: installer\n",
      "Transformed Feature: installer\n",
      "\n",
      "Picked up Feature: longitude\n",
      "Ignored, Out of scope\n",
      "\n",
      "Picked up Feature: latitude\n",
      "Ignored, Out of scope\n",
      "\n",
      "Picked up Feature: wpt_name\n",
      "Fitting LabelEncoder on Feature: wpt_name\n",
      "Transformed Feature: wpt_name\n",
      "\n",
      "Picked up Feature: num_private\n",
      "Ignored, Out of scope\n",
      "\n",
      "Picked up Feature: basin\n",
      "Ignored, Out of scope\n",
      "\n",
      "Picked up Feature: subvillage\n",
      "Ignored, Out of scope\n",
      "\n",
      "Picked up Feature: region\n",
      "Ignored, Out of scope\n",
      "\n",
      "Picked up Feature: region_code\n",
      "Ignored, Out of scope\n",
      "\n",
      "Picked up Feature: district_code\n",
      "Ignored, Out of scope\n",
      "\n",
      "Picked up Feature: lga\n",
      "Ignored, Out of scope\n",
      "\n",
      "Picked up Feature: ward\n",
      "Ignored, Out of scope\n",
      "\n",
      "Picked up Feature: population\n",
      "Ignored, Out of scope\n",
      "\n",
      "Picked up Feature: scheme_management\n",
      "Fitting LabelEncoder on Feature: scheme_management\n",
      "Transformed Feature: scheme_management\n",
      "\n",
      "Picked up Feature: permit\n",
      "Ignored, Out of scope\n",
      "\n",
      "Picked up Feature: extraction_type\n",
      "Fitting LabelEncoder on Feature: extraction_type\n",
      "Transformed Feature: extraction_type\n",
      "\n",
      "Picked up Feature: extraction_type_class\n",
      "Fitting LabelEncoder on Feature: extraction_type_class\n",
      "Transformed Feature: extraction_type_class\n",
      "\n",
      "Picked up Feature: management\n",
      "Fitting LabelEncoder on Feature: management\n",
      "Transformed Feature: management\n",
      "\n",
      "Picked up Feature: payment_type\n",
      "Fitting LabelEncoder on Feature: payment_type\n",
      "Transformed Feature: payment_type\n",
      "\n",
      "Picked up Feature: water_quality\n",
      "Fitting LabelEncoder on Feature: water_quality\n",
      "Transformed Feature: water_quality\n",
      "\n",
      "Picked up Feature: quantity\n",
      "Fitting LabelEncoder on Feature: quantity\n",
      "Transformed Feature: quantity\n",
      "\n",
      "Picked up Feature: source_class\n",
      "Fitting LabelEncoder on Feature: source_class\n",
      "Transformed Feature: source_class\n",
      "\n",
      "Picked up Feature: waterpoint_type\n",
      "Fitting LabelEncoder on Feature: waterpoint_type\n",
      "Transformed Feature: waterpoint_type\n",
      "\n",
      "Picked up Feature: status_group\n",
      "Ignored, Out of scope\n",
      "\n",
      "Picked up Feature: age_of_pump_mnths\n",
      "Ignored, Out of scope\n"
     ]
    },
    {
     "data": {
      "text/plain": [
       "id                         int64\n",
       "amount_tsh               float64\n",
       "funder                     int64\n",
       "gps_height               float64\n",
       "installer                  int64\n",
       "longitude                float64\n",
       "latitude                 float64\n",
       "wpt_name                   int64\n",
       "num_private                int64\n",
       "basin                      int64\n",
       "subvillage                 int64\n",
       "region                     int64\n",
       "region_code                int64\n",
       "district_code              int64\n",
       "lga                        int64\n",
       "ward                       int64\n",
       "population                 int64\n",
       "scheme_management          int64\n",
       "permit                    object\n",
       "extraction_type            int64\n",
       "extraction_type_class      int64\n",
       "management                 int64\n",
       "payment_type               int64\n",
       "water_quality              int64\n",
       "quantity                   int64\n",
       "source_class               int64\n",
       "waterpoint_type            int64\n",
       "status_group               int64\n",
       "age_of_pump_mnths        float64\n",
       "dtype: object"
      ]
     },
     "execution_count": 44,
     "metadata": {},
     "output_type": "execute_result"
    }
   ],
   "source": [
    "feat_eng(data)"
   ]
  },
  {
   "cell_type": "code",
   "execution_count": 45,
   "metadata": {
    "collapsed": false
   },
   "outputs": [
    {
     "data": {
      "text/plain": [
       "id                         int64\n",
       "amount_tsh               float64\n",
       "funder                     int64\n",
       "gps_height               float64\n",
       "installer                  int64\n",
       "longitude                float64\n",
       "latitude                 float64\n",
       "wpt_name                   int64\n",
       "num_private                int64\n",
       "basin                      int64\n",
       "subvillage                 int64\n",
       "region                     int64\n",
       "region_code                int64\n",
       "district_code              int64\n",
       "lga                        int64\n",
       "ward                       int64\n",
       "population                 int64\n",
       "scheme_management          int64\n",
       "permit                    object\n",
       "extraction_type            int64\n",
       "extraction_type_class      int64\n",
       "management                 int64\n",
       "payment_type               int64\n",
       "water_quality              int64\n",
       "quantity                   int64\n",
       "source_class               int64\n",
       "waterpoint_type            int64\n",
       "status_group               int64\n",
       "age_of_pump_mnths        float64\n",
       "dtype: object"
      ]
     },
     "execution_count": 45,
     "metadata": {},
     "output_type": "execute_result"
    }
   ],
   "source": [
    "data.dtypes"
   ]
  },
  {
   "cell_type": "code",
   "execution_count": 46,
   "metadata": {
    "collapsed": true
   },
   "outputs": [],
   "source": [
    "# Handle the last obj\n",
    "data['permit'].fillna(False,inplace = True)\n",
    "data['permit'] = data.permit.map({True:0, False:1})"
   ]
  },
  {
   "cell_type": "code",
   "execution_count": 47,
   "metadata": {
    "collapsed": false,
    "scrolled": true
   },
   "outputs": [
    {
     "data": {
      "text/plain": [
       "29"
      ]
     },
     "execution_count": 47,
     "metadata": {},
     "output_type": "execute_result"
    }
   ],
   "source": [
    "len(data.columns)"
   ]
  },
  {
   "cell_type": "markdown",
   "metadata": {},
   "source": [
    "Creating a new DF so that all prev changes to data remains intact."
   ]
  },
  {
   "cell_type": "code",
   "execution_count": 48,
   "metadata": {
    "collapsed": true
   },
   "outputs": [],
   "source": [
    "cleaned_data = pd.DataFrame(data)"
   ]
  },
  {
   "cell_type": "code",
   "execution_count": 49,
   "metadata": {
    "collapsed": false
   },
   "outputs": [
    {
     "data": {
      "text/html": [
       "<div>\n",
       "<style>\n",
       "    .dataframe thead tr:only-child th {\n",
       "        text-align: right;\n",
       "    }\n",
       "\n",
       "    .dataframe thead th {\n",
       "        text-align: left;\n",
       "    }\n",
       "\n",
       "    .dataframe tbody tr th {\n",
       "        vertical-align: top;\n",
       "    }\n",
       "</style>\n",
       "<table border=\"1\" class=\"dataframe\">\n",
       "  <thead>\n",
       "    <tr style=\"text-align: right;\">\n",
       "      <th></th>\n",
       "      <th>id</th>\n",
       "      <th>amount_tsh</th>\n",
       "      <th>funder</th>\n",
       "      <th>gps_height</th>\n",
       "      <th>installer</th>\n",
       "      <th>longitude</th>\n",
       "      <th>latitude</th>\n",
       "      <th>wpt_name</th>\n",
       "      <th>num_private</th>\n",
       "      <th>basin</th>\n",
       "      <th>...</th>\n",
       "      <th>extraction_type</th>\n",
       "      <th>extraction_type_class</th>\n",
       "      <th>management</th>\n",
       "      <th>payment_type</th>\n",
       "      <th>water_quality</th>\n",
       "      <th>quantity</th>\n",
       "      <th>source_class</th>\n",
       "      <th>waterpoint_type</th>\n",
       "      <th>status_group</th>\n",
       "      <th>age_of_pump_mnths</th>\n",
       "    </tr>\n",
       "  </thead>\n",
       "  <tbody>\n",
       "    <tr>\n",
       "      <th>0</th>\n",
       "      <td>69572</td>\n",
       "      <td>6000.0</td>\n",
       "      <td>1370</td>\n",
       "      <td>1390.000000</td>\n",
       "      <td>1411</td>\n",
       "      <td>34.938093</td>\n",
       "      <td>-9.856322</td>\n",
       "      <td>32436</td>\n",
       "      <td>0</td>\n",
       "      <td>1</td>\n",
       "      <td>...</td>\n",
       "      <td>3</td>\n",
       "      <td>0</td>\n",
       "      <td>7</td>\n",
       "      <td>0</td>\n",
       "      <td>6</td>\n",
       "      <td>1</td>\n",
       "      <td>0</td>\n",
       "      <td>1</td>\n",
       "      <td>0</td>\n",
       "      <td>41.197287</td>\n",
       "    </tr>\n",
       "    <tr>\n",
       "      <th>1</th>\n",
       "      <td>8776</td>\n",
       "      <td>0.0</td>\n",
       "      <td>470</td>\n",
       "      <td>1399.000000</td>\n",
       "      <td>532</td>\n",
       "      <td>34.698766</td>\n",
       "      <td>-2.147466</td>\n",
       "      <td>37195</td>\n",
       "      <td>0</td>\n",
       "      <td>4</td>\n",
       "      <td>...</td>\n",
       "      <td>3</td>\n",
       "      <td>0</td>\n",
       "      <td>11</td>\n",
       "      <td>2</td>\n",
       "      <td>6</td>\n",
       "      <td>2</td>\n",
       "      <td>1</td>\n",
       "      <td>1</td>\n",
       "      <td>0</td>\n",
       "      <td>43.176794</td>\n",
       "    </tr>\n",
       "    <tr>\n",
       "      <th>2</th>\n",
       "      <td>34310</td>\n",
       "      <td>25.0</td>\n",
       "      <td>826</td>\n",
       "      <td>686.000000</td>\n",
       "      <td>1906</td>\n",
       "      <td>37.460664</td>\n",
       "      <td>-3.821329</td>\n",
       "      <td>14572</td>\n",
       "      <td>0</td>\n",
       "      <td>5</td>\n",
       "      <td>...</td>\n",
       "      <td>3</td>\n",
       "      <td>0</td>\n",
       "      <td>7</td>\n",
       "      <td>5</td>\n",
       "      <td>6</td>\n",
       "      <td>1</td>\n",
       "      <td>1</td>\n",
       "      <td>2</td>\n",
       "      <td>0</td>\n",
       "      <td>43.152152</td>\n",
       "    </tr>\n",
       "    <tr>\n",
       "      <th>3</th>\n",
       "      <td>67743</td>\n",
       "      <td>0.0</td>\n",
       "      <td>1742</td>\n",
       "      <td>263.000000</td>\n",
       "      <td>1754</td>\n",
       "      <td>38.486161</td>\n",
       "      <td>-11.155298</td>\n",
       "      <td>37285</td>\n",
       "      <td>0</td>\n",
       "      <td>7</td>\n",
       "      <td>...</td>\n",
       "      <td>14</td>\n",
       "      <td>5</td>\n",
       "      <td>7</td>\n",
       "      <td>2</td>\n",
       "      <td>6</td>\n",
       "      <td>0</td>\n",
       "      <td>0</td>\n",
       "      <td>2</td>\n",
       "      <td>2</td>\n",
       "      <td>43.075491</td>\n",
       "    </tr>\n",
       "    <tr>\n",
       "      <th>4</th>\n",
       "      <td>19728</td>\n",
       "      <td>0.0</td>\n",
       "      <td>21</td>\n",
       "      <td>1018.860839</td>\n",
       "      <td>105</td>\n",
       "      <td>31.130847</td>\n",
       "      <td>-1.825359</td>\n",
       "      <td>35529</td>\n",
       "      <td>0</td>\n",
       "      <td>4</td>\n",
       "      <td>...</td>\n",
       "      <td>3</td>\n",
       "      <td>0</td>\n",
       "      <td>1</td>\n",
       "      <td>2</td>\n",
       "      <td>6</td>\n",
       "      <td>3</td>\n",
       "      <td>1</td>\n",
       "      <td>1</td>\n",
       "      <td>0</td>\n",
       "      <td>41.528573</td>\n",
       "    </tr>\n",
       "  </tbody>\n",
       "</table>\n",
       "<p>5 rows × 29 columns</p>\n",
       "</div>"
      ],
      "text/plain": [
       "      id  amount_tsh  funder   gps_height  installer  longitude   latitude  \\\n",
       "0  69572      6000.0    1370  1390.000000       1411  34.938093  -9.856322   \n",
       "1   8776         0.0     470  1399.000000        532  34.698766  -2.147466   \n",
       "2  34310        25.0     826   686.000000       1906  37.460664  -3.821329   \n",
       "3  67743         0.0    1742   263.000000       1754  38.486161 -11.155298   \n",
       "4  19728         0.0      21  1018.860839        105  31.130847  -1.825359   \n",
       "\n",
       "   wpt_name  num_private  basin        ...          extraction_type  \\\n",
       "0     32436            0      1        ...                        3   \n",
       "1     37195            0      4        ...                        3   \n",
       "2     14572            0      5        ...                        3   \n",
       "3     37285            0      7        ...                       14   \n",
       "4     35529            0      4        ...                        3   \n",
       "\n",
       "   extraction_type_class  management  payment_type  water_quality  quantity  \\\n",
       "0                      0           7             0              6         1   \n",
       "1                      0          11             2              6         2   \n",
       "2                      0           7             5              6         1   \n",
       "3                      5           7             2              6         0   \n",
       "4                      0           1             2              6         3   \n",
       "\n",
       "   source_class  waterpoint_type  status_group  age_of_pump_mnths  \n",
       "0             0                1             0          41.197287  \n",
       "1             1                1             0          43.176794  \n",
       "2             1                2             0          43.152152  \n",
       "3             0                2             2          43.075491  \n",
       "4             1                1             0          41.528573  \n",
       "\n",
       "[5 rows x 29 columns]"
      ]
     },
     "execution_count": 49,
     "metadata": {},
     "output_type": "execute_result"
    }
   ],
   "source": [
    "cleaned_data.head()"
   ]
  },
  {
   "cell_type": "code",
   "execution_count": 50,
   "metadata": {
    "collapsed": true
   },
   "outputs": [],
   "source": [
    "cleaned_data.drop('id',axis=1,inplace=True)"
   ]
  },
  {
   "cell_type": "code",
   "execution_count": 51,
   "metadata": {
    "collapsed": false
   },
   "outputs": [],
   "source": [
    "features = cleaned_data.drop('status_group',axis = 1)"
   ]
  },
  {
   "cell_type": "code",
   "execution_count": 52,
   "metadata": {
    "collapsed": true
   },
   "outputs": [],
   "source": [
    "features.to_csv('training_cleaned_data_unscaled',index = False)"
   ]
  },
  {
   "cell_type": "code",
   "execution_count": 53,
   "metadata": {
    "collapsed": false
   },
   "outputs": [
    {
     "data": {
      "text/html": [
       "<div>\n",
       "<table border=\"1\" class=\"dataframe\">\n",
       "  <thead>\n",
       "    <tr style=\"text-align: right;\">\n",
       "      <th></th>\n",
       "      <th>amount_tsh</th>\n",
       "      <th>funder</th>\n",
       "      <th>gps_height</th>\n",
       "      <th>installer</th>\n",
       "      <th>longitude</th>\n",
       "      <th>latitude</th>\n",
       "      <th>wpt_name</th>\n",
       "      <th>num_private</th>\n",
       "      <th>basin</th>\n",
       "      <th>subvillage</th>\n",
       "      <th>...</th>\n",
       "      <th>permit</th>\n",
       "      <th>extraction_type</th>\n",
       "      <th>extraction_type_class</th>\n",
       "      <th>management</th>\n",
       "      <th>payment_type</th>\n",
       "      <th>water_quality</th>\n",
       "      <th>quantity</th>\n",
       "      <th>source_class</th>\n",
       "      <th>waterpoint_type</th>\n",
       "      <th>age_of_pump_mnths</th>\n",
       "    </tr>\n",
       "  </thead>\n",
       "  <tbody>\n",
       "    <tr>\n",
       "      <th>0</th>\n",
       "      <td>1.895665</td>\n",
       "      <td>0.989218</td>\n",
       "      <td>7.481040e-01</td>\n",
       "      <td>1.383975</td>\n",
       "      <td>-0.082411</td>\n",
       "      <td>-1.408791</td>\n",
       "      <td>0.997360</td>\n",
       "      <td>-0.038749</td>\n",
       "      <td>-1.244276</td>\n",
       "      <td>0.401718</td>\n",
       "      <td>...</td>\n",
       "      <td>1.375061</td>\n",
       "      <td>-0.790543</td>\n",
       "      <td>-0.777459</td>\n",
       "      <td>-0.134813</td>\n",
       "      <td>-1.547906</td>\n",
       "      <td>0.272762</td>\n",
       "      <td>-0.405301</td>\n",
       "      <td>-0.538410</td>\n",
       "      <td>-0.883614</td>\n",
       "      <td>-1.141136</td>\n",
       "    </tr>\n",
       "    <tr>\n",
       "      <th>1</th>\n",
       "      <td>-0.105970</td>\n",
       "      <td>-0.531750</td>\n",
       "      <td>7.662453e-01</td>\n",
       "      <td>-0.231291</td>\n",
       "      <td>-0.175631</td>\n",
       "      <td>1.207934</td>\n",
       "      <td>1.405436</td>\n",
       "      <td>-0.038749</td>\n",
       "      <td>-0.031205</td>\n",
       "      <td>1.131148</td>\n",
       "      <td>...</td>\n",
       "      <td>-0.727241</td>\n",
       "      <td>-0.790543</td>\n",
       "      <td>-0.777459</td>\n",
       "      <td>1.820837</td>\n",
       "      <td>-0.458639</td>\n",
       "      <td>0.272762</td>\n",
       "      <td>0.838878</td>\n",
       "      <td>1.765074</td>\n",
       "      <td>-0.883614</td>\n",
       "      <td>1.022152</td>\n",
       "    </tr>\n",
       "    <tr>\n",
       "      <th>2</th>\n",
       "      <td>-0.097630</td>\n",
       "      <td>0.069877</td>\n",
       "      <td>-6.709466e-01</td>\n",
       "      <td>2.293596</td>\n",
       "      <td>0.900156</td>\n",
       "      <td>0.639751</td>\n",
       "      <td>-0.534447</td>\n",
       "      <td>-0.038749</td>\n",
       "      <td>0.373152</td>\n",
       "      <td>-0.092833</td>\n",
       "      <td>...</td>\n",
       "      <td>-0.727241</td>\n",
       "      <td>-0.790543</td>\n",
       "      <td>-0.777459</td>\n",
       "      <td>-0.134813</td>\n",
       "      <td>1.175263</td>\n",
       "      <td>0.272762</td>\n",
       "      <td>-0.405301</td>\n",
       "      <td>1.765074</td>\n",
       "      <td>-0.322265</td>\n",
       "      <td>0.995223</td>\n",
       "    </tr>\n",
       "    <tr>\n",
       "      <th>3</th>\n",
       "      <td>-0.105970</td>\n",
       "      <td>1.617885</td>\n",
       "      <td>-1.523586e+00</td>\n",
       "      <td>2.014278</td>\n",
       "      <td>1.299597</td>\n",
       "      <td>-1.849720</td>\n",
       "      <td>1.413154</td>\n",
       "      <td>-0.038749</td>\n",
       "      <td>1.181867</td>\n",
       "      <td>-0.109480</td>\n",
       "      <td>...</td>\n",
       "      <td>-0.727241</td>\n",
       "      <td>1.819858</td>\n",
       "      <td>2.296319</td>\n",
       "      <td>-0.134813</td>\n",
       "      <td>-0.458639</td>\n",
       "      <td>0.272762</td>\n",
       "      <td>-1.649479</td>\n",
       "      <td>-0.538410</td>\n",
       "      <td>-0.322265</td>\n",
       "      <td>0.911444</td>\n",
       "    </tr>\n",
       "    <tr>\n",
       "      <th>4</th>\n",
       "      <td>-0.105970</td>\n",
       "      <td>-1.290545</td>\n",
       "      <td>-2.291582e-16</td>\n",
       "      <td>-1.015954</td>\n",
       "      <td>-1.565372</td>\n",
       "      <td>1.317271</td>\n",
       "      <td>1.262580</td>\n",
       "      <td>-0.038749</td>\n",
       "      <td>-0.031205</td>\n",
       "      <td>-0.341827</td>\n",
       "      <td>...</td>\n",
       "      <td>-0.727241</td>\n",
       "      <td>-0.790543</td>\n",
       "      <td>-0.777459</td>\n",
       "      <td>-3.068289</td>\n",
       "      <td>-0.458639</td>\n",
       "      <td>0.272762</td>\n",
       "      <td>2.083056</td>\n",
       "      <td>1.765074</td>\n",
       "      <td>-0.883614</td>\n",
       "      <td>-0.779092</td>\n",
       "    </tr>\n",
       "  </tbody>\n",
       "</table>\n",
       "<p>5 rows × 27 columns</p>\n",
       "</div>"
      ],
      "text/plain": [
       "   amount_tsh    funder    gps_height  installer  longitude  latitude  \\\n",
       "0    1.895665  0.989218  7.481040e-01   1.383975  -0.082411 -1.408791   \n",
       "1   -0.105970 -0.531750  7.662453e-01  -0.231291  -0.175631  1.207934   \n",
       "2   -0.097630  0.069877 -6.709466e-01   2.293596   0.900156  0.639751   \n",
       "3   -0.105970  1.617885 -1.523586e+00   2.014278   1.299597 -1.849720   \n",
       "4   -0.105970 -1.290545 -2.291582e-16  -1.015954  -1.565372  1.317271   \n",
       "\n",
       "   wpt_name  num_private     basin  subvillage        ...            permit  \\\n",
       "0  0.997360    -0.038749 -1.244276    0.401718        ...          1.375061   \n",
       "1  1.405436    -0.038749 -0.031205    1.131148        ...         -0.727241   \n",
       "2 -0.534447    -0.038749  0.373152   -0.092833        ...         -0.727241   \n",
       "3  1.413154    -0.038749  1.181867   -0.109480        ...         -0.727241   \n",
       "4  1.262580    -0.038749 -0.031205   -0.341827        ...         -0.727241   \n",
       "\n",
       "   extraction_type  extraction_type_class  management  payment_type  \\\n",
       "0        -0.790543              -0.777459   -0.134813     -1.547906   \n",
       "1        -0.790543              -0.777459    1.820837     -0.458639   \n",
       "2        -0.790543              -0.777459   -0.134813      1.175263   \n",
       "3         1.819858               2.296319   -0.134813     -0.458639   \n",
       "4        -0.790543              -0.777459   -3.068289     -0.458639   \n",
       "\n",
       "   water_quality  quantity  source_class  waterpoint_type  age_of_pump_mnths  \n",
       "0       0.272762 -0.405301     -0.538410        -0.883614          -1.141136  \n",
       "1       0.272762  0.838878      1.765074        -0.883614           1.022152  \n",
       "2       0.272762 -0.405301      1.765074        -0.322265           0.995223  \n",
       "3       0.272762 -1.649479     -0.538410        -0.322265           0.911444  \n",
       "4       0.272762  2.083056      1.765074        -0.883614          -0.779092  \n",
       "\n",
       "[5 rows x 27 columns]"
      ]
     },
     "execution_count": 53,
     "metadata": {},
     "output_type": "execute_result"
    }
   ],
   "source": [
    "sc = StandardScaler()\n",
    "sc.fit(features)\n",
    "std_features = sc.fit_transform(features)\n",
    "std_features = pd.DataFrame(std_features,columns = features.columns)\n",
    "std_features.head()"
   ]
  },
  {
   "cell_type": "code",
   "execution_count": 54,
   "metadata": {
    "collapsed": true
   },
   "outputs": [],
   "source": [
    "std_features.to_csv('training_cleaned_data',index = False)\n",
    "\n",
    "# Start from here next time instead of going through the whole cleaning process!"
   ]
  },
  {
   "cell_type": "code",
   "execution_count": 55,
   "metadata": {
    "collapsed": false
   },
   "outputs": [],
   "source": [
    "X = pd.read_csv('training_cleaned_data')\n",
    "y = data['status_group']"
   ]
  },
  {
   "cell_type": "code",
   "execution_count": 56,
   "metadata": {
    "collapsed": false
   },
   "outputs": [
    {
     "data": {
      "text/html": [
       "<div>\n",
       "<table border=\"1\" class=\"dataframe\">\n",
       "  <thead>\n",
       "    <tr style=\"text-align: right;\">\n",
       "      <th></th>\n",
       "      <th>amount_tsh</th>\n",
       "      <th>funder</th>\n",
       "      <th>gps_height</th>\n",
       "      <th>installer</th>\n",
       "      <th>longitude</th>\n",
       "      <th>latitude</th>\n",
       "      <th>wpt_name</th>\n",
       "      <th>num_private</th>\n",
       "      <th>basin</th>\n",
       "      <th>subvillage</th>\n",
       "      <th>...</th>\n",
       "      <th>permit</th>\n",
       "      <th>extraction_type</th>\n",
       "      <th>extraction_type_class</th>\n",
       "      <th>management</th>\n",
       "      <th>payment_type</th>\n",
       "      <th>water_quality</th>\n",
       "      <th>quantity</th>\n",
       "      <th>source_class</th>\n",
       "      <th>waterpoint_type</th>\n",
       "      <th>age_of_pump_mnths</th>\n",
       "    </tr>\n",
       "  </thead>\n",
       "  <tbody>\n",
       "    <tr>\n",
       "      <th>0</th>\n",
       "      <td>1.895665</td>\n",
       "      <td>0.989218</td>\n",
       "      <td>7.481040e-01</td>\n",
       "      <td>1.383975</td>\n",
       "      <td>-0.082411</td>\n",
       "      <td>-1.408791</td>\n",
       "      <td>0.997360</td>\n",
       "      <td>-0.038749</td>\n",
       "      <td>-1.244276</td>\n",
       "      <td>0.401718</td>\n",
       "      <td>...</td>\n",
       "      <td>1.375061</td>\n",
       "      <td>-0.790543</td>\n",
       "      <td>-0.777459</td>\n",
       "      <td>-0.134813</td>\n",
       "      <td>-1.547906</td>\n",
       "      <td>0.272762</td>\n",
       "      <td>-0.405301</td>\n",
       "      <td>-0.538410</td>\n",
       "      <td>-0.883614</td>\n",
       "      <td>-1.141136</td>\n",
       "    </tr>\n",
       "    <tr>\n",
       "      <th>1</th>\n",
       "      <td>-0.105970</td>\n",
       "      <td>-0.531750</td>\n",
       "      <td>7.662453e-01</td>\n",
       "      <td>-0.231291</td>\n",
       "      <td>-0.175631</td>\n",
       "      <td>1.207934</td>\n",
       "      <td>1.405436</td>\n",
       "      <td>-0.038749</td>\n",
       "      <td>-0.031205</td>\n",
       "      <td>1.131148</td>\n",
       "      <td>...</td>\n",
       "      <td>-0.727241</td>\n",
       "      <td>-0.790543</td>\n",
       "      <td>-0.777459</td>\n",
       "      <td>1.820837</td>\n",
       "      <td>-0.458639</td>\n",
       "      <td>0.272762</td>\n",
       "      <td>0.838878</td>\n",
       "      <td>1.765074</td>\n",
       "      <td>-0.883614</td>\n",
       "      <td>1.022152</td>\n",
       "    </tr>\n",
       "    <tr>\n",
       "      <th>2</th>\n",
       "      <td>-0.097630</td>\n",
       "      <td>0.069877</td>\n",
       "      <td>-6.709466e-01</td>\n",
       "      <td>2.293596</td>\n",
       "      <td>0.900156</td>\n",
       "      <td>0.639751</td>\n",
       "      <td>-0.534447</td>\n",
       "      <td>-0.038749</td>\n",
       "      <td>0.373152</td>\n",
       "      <td>-0.092833</td>\n",
       "      <td>...</td>\n",
       "      <td>-0.727241</td>\n",
       "      <td>-0.790543</td>\n",
       "      <td>-0.777459</td>\n",
       "      <td>-0.134813</td>\n",
       "      <td>1.175263</td>\n",
       "      <td>0.272762</td>\n",
       "      <td>-0.405301</td>\n",
       "      <td>1.765074</td>\n",
       "      <td>-0.322265</td>\n",
       "      <td>0.995223</td>\n",
       "    </tr>\n",
       "    <tr>\n",
       "      <th>3</th>\n",
       "      <td>-0.105970</td>\n",
       "      <td>1.617885</td>\n",
       "      <td>-1.523586e+00</td>\n",
       "      <td>2.014278</td>\n",
       "      <td>1.299597</td>\n",
       "      <td>-1.849720</td>\n",
       "      <td>1.413154</td>\n",
       "      <td>-0.038749</td>\n",
       "      <td>1.181867</td>\n",
       "      <td>-0.109480</td>\n",
       "      <td>...</td>\n",
       "      <td>-0.727241</td>\n",
       "      <td>1.819858</td>\n",
       "      <td>2.296319</td>\n",
       "      <td>-0.134813</td>\n",
       "      <td>-0.458639</td>\n",
       "      <td>0.272762</td>\n",
       "      <td>-1.649479</td>\n",
       "      <td>-0.538410</td>\n",
       "      <td>-0.322265</td>\n",
       "      <td>0.911444</td>\n",
       "    </tr>\n",
       "    <tr>\n",
       "      <th>4</th>\n",
       "      <td>-0.105970</td>\n",
       "      <td>-1.290545</td>\n",
       "      <td>-2.291582e-16</td>\n",
       "      <td>-1.015954</td>\n",
       "      <td>-1.565372</td>\n",
       "      <td>1.317271</td>\n",
       "      <td>1.262580</td>\n",
       "      <td>-0.038749</td>\n",
       "      <td>-0.031205</td>\n",
       "      <td>-0.341827</td>\n",
       "      <td>...</td>\n",
       "      <td>-0.727241</td>\n",
       "      <td>-0.790543</td>\n",
       "      <td>-0.777459</td>\n",
       "      <td>-3.068289</td>\n",
       "      <td>-0.458639</td>\n",
       "      <td>0.272762</td>\n",
       "      <td>2.083056</td>\n",
       "      <td>1.765074</td>\n",
       "      <td>-0.883614</td>\n",
       "      <td>-0.779092</td>\n",
       "    </tr>\n",
       "  </tbody>\n",
       "</table>\n",
       "<p>5 rows × 27 columns</p>\n",
       "</div>"
      ],
      "text/plain": [
       "   amount_tsh    funder    gps_height  installer  longitude  latitude  \\\n",
       "0    1.895665  0.989218  7.481040e-01   1.383975  -0.082411 -1.408791   \n",
       "1   -0.105970 -0.531750  7.662453e-01  -0.231291  -0.175631  1.207934   \n",
       "2   -0.097630  0.069877 -6.709466e-01   2.293596   0.900156  0.639751   \n",
       "3   -0.105970  1.617885 -1.523586e+00   2.014278   1.299597 -1.849720   \n",
       "4   -0.105970 -1.290545 -2.291582e-16  -1.015954  -1.565372  1.317271   \n",
       "\n",
       "   wpt_name  num_private     basin  subvillage        ...            permit  \\\n",
       "0  0.997360    -0.038749 -1.244276    0.401718        ...          1.375061   \n",
       "1  1.405436    -0.038749 -0.031205    1.131148        ...         -0.727241   \n",
       "2 -0.534447    -0.038749  0.373152   -0.092833        ...         -0.727241   \n",
       "3  1.413154    -0.038749  1.181867   -0.109480        ...         -0.727241   \n",
       "4  1.262580    -0.038749 -0.031205   -0.341827        ...         -0.727241   \n",
       "\n",
       "   extraction_type  extraction_type_class  management  payment_type  \\\n",
       "0        -0.790543              -0.777459   -0.134813     -1.547906   \n",
       "1        -0.790543              -0.777459    1.820837     -0.458639   \n",
       "2        -0.790543              -0.777459   -0.134813      1.175263   \n",
       "3         1.819858               2.296319   -0.134813     -0.458639   \n",
       "4        -0.790543              -0.777459   -3.068289     -0.458639   \n",
       "\n",
       "   water_quality  quantity  source_class  waterpoint_type  age_of_pump_mnths  \n",
       "0       0.272762 -0.405301     -0.538410        -0.883614          -1.141136  \n",
       "1       0.272762  0.838878      1.765074        -0.883614           1.022152  \n",
       "2       0.272762 -0.405301      1.765074        -0.322265           0.995223  \n",
       "3       0.272762 -1.649479     -0.538410        -0.322265           0.911444  \n",
       "4       0.272762  2.083056      1.765074        -0.883614          -0.779092  \n",
       "\n",
       "[5 rows x 27 columns]"
      ]
     },
     "execution_count": 56,
     "metadata": {},
     "output_type": "execute_result"
    }
   ],
   "source": [
    "X.head()"
   ]
  },
  {
   "cell_type": "code",
   "execution_count": 57,
   "metadata": {
    "collapsed": false
   },
   "outputs": [
    {
     "name": "stdout",
     "output_type": "stream",
     "text": [
      "Data:  (59400, 29)\n",
      "X_Train:  (41580, 27)\n",
      "X_Test:  (17820, 27)\n",
      "y_Train:  (41580,)\n",
      "y_Test: :  (17820,)\n"
     ]
    }
   ],
   "source": [
    "X_train, X_test, y_train, y_test = train_test_split(X, y, test_size=0.3)\n",
    "\n",
    "print \"Data: \", data.shape\n",
    "print \"X_Train: \", X_train.shape\n",
    "print \"X_Test: \", X_test.shape\n",
    "print \"y_Train: \", y_train.shape\n",
    "print \"y_Test: : \", y_test.shape"
   ]
  },
  {
   "cell_type": "markdown",
   "metadata": {},
   "source": [
    "# RandomForestClassifier"
   ]
  },
  {
   "cell_type": "code",
   "execution_count": 58,
   "metadata": {
    "collapsed": false
   },
   "outputs": [],
   "source": [
    "rc  = RandomForestClassifier(n_estimators=100,max_depth=20,max_features='sqrt')\n",
    "rcp = rc.fit(X_train,y_train)"
   ]
  },
  {
   "cell_type": "code",
   "execution_count": 59,
   "metadata": {
    "collapsed": true
   },
   "outputs": [],
   "source": [
    "pred = rcp.predict(X_test)"
   ]
  },
  {
   "cell_type": "markdown",
   "metadata": {
    "collapsed": false
   },
   "source": [
    "print(classification_report(y_test,pred))"
   ]
  },
  {
   "cell_type": "code",
   "execution_count": 61,
   "metadata": {
    "collapsed": false
   },
   "outputs": [
    {
     "name": "stdout",
     "output_type": "stream",
     "text": [
      "[[8822  149  756]\n",
      " [ 697  385  201]\n",
      " [1523   72 5215]]\n"
     ]
    },
    {
     "name": "stderr",
     "output_type": "stream",
     "text": [
      "/Users/rakesh/Library/Python/2.7/lib/python/site-packages/numpy/core/fromnumeric.py:2699: VisibleDeprecationWarning: `rank` is deprecated; use the `ndim` attribute or function instead. To find the rank of a matrix see `numpy.linalg.matrix_rank`.\n",
      "  VisibleDeprecationWarning)\n"
     ]
    }
   ],
   "source": [
    "print(confusion_matrix(y_test,pred))"
   ]
  },
  {
   "cell_type": "code",
   "execution_count": 62,
   "metadata": {
    "collapsed": false
   },
   "outputs": [
    {
     "name": "stdout",
     "output_type": "stream",
     "text": [
      "0.809315375982\n"
     ]
    }
   ],
   "source": [
    "print(accuracy_score(y_test, pred))"
   ]
  },
  {
   "cell_type": "code",
   "execution_count": 63,
   "metadata": {
    "collapsed": false
   },
   "outputs": [],
   "source": [
    "# Save the model\n",
    "rcp_out = open('RFC.pickle','wb')\n",
    "pickle.dump(rcp,rcp_out)\n",
    "rcp_out.close()"
   ]
  },
  {
   "cell_type": "markdown",
   "metadata": {
    "collapsed": true
   },
   "source": [
    "# Train the same model on non-scaled data."
   ]
  },
  {
   "cell_type": "code",
   "execution_count": 64,
   "metadata": {
    "collapsed": true
   },
   "outputs": [],
   "source": [
    "X = pd.read_csv('training_cleaned_data_unscaled')\n",
    "y = data['status_group']"
   ]
  },
  {
   "cell_type": "code",
   "execution_count": 65,
   "metadata": {
    "collapsed": false
   },
   "outputs": [
    {
     "name": "stdout",
     "output_type": "stream",
     "text": [
      "Data:  (59400, 29)\n",
      "X_Train:  (41580, 27)\n",
      "X_Test:  (17820, 27)\n",
      "y_Train:  (41580,)\n",
      "y_Test: :  (17820,)\n"
     ]
    }
   ],
   "source": [
    "X_train, X_test, y_train, y_test = train_test_split(X, y, test_size=0.3)\n",
    "\n",
    "print \"Data: \", data.shape\n",
    "print \"X_Train: \", X_train.shape\n",
    "print \"X_Test: \", X_test.shape\n",
    "print \"y_Train: \", y_train.shape\n",
    "print \"y_Test: : \", y_test.shape"
   ]
  },
  {
   "cell_type": "code",
   "execution_count": 66,
   "metadata": {
    "collapsed": true
   },
   "outputs": [],
   "source": [
    "rc_ns  = RandomForestClassifier(n_estimators=100,max_depth=20,max_features='sqrt')\n",
    "rcp_ns = rc_ns.fit(X_train,y_train)"
   ]
  },
  {
   "cell_type": "code",
   "execution_count": 67,
   "metadata": {
    "collapsed": true
   },
   "outputs": [],
   "source": [
    "pred = rcp_ns.predict(X_test)"
   ]
  },
  {
   "cell_type": "code",
   "execution_count": 68,
   "metadata": {
    "collapsed": false
   },
   "outputs": [
    {
     "name": "stdout",
     "output_type": "stream",
     "text": [
      "             precision    recall  f1-score   support\n",
      "\n",
      "          0       0.79      0.91      0.85      9619\n",
      "          1       0.65      0.29      0.40      1343\n",
      "          2       0.85      0.77      0.81      6858\n",
      "\n",
      "avg / total       0.80      0.81      0.80     17820\n",
      "\n",
      "\n",
      "\n",
      "[[8709  148  762]\n",
      " [ 762  391  190]\n",
      " [1505   62 5291]]\n",
      "\n",
      "\n",
      "0.807575757576\n"
     ]
    }
   ],
   "source": [
    "print(classification_report(y_test,pred))\n",
    "print \"\"\n",
    "print \"\"\n",
    "print(confusion_matrix(y_test,pred))\n",
    "print \"\"\n",
    "print \"\"\n",
    "print(accuracy_score(y_test, pred))"
   ]
  },
  {
   "cell_type": "markdown",
   "metadata": {},
   "source": [
    "# PCA on NonScaled Data"
   ]
  },
  {
   "cell_type": "code",
   "execution_count": 69,
   "metadata": {
    "collapsed": true
   },
   "outputs": [],
   "source": [
    "d = pd.read_csv('training_cleaned_data_unscaled')"
   ]
  },
  {
   "cell_type": "code",
   "execution_count": 71,
   "metadata": {
    "collapsed": false
   },
   "outputs": [],
   "source": [
    "from sklearn.decomposition import PCA"
   ]
  },
  {
   "cell_type": "code",
   "execution_count": 78,
   "metadata": {
    "collapsed": true
   },
   "outputs": [],
   "source": [
    "pca = PCA()"
   ]
  },
  {
   "cell_type": "code",
   "execution_count": 79,
   "metadata": {
    "collapsed": true
   },
   "outputs": [],
   "source": [
    "x = pca.fit_transform(d)"
   ]
  },
  {
   "cell_type": "code",
   "execution_count": 80,
   "metadata": {
    "collapsed": false
   },
   "outputs": [
    {
     "data": {
      "text/html": [
       "<div>\n",
       "<table border=\"1\" class=\"dataframe\">\n",
       "  <thead>\n",
       "    <tr style=\"text-align: right;\">\n",
       "      <th></th>\n",
       "      <th>amount_tsh</th>\n",
       "      <th>funder</th>\n",
       "      <th>gps_height</th>\n",
       "      <th>installer</th>\n",
       "      <th>longitude</th>\n",
       "      <th>latitude</th>\n",
       "      <th>wpt_name</th>\n",
       "      <th>num_private</th>\n",
       "      <th>basin</th>\n",
       "      <th>subvillage</th>\n",
       "      <th>...</th>\n",
       "      <th>permit</th>\n",
       "      <th>extraction_type</th>\n",
       "      <th>extraction_type_class</th>\n",
       "      <th>management</th>\n",
       "      <th>payment_type</th>\n",
       "      <th>water_quality</th>\n",
       "      <th>quantity</th>\n",
       "      <th>source_class</th>\n",
       "      <th>waterpoint_type</th>\n",
       "      <th>age_of_pump_mnths</th>\n",
       "    </tr>\n",
       "  </thead>\n",
       "  <tbody>\n",
       "    <tr>\n",
       "      <th>0</th>\n",
       "      <td>-11757.181488</td>\n",
       "      <td>1534.394654</td>\n",
       "      <td>5656.546751</td>\n",
       "      <td>950.832287</td>\n",
       "      <td>254.241385</td>\n",
       "      <td>-310.862756</td>\n",
       "      <td>-1.576760</td>\n",
       "      <td>-211.571338</td>\n",
       "      <td>12.833634</td>\n",
       "      <td>-0.932875</td>\n",
       "      <td>...</td>\n",
       "      <td>-0.542616</td>\n",
       "      <td>-1.189588</td>\n",
       "      <td>-2.100062</td>\n",
       "      <td>-0.455121</td>\n",
       "      <td>0.218051</td>\n",
       "      <td>-0.099303</td>\n",
       "      <td>0.438189</td>\n",
       "      <td>0.699179</td>\n",
       "      <td>0.668088</td>\n",
       "      <td>-0.187141</td>\n",
       "    </tr>\n",
       "    <tr>\n",
       "      <th>1</th>\n",
       "      <td>-16728.481646</td>\n",
       "      <td>5280.324885</td>\n",
       "      <td>-360.530502</td>\n",
       "      <td>-256.844818</td>\n",
       "      <td>484.831239</td>\n",
       "      <td>-350.493930</td>\n",
       "      <td>245.065999</td>\n",
       "      <td>-132.121484</td>\n",
       "      <td>-39.861597</td>\n",
       "      <td>-0.599739</td>\n",
       "      <td>...</td>\n",
       "      <td>0.755779</td>\n",
       "      <td>2.229170</td>\n",
       "      <td>-1.579405</td>\n",
       "      <td>-5.344751</td>\n",
       "      <td>0.402489</td>\n",
       "      <td>-0.318447</td>\n",
       "      <td>-0.444557</td>\n",
       "      <td>-0.107593</td>\n",
       "      <td>-0.082924</td>\n",
       "      <td>0.556054</td>\n",
       "    </tr>\n",
       "    <tr>\n",
       "      <th>2</th>\n",
       "      <td>6251.633372</td>\n",
       "      <td>-143.210227</td>\n",
       "      <td>-276.925502</td>\n",
       "      <td>882.431691</td>\n",
       "      <td>520.427604</td>\n",
       "      <td>396.229570</td>\n",
       "      <td>-131.815271</td>\n",
       "      <td>-888.680822</td>\n",
       "      <td>-37.464077</td>\n",
       "      <td>-1.511606</td>\n",
       "      <td>...</td>\n",
       "      <td>3.843635</td>\n",
       "      <td>0.322213</td>\n",
       "      <td>-1.106991</td>\n",
       "      <td>-0.136393</td>\n",
       "      <td>-1.364129</td>\n",
       "      <td>0.034409</td>\n",
       "      <td>0.576624</td>\n",
       "      <td>0.454234</td>\n",
       "      <td>-0.393043</td>\n",
       "      <td>0.692946</td>\n",
       "    </tr>\n",
       "    <tr>\n",
       "      <th>3</th>\n",
       "      <td>-16416.714335</td>\n",
       "      <td>-1571.591604</td>\n",
       "      <td>-358.312344</td>\n",
       "      <td>1401.981153</td>\n",
       "      <td>443.239992</td>\n",
       "      <td>680.035957</td>\n",
       "      <td>-531.229952</td>\n",
       "      <td>-144.519617</td>\n",
       "      <td>-28.172383</td>\n",
       "      <td>-1.900175</td>\n",
       "      <td>...</td>\n",
       "      <td>-0.682356</td>\n",
       "      <td>-2.509931</td>\n",
       "      <td>0.317951</td>\n",
       "      <td>-1.158690</td>\n",
       "      <td>1.204244</td>\n",
       "      <td>-0.758777</td>\n",
       "      <td>0.347064</td>\n",
       "      <td>-1.945892</td>\n",
       "      <td>-0.084001</td>\n",
       "      <td>-0.317193</td>\n",
       "    </tr>\n",
       "    <tr>\n",
       "      <th>4</th>\n",
       "      <td>-14585.867868</td>\n",
       "      <td>-2743.672752</td>\n",
       "      <td>-354.624798</td>\n",
       "      <td>-916.916076</td>\n",
       "      <td>708.033422</td>\n",
       "      <td>-139.837455</td>\n",
       "      <td>-139.521126</td>\n",
       "      <td>-94.973447</td>\n",
       "      <td>35.685842</td>\n",
       "      <td>-0.831204</td>\n",
       "      <td>...</td>\n",
       "      <td>-0.875689</td>\n",
       "      <td>-2.071895</td>\n",
       "      <td>2.063845</td>\n",
       "      <td>-0.339846</td>\n",
       "      <td>-0.693959</td>\n",
       "      <td>0.315981</td>\n",
       "      <td>-1.043422</td>\n",
       "      <td>0.668550</td>\n",
       "      <td>-0.179312</td>\n",
       "      <td>0.275715</td>\n",
       "    </tr>\n",
       "  </tbody>\n",
       "</table>\n",
       "<p>5 rows × 27 columns</p>\n",
       "</div>"
      ],
      "text/plain": [
       "     amount_tsh       funder   gps_height    installer   longitude  \\\n",
       "0 -11757.181488  1534.394654  5656.546751   950.832287  254.241385   \n",
       "1 -16728.481646  5280.324885  -360.530502  -256.844818  484.831239   \n",
       "2   6251.633372  -143.210227  -276.925502   882.431691  520.427604   \n",
       "3 -16416.714335 -1571.591604  -358.312344  1401.981153  443.239992   \n",
       "4 -14585.867868 -2743.672752  -354.624798  -916.916076  708.033422   \n",
       "\n",
       "     latitude    wpt_name  num_private      basin  subvillage  \\\n",
       "0 -310.862756   -1.576760  -211.571338  12.833634   -0.932875   \n",
       "1 -350.493930  245.065999  -132.121484 -39.861597   -0.599739   \n",
       "2  396.229570 -131.815271  -888.680822 -37.464077   -1.511606   \n",
       "3  680.035957 -531.229952  -144.519617 -28.172383   -1.900175   \n",
       "4 -139.837455 -139.521126   -94.973447  35.685842   -0.831204   \n",
       "\n",
       "         ...            permit  extraction_type  extraction_type_class  \\\n",
       "0        ...         -0.542616        -1.189588              -2.100062   \n",
       "1        ...          0.755779         2.229170              -1.579405   \n",
       "2        ...          3.843635         0.322213              -1.106991   \n",
       "3        ...         -0.682356        -2.509931               0.317951   \n",
       "4        ...         -0.875689        -2.071895               2.063845   \n",
       "\n",
       "   management  payment_type  water_quality  quantity  source_class  \\\n",
       "0   -0.455121      0.218051      -0.099303  0.438189      0.699179   \n",
       "1   -5.344751      0.402489      -0.318447 -0.444557     -0.107593   \n",
       "2   -0.136393     -1.364129       0.034409  0.576624      0.454234   \n",
       "3   -1.158690      1.204244      -0.758777  0.347064     -1.945892   \n",
       "4   -0.339846     -0.693959       0.315981 -1.043422      0.668550   \n",
       "\n",
       "   waterpoint_type  age_of_pump_mnths  \n",
       "0         0.668088          -0.187141  \n",
       "1        -0.082924           0.556054  \n",
       "2        -0.393043           0.692946  \n",
       "3        -0.084001          -0.317193  \n",
       "4        -0.179312           0.275715  \n",
       "\n",
       "[5 rows x 27 columns]"
      ]
     },
     "execution_count": 80,
     "metadata": {},
     "output_type": "execute_result"
    }
   ],
   "source": [
    "std_features_pca = pd.DataFrame(x,columns = features.columns)\n",
    "std_features_pca.head()"
   ]
  },
  {
   "cell_type": "code",
   "execution_count": 81,
   "metadata": {
    "collapsed": true
   },
   "outputs": [],
   "source": [
    "X = std_features_pca\n",
    "y = data['status_group']"
   ]
  },
  {
   "cell_type": "code",
   "execution_count": 82,
   "metadata": {
    "collapsed": false
   },
   "outputs": [
    {
     "name": "stdout",
     "output_type": "stream",
     "text": [
      "Data:  (59400, 29)\n",
      "X_Train:  (41580, 27)\n",
      "X_Test:  (17820, 27)\n",
      "y_Train:  (41580,)\n",
      "y_Test: :  (17820,)\n"
     ]
    }
   ],
   "source": [
    "X_train, X_test, y_train, y_test = train_test_split(X, y, test_size=0.3)\n",
    "\n",
    "print \"Data: \", data.shape\n",
    "print \"X_Train: \", X_train.shape\n",
    "print \"X_Test: \", X_test.shape\n",
    "print \"y_Train: \", y_train.shape\n",
    "print \"y_Test: : \", y_test.shape"
   ]
  },
  {
   "cell_type": "code",
   "execution_count": 83,
   "metadata": {
    "collapsed": true
   },
   "outputs": [],
   "source": [
    "rc_pca  = RandomForestClassifier(n_estimators=100,max_depth=20,max_features='sqrt')\n",
    "rcp_pca = rc_pca.fit(X_train,y_train)"
   ]
  },
  {
   "cell_type": "code",
   "execution_count": 84,
   "metadata": {
    "collapsed": true
   },
   "outputs": [],
   "source": [
    "pca_pred = rcp_pca.predict(X_test)"
   ]
  },
  {
   "cell_type": "code",
   "execution_count": 85,
   "metadata": {
    "collapsed": false
   },
   "outputs": [
    {
     "name": "stdout",
     "output_type": "stream",
     "text": [
      "             precision    recall  f1-score   support\n",
      "\n",
      "          0       0.77      0.89      0.83      9659\n",
      "          1       0.62      0.24      0.34      1356\n",
      "          2       0.81      0.73      0.77      6805\n",
      "\n",
      "avg / total       0.78      0.78      0.77     17820\n",
      "\n",
      "\n",
      "\n",
      "[[8636  130  893]\n",
      " [ 795  321  240]\n",
      " [1766   66 4973]]\n",
      "\n",
      "\n",
      "0.781705948373\n"
     ]
    }
   ],
   "source": [
    "print(classification_report(y_test,pca_pred))\n",
    "print \"\"\n",
    "print \"\"\n",
    "print(confusion_matrix(y_test,pca_pred))\n",
    "print \"\"\n",
    "print \"\"\n",
    "print(accuracy_score(y_test, pca_pred))"
   ]
  },
  {
   "cell_type": "markdown",
   "metadata": {},
   "source": [
    "#  KNeighborsClassifier"
   ]
  },
  {
   "cell_type": "code",
   "execution_count": 63,
   "metadata": {
    "collapsed": true
   },
   "outputs": [],
   "source": [
    "knn_c  = KNeighborsClassifier(n_neighbors=15)"
   ]
  },
  {
   "cell_type": "code",
   "execution_count": 64,
   "metadata": {
    "collapsed": false,
    "scrolled": true
   },
   "outputs": [],
   "source": [
    "knn = knn_c.fit(X_train,y_train)"
   ]
  },
  {
   "cell_type": "code",
   "execution_count": 65,
   "metadata": {
    "collapsed": true
   },
   "outputs": [],
   "source": [
    "n_pred = knn.predict(X_test)"
   ]
  },
  {
   "cell_type": "code",
   "execution_count": 66,
   "metadata": {
    "collapsed": false
   },
   "outputs": [
    {
     "name": "stdout",
     "output_type": "stream",
     "text": [
      "[[8399  146 1138]\n",
      " [ 741  254  271]\n",
      " [2428  120 4323]]\n"
     ]
    }
   ],
   "source": [
    "print(confusion_matrix(y_test,n_pred))"
   ]
  },
  {
   "cell_type": "code",
   "execution_count": 67,
   "metadata": {
    "collapsed": false
   },
   "outputs": [
    {
     "name": "stdout",
     "output_type": "stream",
     "text": [
      "             precision    recall  f1-score   support\n",
      "\n",
      "          0       0.73      0.87      0.79      9683\n",
      "          1       0.49      0.20      0.28      1266\n",
      "          2       0.75      0.63      0.69      6871\n",
      "\n",
      "avg / total       0.72      0.73      0.71     17820\n",
      "\n"
     ]
    }
   ],
   "source": [
    "print(classification_report(y_test,n_pred))"
   ]
  },
  {
   "cell_type": "code",
   "execution_count": 68,
   "metadata": {
    "collapsed": false
   },
   "outputs": [
    {
     "name": "stdout",
     "output_type": "stream",
     "text": [
      "0.728170594837\n"
     ]
    }
   ],
   "source": [
    "print(accuracy_score(y_test,n_pred))"
   ]
  },
  {
   "cell_type": "code",
   "execution_count": 69,
   "metadata": {
    "collapsed": true
   },
   "outputs": [],
   "source": [
    "# Save the model\n",
    "rcp_out = open('KNN.pickle','wb')\n",
    "pickle.dump(knn,rcp_out)\n",
    "rcp_out.close()"
   ]
  },
  {
   "cell_type": "markdown",
   "metadata": {},
   "source": [
    "# LinearSVC"
   ]
  },
  {
   "cell_type": "code",
   "execution_count": 70,
   "metadata": {
    "collapsed": true
   },
   "outputs": [],
   "source": [
    "from sklearn.svm import LinearSVC"
   ]
  },
  {
   "cell_type": "code",
   "execution_count": 71,
   "metadata": {
    "collapsed": true
   },
   "outputs": [],
   "source": [
    "lsvc_classifier = LinearSVC(random_state=0)"
   ]
  },
  {
   "cell_type": "code",
   "execution_count": 72,
   "metadata": {
    "collapsed": false
   },
   "outputs": [],
   "source": [
    "lsvc = lsvc_classifier.fit(X_train,y_train)"
   ]
  },
  {
   "cell_type": "code",
   "execution_count": 73,
   "metadata": {
    "collapsed": true
   },
   "outputs": [],
   "source": [
    "l_pred = lsvc.predict(X_test)"
   ]
  },
  {
   "cell_type": "code",
   "execution_count": 74,
   "metadata": {
    "collapsed": false
   },
   "outputs": [
    {
     "name": "stdout",
     "output_type": "stream",
     "text": [
      "[[7901    0 1782]\n",
      " [1047    0  219]\n",
      " [3733    0 3138]]\n"
     ]
    }
   ],
   "source": [
    "print(confusion_matrix(y_test,l_pred))"
   ]
  },
  {
   "cell_type": "code",
   "execution_count": 75,
   "metadata": {
    "collapsed": false
   },
   "outputs": [
    {
     "name": "stdout",
     "output_type": "stream",
     "text": [
      "             precision    recall  f1-score   support\n",
      "\n",
      "          0       0.62      0.82      0.71      9683\n",
      "          1       0.00      0.00      0.00      1266\n",
      "          2       0.61      0.46      0.52      6871\n",
      "\n",
      "avg / total       0.57      0.62      0.59     17820\n",
      "\n"
     ]
    },
    {
     "name": "stderr",
     "output_type": "stream",
     "text": [
      "/Library/Python/2.7/site-packages/sklearn/metrics/classification.py:1113: UndefinedMetricWarning: Precision and F-score are ill-defined and being set to 0.0 in labels with no predicted samples.\n",
      "  'precision', 'predicted', average, warn_for)\n"
     ]
    }
   ],
   "source": [
    "print(classification_report(y_test,l_pred))"
   ]
  },
  {
   "cell_type": "code",
   "execution_count": 76,
   "metadata": {
    "collapsed": false
   },
   "outputs": [
    {
     "name": "stdout",
     "output_type": "stream",
     "text": [
      "0.619472502806\n"
     ]
    }
   ],
   "source": [
    "print(accuracy_score(y_test,l_pred))"
   ]
  },
  {
   "cell_type": "code",
   "execution_count": 77,
   "metadata": {
    "collapsed": true
   },
   "outputs": [],
   "source": [
    "# Save the model\n",
    "rcp_out = open('LSVC.pickle','wb')\n",
    "pickle.dump(lsvc,rcp_out)\n",
    "rcp_out.close()"
   ]
  },
  {
   "cell_type": "markdown",
   "metadata": {},
   "source": [
    "# Logistic Regression"
   ]
  },
  {
   "cell_type": "code",
   "execution_count": 78,
   "metadata": {
    "collapsed": true
   },
   "outputs": [],
   "source": [
    "lr_classifier = LogisticRegression(solver ='newton-cg',multi_class='ovr')"
   ]
  },
  {
   "cell_type": "code",
   "execution_count": 79,
   "metadata": {
    "collapsed": false
   },
   "outputs": [],
   "source": [
    "lr = lr_classifier.fit(X_train,y_train)"
   ]
  },
  {
   "cell_type": "code",
   "execution_count": 80,
   "metadata": {
    "collapsed": true
   },
   "outputs": [],
   "source": [
    "lr_pred = lr.predict(X_test)"
   ]
  },
  {
   "cell_type": "code",
   "execution_count": 81,
   "metadata": {
    "collapsed": false
   },
   "outputs": [
    {
     "name": "stdout",
     "output_type": "stream",
     "text": [
      "[[7855    0 1828]\n",
      " [1051    0  215]\n",
      " [3703    0 3168]]\n"
     ]
    }
   ],
   "source": [
    "print(confusion_matrix(y_test,lr_pred))"
   ]
  },
  {
   "cell_type": "code",
   "execution_count": 82,
   "metadata": {
    "collapsed": false
   },
   "outputs": [
    {
     "name": "stdout",
     "output_type": "stream",
     "text": [
      "             precision    recall  f1-score   support\n",
      "\n",
      "          0       0.62      0.81      0.70      9683\n",
      "          1       0.00      0.00      0.00      1266\n",
      "          2       0.61      0.46      0.52      6871\n",
      "\n",
      "avg / total       0.57      0.62      0.59     17820\n",
      "\n"
     ]
    }
   ],
   "source": [
    "print(classification_report(y_test,lr_pred))"
   ]
  },
  {
   "cell_type": "code",
   "execution_count": 83,
   "metadata": {
    "collapsed": false
   },
   "outputs": [
    {
     "name": "stdout",
     "output_type": "stream",
     "text": [
      "0.618574635241\n"
     ]
    }
   ],
   "source": [
    "print(accuracy_score(y_test,lr_pred))"
   ]
  },
  {
   "cell_type": "code",
   "execution_count": null,
   "metadata": {
    "collapsed": true
   },
   "outputs": [],
   "source": []
  },
  {
   "cell_type": "markdown",
   "metadata": {},
   "source": [
    "# BernoulliNB"
   ]
  },
  {
   "cell_type": "code",
   "execution_count": 84,
   "metadata": {
    "collapsed": true
   },
   "outputs": [],
   "source": [
    "from sklearn.naive_bayes import BernoulliNB"
   ]
  },
  {
   "cell_type": "code",
   "execution_count": 85,
   "metadata": {
    "collapsed": true
   },
   "outputs": [],
   "source": [
    "brn_class = BernoulliNB()"
   ]
  },
  {
   "cell_type": "code",
   "execution_count": 86,
   "metadata": {
    "collapsed": true
   },
   "outputs": [],
   "source": [
    "brn = brn_class.fit(X_train,y_train)"
   ]
  },
  {
   "cell_type": "code",
   "execution_count": 87,
   "metadata": {
    "collapsed": true
   },
   "outputs": [],
   "source": [
    "brn_pred = brn.predict(X_test)"
   ]
  },
  {
   "cell_type": "code",
   "execution_count": 88,
   "metadata": {
    "collapsed": false
   },
   "outputs": [
    {
     "name": "stdout",
     "output_type": "stream",
     "text": [
      "[[6768  117 2798]\n",
      " [ 850   69  347]\n",
      " [3077   81 3713]]\n",
      "\n",
      "\n",
      "             precision    recall  f1-score   support\n",
      "\n",
      "          0       0.63      0.70      0.66      9683\n",
      "          1       0.26      0.05      0.09      1266\n",
      "          2       0.54      0.54      0.54      6871\n",
      "\n",
      "avg / total       0.57      0.59      0.58     17820\n",
      "\n",
      "\n",
      "\n",
      "0.592031425365\n"
     ]
    }
   ],
   "source": [
    "print(confusion_matrix(y_test,brn_pred))\n",
    "print \"\"\n",
    "print \"\"\n",
    "print(classification_report(y_test,brn_pred))\n",
    "print \"\"\n",
    "print \"\"\n",
    "print(accuracy_score(y_test,brn_pred))"
   ]
  },
  {
   "cell_type": "code",
   "execution_count": null,
   "metadata": {
    "collapsed": true
   },
   "outputs": [],
   "source": []
  },
  {
   "cell_type": "markdown",
   "metadata": {},
   "source": [
    "# DecisionTreeClassifier"
   ]
  },
  {
   "cell_type": "code",
   "execution_count": 89,
   "metadata": {
    "collapsed": true
   },
   "outputs": [],
   "source": [
    "from sklearn.tree import DecisionTreeClassifier"
   ]
  },
  {
   "cell_type": "code",
   "execution_count": 90,
   "metadata": {
    "collapsed": true
   },
   "outputs": [],
   "source": [
    "dtc_class = DecisionTreeClassifier()"
   ]
  },
  {
   "cell_type": "code",
   "execution_count": 91,
   "metadata": {
    "collapsed": true
   },
   "outputs": [],
   "source": [
    "dtc = dtc_class.fit(X_train,y_train)"
   ]
  },
  {
   "cell_type": "code",
   "execution_count": 92,
   "metadata": {
    "collapsed": true
   },
   "outputs": [],
   "source": [
    "dtc_pred = dtc.predict(X_test)"
   ]
  },
  {
   "cell_type": "code",
   "execution_count": 93,
   "metadata": {
    "collapsed": false
   },
   "outputs": [
    {
     "name": "stdout",
     "output_type": "stream",
     "text": [
      "[[7564  655 1464]\n",
      " [ 573  461  232]\n",
      " [1391  281 5199]]\n",
      "\n",
      "\n",
      "             precision    recall  f1-score   support\n",
      "\n",
      "          0       0.79      0.78      0.79      9683\n",
      "          1       0.33      0.36      0.35      1266\n",
      "          2       0.75      0.76      0.76      6871\n",
      "\n",
      "avg / total       0.75      0.74      0.74     17820\n",
      "\n",
      "\n",
      "\n",
      "0.742087542088\n"
     ]
    }
   ],
   "source": [
    "print(confusion_matrix(y_test,dtc_pred))\n",
    "print \"\"\n",
    "print \"\"\n",
    "print(classification_report(y_test,dtc_pred))\n",
    "print \"\"\n",
    "print \"\"\n",
    "print(accuracy_score(y_test,dtc_pred))"
   ]
  },
  {
   "cell_type": "code",
   "execution_count": null,
   "metadata": {
    "collapsed": true
   },
   "outputs": [],
   "source": []
  },
  {
   "cell_type": "markdown",
   "metadata": {},
   "source": [
    "# MLPClassifier"
   ]
  },
  {
   "cell_type": "code",
   "execution_count": 94,
   "metadata": {
    "collapsed": true
   },
   "outputs": [],
   "source": [
    "from sklearn.neural_network import MLPClassifier"
   ]
  },
  {
   "cell_type": "code",
   "execution_count": 95,
   "metadata": {
    "collapsed": true
   },
   "outputs": [],
   "source": [
    "mlp_class = MLPClassifier(hidden_layer_sizes=(100,10))"
   ]
  },
  {
   "cell_type": "code",
   "execution_count": 96,
   "metadata": {
    "collapsed": true
   },
   "outputs": [],
   "source": [
    "mlp = mlp_class.fit(X_train,y_train)"
   ]
  },
  {
   "cell_type": "code",
   "execution_count": 97,
   "metadata": {
    "collapsed": true
   },
   "outputs": [],
   "source": [
    "mlp_pred = mlp.predict(X_test)"
   ]
  },
  {
   "cell_type": "code",
   "execution_count": 98,
   "metadata": {
    "collapsed": false
   },
   "outputs": [
    {
     "name": "stdout",
     "output_type": "stream",
     "text": [
      "[[8371  175 1137]\n",
      " [ 721  267  278]\n",
      " [1865   89 4917]]\n",
      "\n",
      "\n",
      "             precision    recall  f1-score   support\n",
      "\n",
      "          0       0.76      0.86      0.81      9683\n",
      "          1       0.50      0.21      0.30      1266\n",
      "          2       0.78      0.72      0.74      6871\n",
      "\n",
      "avg / total       0.75      0.76      0.75     17820\n",
      "\n",
      "\n",
      "\n",
      "0.760662177329\n"
     ]
    }
   ],
   "source": [
    "print(confusion_matrix(y_test,mlp_pred))\n",
    "print \"\"\n",
    "print \"\"\n",
    "print(classification_report(y_test,mlp_pred))\n",
    "print \"\"\n",
    "print \"\"\n",
    "print(accuracy_score(y_test,mlp_pred))"
   ]
  },
  {
   "cell_type": "code",
   "execution_count": null,
   "metadata": {
    "collapsed": true
   },
   "outputs": [],
   "source": []
  }
 ],
 "metadata": {
  "kernelspec": {
   "display_name": "Python [default]",
   "language": "python",
   "name": "python2"
  },
  "language_info": {
   "codemirror_mode": {
    "name": "ipython",
    "version": 2
   },
   "file_extension": ".py",
   "mimetype": "text/x-python",
   "name": "python",
   "nbconvert_exporter": "python",
   "pygments_lexer": "ipython2",
   "version": "2.7.13"
  }
 },
 "nbformat": 4,
 "nbformat_minor": 2
}
