{
 "metadata": {
  "language_info": {
   "codemirror_mode": {
    "name": "ipython",
    "version": 3
   },
   "file_extension": ".py",
   "mimetype": "text/x-python",
   "name": "python",
   "nbconvert_exporter": "python",
   "pygments_lexer": "ipython3",
   "version": "3.7.7-final"
  },
  "orig_nbformat": 2,
  "kernelspec": {
   "name": "Python 3.7.7 64-bit ('anaconda': virtualenv)",
   "display_name": "Python 3.7.7 64-bit ('anaconda': virtualenv)",
   "metadata": {
    "interpreter": {
     "hash": "9f0194299e911b6a22f0cd3d1c9a66c991d39f48b249be23f24104e40900e329"
    }
   }
  }
 },
 "nbformat": 4,
 "nbformat_minor": 2,
 "cells": [
  {
   "cell_type": "code",
   "execution_count": 2,
   "metadata": {
    "tags": [
     "outputPrepend"
    ]
   },
   "outputs": [
    {
     "output_type": "stream",
     "name": "stdout",
     "text": "_x86_64.whl (9.5 MB)\nProcessing /home/rakesh/.cache/pip/wheels/3e/e1/f8/08f19ba48f75d3dbbb549cec4b86cc0392c14b2b6bb81f4e1f/combo-0.1.1-py3-none-any.whl\nProcessing /home/rakesh/.cache/pip/wheels/dc/ae/aa/3b8cc857617f3ba6cb9e6b804c79c69d0ed60a08e022e9a4f3/suod-0.0.4-py3-none-any.whl\nCollecting numba&gt;=0.35\n  Downloading numba-0.51.2-cp37-cp37m-manylinux2014_x86_64.whl (3.1 MB)\n\u001b[K     |████████████████████████████████| 3.1 MB 71.2 MB/s \n\u001b[?25hProcessing /home/rakesh/.cache/pip/wheels/b9/ba/77/163f10f14bd489351530603e750c195b0ceceed2f3be2b32f1/SQLAlchemy-1.3.13-cp37-cp37m-linux_x86_64.whl\nRequirement already satisfied: docker&gt;=4.0.0 in /anaconda/lib/python3.7/site-packages (from mlflow-&gt;pycaret) (4.2.2)\nCollecting cloudpickle\n  Downloading cloudpickle-1.6.0-py3-none-any.whl (23 kB)\nCollecting sqlparse\n  Using cached sqlparse-0.3.1-py2.py3-none-any.whl (40 kB)\nProcessing /home/rakesh/.cache/pip/wheels/69/38/7a/072b5863ca334d012821a287fd1d066cea33abdcda3ef2f878/querystring_parser-1.2.4-py3-none-any.whl\nCollecting pyyaml\n  Downloading PyYAML-5.3.1.tar.gz (269 kB)\n\u001b[K     |████████████████████████████████| 269 kB 71.1 MB/s \n\u001b[?25hProcessing /home/rakesh/.cache/pip/wheels/f2/3d/f8/530583ffcedbdfb6535adc64bee9a9ad8db15ea8c42ee8b832/prometheus_flask_exporter-0.18.0-py3-none-any.whl\nRequirement already satisfied: entrypoints in /anaconda/lib/python3.7/site-packages (from mlflow-&gt;pycaret) (0.3)\nCollecting azure-storage-blob&gt;=12.0\n  Using cached azure_storage_blob-12.5.0-py2.py3-none-any.whl (326 kB)\nRequirement already satisfied: python-dateutil in /anaconda/lib/python3.7/site-packages (from mlflow-&gt;pycaret) (2.8.1)\nRequirement already satisfied: requests&gt;=2.17.3 in /anaconda/lib/python3.7/site-packages (from mlflow-&gt;pycaret) (2.24.0)\nProcessing /home/rakesh/.cache/pip/wheels/be/5d/0a/9e13f53f4f5dfb67cd8d245bb7cdffe12f135846f491a283e3/alembic-1.4.1-py2.py3-none-any.whl\nCollecting gorilla\n  Using cached gorilla-0.3.0-py2.py3-none-any.whl (11 kB)\nCollecting gunicorn; platform_system != &quot;Windows&quot;\n  Using cached gunicorn-20.0.4-py2.py3-none-any.whl (77 kB)\nCollecting databricks-cli&gt;=0.8.7\n  Downloading databricks-cli-0.12.0.tar.gz (53 kB)\n\u001b[K     |████████████████████████████████| 53 kB 583 kB/s \n\u001b[?25hCollecting protobuf&gt;=3.6.0\n  Downloading protobuf-3.13.0-cp37-cp37m-manylinux1_x86_64.whl (1.3 MB)\n\u001b[K     |████████████████████████████████| 1.3 MB 70.2 MB/s \n\u001b[?25hCollecting gitpython&gt;=2.1.0\n  Using cached GitPython-3.1.9-py3-none-any.whl (159 kB)\nCollecting Flask\n  Using cached Flask-1.1.2-py2.py3-none-any.whl (94 kB)\nCollecting threadpoolctl&gt;=2.0.0\n  Downloading threadpoolctl-2.1.0-py3-none-any.whl (12 kB)\nCollecting cycler&gt;=0.10.0\n  Downloading cycler-0.10.0-py2.py3-none-any.whl (6.5 kB)\nCollecting pillow&gt;=6.2.0\n  Downloading Pillow-7.2.0-cp37-cp37m-manylinux1_x86_64.whl (2.2 MB)\n\u001b[K     |████████████████████████████████| 2.2 MB 49.8 MB/s \n\u001b[?25hRequirement already satisfied: certifi&gt;=2020.06.20 in /anaconda/lib/python3.7/site-packages (from matplotlib-&gt;pycaret) (2020.6.20)\nCollecting kiwisolver&gt;=1.0.1\n  Downloading kiwisolver-1.2.0-cp37-cp37m-manylinux1_x86_64.whl (88 kB)\n\u001b[K     |████████████████████████████████| 88 kB 3.2 MB/s \n\u001b[?25hRequirement already satisfied: pyparsing!=2.0.4,!=2.1.2,!=2.1.6,&gt;=2.0.3 in /anaconda/lib/python3.7/site-packages (from matplotlib-&gt;pycaret) (2.4.7)\nRequirement already satisfied: pytz&gt;=2017.2 in /anaconda/lib/python3.7/site-packages (from pandas-&gt;pycaret) (2020.1)\nRequirement already satisfied: widgetsnbextension~=3.5.0 in /anaconda/lib/python3.7/site-packages (from ipywidgets-&gt;pycaret) (3.5.1)\nRequirement already satisfied: nbformat&gt;=4.2.0 in /anaconda/lib/python3.7/site-packages (from ipywidgets-&gt;pycaret) (5.0.7)\nRequirement already satisfied: ipykernel&gt;=4.5.1 in /anaconda/lib/python3.7/site-packages (from ipywidgets-&gt;pycaret) (5.3.4)\nCollecting preshed&lt;3.1.0,&gt;=3.0.2\n  Using cached preshed-3.0.2-cp37-cp37m-manylinux1_x86_64.whl (118 kB)\nCollecting plac&lt;1.2.0,&gt;=0.9.6\n  Using cached plac-1.1.3-py2.py3-none-any.whl (20 kB)\nCollecting blis&lt;0.5.0,&gt;=0.4.0\n  Using cached blis-0.4.1-cp37-cp37m-manylinux1_x86_64.whl (3.7 MB)\nCollecting catalogue&lt;1.1.0,&gt;=0.0.7\n  Using cached catalogue-1.0.0-py2.py3-none-any.whl (7.7 kB)\nCollecting wasabi&lt;1.1.0,&gt;=0.4.0\n  Using cached wasabi-0.8.0-py3-none-any.whl (23 kB)\nCollecting thinc==7.4.1\n  Using cached thinc-7.4.1-cp37-cp37m-manylinux1_x86_64.whl (2.1 MB)\nCollecting murmurhash&lt;1.1.0,&gt;=0.28.0\n  Using cached murmurhash-1.0.2-cp37-cp37m-manylinux1_x86_64.whl (19 kB)\nCollecting cymem&lt;2.1.0,&gt;=2.0.2\n  Using cached cymem-2.0.3-cp37-cp37m-manylinux1_x86_64.whl (32 kB)\nCollecting srsly&lt;1.1.0,&gt;=1.0.2\n  Using cached srsly-1.0.2-cp37-cp37m-manylinux1_x86_64.whl (185 kB)\nCollecting missingno&gt;=0.4.2\n  Using cached missingno-0.4.2-py3-none-any.whl (9.7 kB)\nCollecting phik&gt;=0.9.10\n  Using cached phik-0.10.0-py3-none-any.whl (599 kB)\nCollecting tangled-up-in-unicode&gt;=0.0.6\n  Using cached tangled_up_in_unicode-0.0.6-py3-none-any.whl (3.1 MB)\nProcessing /home/rakesh/.cache/pip/wheels/70/e1/52/5b14d250ba868768823940c3229e9950d201a26d0bd3ee8655/htmlmin-0.1.12-py3-none-any.whl\nCollecting visions[type_image_path]==0.5.0\n  Using cached visions-0.5.0-py3-none-any.whl (64 kB)\nRequirement already satisfied: attrs&gt;=19.3.0 in /anaconda/lib/python3.7/site-packages (from pandas-profiling&gt;=2.8.0-&gt;pycaret) (19.3.0)\nCollecting confuse&gt;=1.0.0\n  Using cached confuse-1.3.0-py2.py3-none-any.whl (64 kB)\nCollecting smart-open&gt;=1.8.1\n  Downloading smart_open-2.2.1.tar.gz (122 kB)\n\u001b[K     |████████████████████████████████| 122 kB 73.1 MB/s \n\u001b[?25hCollecting retrying&gt;=1.3.3\n  Using cached retrying-1.3.3.tar.gz (10 kB)\nCollecting graphviz\n  Downloading graphviz-0.14.1-py2.py3-none-any.whl (18 kB)\nRequirement already satisfied: parso&lt;0.8.0,&gt;=0.7.0 in /anaconda/lib/python3.7/site-packages (from jedi&gt;=0.10-&gt;IPython-&gt;pycaret) (0.7.0)\nRequirement already satisfied: wcwidth in /anaconda/lib/python3.7/site-packages (from prompt-toolkit!=3.0.0,!=3.0.1,&lt;3.1.0,&gt;=2.0.0-&gt;IPython-&gt;pycaret) (0.2.5)\nRequirement already satisfied: ipython-genutils in /anaconda/lib/python3.7/site-packages (from traitlets&gt;=4.2-&gt;IPython-&gt;pycaret) (0.2.0)\nRequirement already satisfied: ptyprocess&gt;=0.5 in /anaconda/lib/python3.7/site-packages (from pexpect; sys_platform != &quot;win32&quot;-&gt;IPython-&gt;pycaret) (0.6.0)\nRequirement already satisfied: MarkupSafe&gt;=0.23 in /anaconda/lib/python3.7/site-packages (from jinja2&gt;=2.7.2-&gt;pyLDAvis-&gt;pycaret) (1.1.1)\nCollecting pluggy&lt;1.0,&gt;=0.12\n  Using cached pluggy-0.13.1-py2.py3-none-any.whl (18 kB)\nCollecting iniconfig\n  Using cached iniconfig-1.0.1-py3-none-any.whl (4.2 kB)\nCollecting py&gt;=1.8.2\n  Using cached py-1.9.0-py2.py3-none-any.whl (99 kB)\nCollecting toml\n  Using cached toml-0.10.1-py2.py3-none-any.whl (19 kB)\nRequirement already satisfied: importlib-metadata&gt;=0.12; python_version &lt; &quot;3.8&quot; in /anaconda/lib/python3.7/site-packages (from pytest-&gt;pyLDAvis-&gt;pycaret) (1.7.0)\nRequirement already satisfied: packaging in /anaconda/lib/python3.7/site-packages (from pytest-&gt;pyLDAvis-&gt;pycaret) (20.4)\nCollecting patsy&gt;=0.5\n  Using cached patsy-0.5.1-py2.py3-none-any.whl (231 kB)\nCollecting llvmlite&lt;0.35,&gt;=0.34.0.dev0\n  Downloading llvmlite-0.34.0-cp37-cp37m-manylinux2010_x86_64.whl (24.6 MB)\n\u001b[K     |████████████████████████████████| 24.6 MB 47.2 MB/s \n\u001b[?25hRequirement already satisfied: websocket-client&gt;=0.32.0 in /anaconda/lib/python3.7/site-packages (from docker&gt;=4.0.0-&gt;mlflow-&gt;pycaret) (0.57.0)\nRequirement already satisfied: prometheus-client in /anaconda/lib/python3.7/site-packages (from prometheus-flask-exporter-&gt;mlflow-&gt;pycaret) (0.8.0)\nRequirement already satisfied: cryptography&gt;=2.1.4 in /anaconda/lib/python3.7/site-packages (from azure-storage-blob&gt;=12.0-&gt;mlflow-&gt;pycaret) (2.9.2)\nRequirement already satisfied: msrest&gt;=0.6.10 in /anaconda/lib/python3.7/site-packages (from azure-storage-blob&gt;=12.0-&gt;mlflow-&gt;pycaret) (0.6.17)\nCollecting azure-core&lt;2.0.0,&gt;=1.6.0\n  Downloading azure_core-1.8.1-py2.py3-none-any.whl (121 kB)\n\u001b[K     |████████████████████████████████| 121 kB 72.6 MB/s \n\u001b[?25hRequirement already satisfied: idna&lt;3,&gt;=2.5 in /anaconda/lib/python3.7/site-packages (from requests&gt;=2.17.3-&gt;mlflow-&gt;pycaret) (2.10)\nRequirement already satisfied: urllib3!=1.25.0,!=1.25.1,&lt;1.26,&gt;=1.21.1 in /anaconda/lib/python3.7/site-packages (from requests&gt;=2.17.3-&gt;mlflow-&gt;pycaret) (1.25.9)\nRequirement already satisfied: chardet&lt;4,&gt;=3.0.2 in /anaconda/lib/python3.7/site-packages (from requests&gt;=2.17.3-&gt;mlflow-&gt;pycaret) (3.0.4)\nRequirement already satisfied: python-editor&gt;=0.3 in /anaconda/lib/python3.7/site-packages (from alembic&lt;=1.4.1-&gt;mlflow-&gt;pycaret) (1.0.4)\nRequirement already satisfied: Mako in /anaconda/lib/python3.7/site-packages (from alembic&lt;=1.4.1-&gt;mlflow-&gt;pycaret) (1.1.3)\nCollecting tabulate&gt;=0.7.7\n  Downloading tabulate-0.8.7-py3-none-any.whl (24 kB)\nCollecting tenacity&gt;=6.2.0\n  Downloading tenacity-6.2.0-py2.py3-none-any.whl (24 kB)\nCollecting gitdb&lt;5,&gt;=4.0.1\n  Using cached gitdb-4.0.5-py3-none-any.whl (63 kB)\nCollecting Werkzeug&gt;=0.15\n  Using cached Werkzeug-1.0.1-py2.py3-none-any.whl (298 kB)\nCollecting itsdangerous&gt;=0.24\n  Using cached itsdangerous-1.1.0-py2.py3-none-any.whl (16 kB)\nRequirement already satisfied: notebook&gt;=4.4.1 in /anaconda/lib/python3.7/site-packages (from widgetsnbextension~=3.5.0-&gt;ipywidgets-&gt;pycaret) (6.0.3)\nRequirement already satisfied: jsonschema!=2.5.0,&gt;=2.4 in /anaconda/lib/python3.7/site-packages (from nbformat&gt;=4.2.0-&gt;ipywidgets-&gt;pycaret) (3.2.0)\nRequirement already satisfied: jupyter-core in /anaconda/lib/python3.7/site-packages (from nbformat&gt;=4.2.0-&gt;ipywidgets-&gt;pycaret) (4.6.3)\nRequirement already satisfied: tornado&gt;=4.2 in /anaconda/lib/python3.7/site-packages (from ipykernel&gt;=4.5.1-&gt;ipywidgets-&gt;pycaret) (6.0.4)\nRequirement already satisfied: jupyter-client in /anaconda/lib/python3.7/site-packages (from ipykernel&gt;=4.5.1-&gt;ipywidgets-&gt;pycaret) (6.1.5)\nCollecting networkx&gt;=2.4\n  Downloading networkx-2.5-py3-none-any.whl (1.6 MB)\n\u001b[K     |████████████████████████████████| 1.6 MB 75.4 MB/s \n\u001b[?25hProcessing /home/rakesh/.cache/pip/wheels/16/72/b0/e5be34699908d9ff25dcb3debbb717987b766af61bbddffdfe/ImageHash-4.1.0-py2.py3-none-any.whl\nCollecting boto3\n  Downloading boto3-1.15.11.tar.gz (97 kB)\n\u001b[K     |████████████████████████████████| 97 kB 1.8 MB/s \n\u001b[?25hRequirement already satisfied: zipp&gt;=0.5 in /anaconda/lib/python3.7/site-packages (from importlib-metadata&gt;=0.12; python_version &lt; &quot;3.8&quot;-&gt;pytest-&gt;pyLDAvis-&gt;pycaret) (3.1.0)\nRequirement already satisfied: cffi!=1.11.3,&gt;=1.8 in /anaconda/lib/python3.7/site-packages (from cryptography&gt;=2.1.4-&gt;azure-storage-blob&gt;=12.0-&gt;mlflow-&gt;pycaret) (1.14.0)\nRequirement already satisfied: requests-oauthlib&gt;=0.5.0 in /anaconda/lib/python3.7/site-packages (from msrest&gt;=0.6.10-&gt;azure-storage-blob&gt;=12.0-&gt;mlflow-&gt;pycaret) (1.3.0)\nRequirement already satisfied: isodate&gt;=0.6.0 in /anaconda/lib/python3.7/site-packages (from msrest&gt;=0.6.10-&gt;azure-storage-blob&gt;=12.0-&gt;mlflow-&gt;pycaret) (0.6.0)\nCollecting smmap&lt;4,&gt;=3.0.1\n  Using cached smmap-3.0.4-py2.py3-none-any.whl (25 kB)\nRequirement already satisfied: pyzmq&gt;=17 in /anaconda/lib/python3.7/site-packages (from notebook&gt;=4.4.1-&gt;widgetsnbextension~=3.5.0-&gt;ipywidgets-&gt;pycaret) (19.0.1)\nRequirement already satisfied: Send2Trash in /anaconda/lib/python3.7/site-packages (from notebook&gt;=4.4.1-&gt;widgetsnbextension~=3.5.0-&gt;ipywidgets-&gt;pycaret) (1.5.0)\nRequirement already satisfied: nbconvert in /anaconda/lib/python3.7/site-packages (from notebook&gt;=4.4.1-&gt;widgetsnbextension~=3.5.0-&gt;ipywidgets-&gt;pycaret) (5.6.1)\nRequirement already satisfied: terminado&gt;=0.8.1 in /anaconda/lib/python3.7/site-packages (from notebook&gt;=4.4.1-&gt;widgetsnbextension~=3.5.0-&gt;ipywidgets-&gt;pycaret) (0.8.3)\nRequirement already satisfied: pyrsistent&gt;=0.14.0 in /anaconda/lib/python3.7/site-packages (from jsonschema!=2.5.0,&gt;=2.4-&gt;nbformat&gt;=4.2.0-&gt;ipywidgets-&gt;pycaret) (0.16.0)\nCollecting PyWavelets\n  Downloading PyWavelets-1.1.1-cp37-cp37m-manylinux1_x86_64.whl (4.4 MB)\n\u001b[K     |████████████████████████████████| 4.4 MB 71.7 MB/s \n\u001b[?25hCollecting botocore&lt;1.19.0,&gt;=1.18.11\n  Downloading botocore-1.18.11-py2.py3-none-any.whl (6.7 MB)\n\u001b[K     |████████████████████████████████| 6.7 MB 71.9 MB/s \n\u001b[?25hRequirement already satisfied: jmespath&lt;1.0.0,&gt;=0.7.1 in /anaconda/lib/python3.7/site-packages (from boto3-&gt;smart-open&gt;=1.8.1-&gt;gensim-&gt;pycaret) (0.10.0)\nCollecting s3transfer&lt;0.4.0,&gt;=0.3.0\n  Downloading s3transfer-0.3.3-py2.py3-none-any.whl (69 kB)\n\u001b[K     |████████████████████████████████| 69 kB 1.3 MB/s \n\u001b[?25hRequirement already satisfied: pycparser in /anaconda/lib/python3.7/site-packages (from cffi!=1.11.3,&gt;=1.8-&gt;cryptography&gt;=2.1.4-&gt;azure-storage-blob&gt;=12.0-&gt;mlflow-&gt;pycaret) (2.20)\nRequirement already satisfied: oauthlib&gt;=3.0.0 in /anaconda/lib/python3.7/site-packages (from requests-oauthlib&gt;=0.5.0-&gt;msrest&gt;=0.6.10-&gt;azure-storage-blob&gt;=12.0-&gt;mlflow-&gt;pycaret) (3.1.0)\nRequirement already satisfied: bleach in /anaconda/lib/python3.7/site-packages (from nbconvert-&gt;notebook&gt;=4.4.1-&gt;widgetsnbextension~=3.5.0-&gt;ipywidgets-&gt;pycaret) (3.1.5)\nRequirement already satisfied: testpath in /anaconda/lib/python3.7/site-packages (from nbconvert-&gt;notebook&gt;=4.4.1-&gt;widgetsnbextension~=3.5.0-&gt;ipywidgets-&gt;pycaret) (0.4.4)\nRequirement already satisfied: mistune&lt;2,&gt;=0.8.1 in /anaconda/lib/python3.7/site-packages (from nbconvert-&gt;notebook&gt;=4.4.1-&gt;widgetsnbextension~=3.5.0-&gt;ipywidgets-&gt;pycaret) (0.8.4)\nRequirement already satisfied: pandocfilters&gt;=1.4.1 in /anaconda/lib/python3.7/site-packages (from nbconvert-&gt;notebook&gt;=4.4.1-&gt;widgetsnbextension~=3.5.0-&gt;ipywidgets-&gt;pycaret) (1.4.2)\nRequirement already satisfied: defusedxml in /anaconda/lib/python3.7/site-packages (from nbconvert-&gt;notebook&gt;=4.4.1-&gt;widgetsnbextension~=3.5.0-&gt;ipywidgets-&gt;pycaret) (0.6.0)\nRequirement already satisfied: webencodings in /anaconda/lib/python3.7/site-packages (from bleach-&gt;nbconvert-&gt;notebook&gt;=4.4.1-&gt;widgetsnbextension~=3.5.0-&gt;ipywidgets-&gt;pycaret) (0.5.1)\nBuilding wheels for collected packages: nltk, future, pyyaml, databricks-cli, smart-open, retrying, boto3\n  Building wheel for nltk (setup.py) ... \u001b[?25ldone\n\u001b[?25h  Created wheel for nltk: filename=nltk-3.5-py3-none-any.whl size=1434673 sha256=999ddc7bbea9d591e4354dbf134630f0eedd8063b13e8e88f559f350da6396b6\n  Stored in directory: /home/rakesh/.cache/pip/wheels/45/6c/46/a1865e7ba706b3817f5d1b2ff7ce8996aabdd0d03d47ba0266\n  Building wheel for future (setup.py) ... \u001b[?25ldone\n\u001b[?25h  Created wheel for future: filename=future-0.18.2-py3-none-any.whl size=491058 sha256=e0a30cf7f7cc53176f2b8c4b1ed75614022d686125741404aaf7034699fdccde\n  Stored in directory: /home/rakesh/.cache/pip/wheels/56/b0/fe/4410d17b32f1f0c3cf54cdfb2bc04d7b4b8f4ae377e2229ba0\n  Building wheel for pyyaml (setup.py) ... \u001b[?25ldone\n\u001b[?25h  Created wheel for pyyaml: filename=PyYAML-5.3.1-cp37-cp37m-linux_x86_64.whl size=44619 sha256=bfdc2f2fdb54b277f08ebdb28713978b8478c691ceb6eacb8ff48791eb7a0d26\n  Stored in directory: /home/rakesh/.cache/pip/wheels/5e/03/1e/e1e954795d6f35dfc7b637fe2277bff021303bd9570ecea653\n  Building wheel for databricks-cli (setup.py) ... \u001b[?25ldone\n\u001b[?25h  Created wheel for databricks-cli: filename=databricks_cli-0.12.0-py3-none-any.whl size=99631 sha256=ded5dd0916358da4219f4ef8d2dc10a316945c7053c60df7c6df79545d5b8049\n  Stored in directory: /home/rakesh/.cache/pip/wheels/9e/81/a9/0c44a8c13fc3cbe54023bff296b1002b1d455625507d074d10\n  Building wheel for smart-open (setup.py) ... \u001b[?25ldone\n\u001b[?25h  Created wheel for smart-open: filename=smart_open-2.2.1-py3-none-any.whl size=114113 sha256=84a3881c0820848c888f262f1553d0b58840cf14956d2fcf44a99219e620a446\n  Stored in directory: /home/rakesh/.cache/pip/wheels/27/29/59/1e092b4bf54a2a70eb600ec0b5b82a5dee3149019148b15fb0\n  Building wheel for retrying (setup.py) ... \u001b[?25ldone\n\u001b[?25h  Created wheel for retrying: filename=retrying-1.3.3-py3-none-any.whl size=11430 sha256=d377865069b4dfb3237da7355b3e9430cba5f74ac6eb7631df018e73bae5fe53\n  Stored in directory: /home/rakesh/.cache/pip/wheels/f9/8d/8d/f6af3f7f9eea3553bc2fe6d53e4b287dad18b06a861ac56ddf\n  Building wheel for boto3 (setup.py) ... \u001b[?25ldone\n\u001b[?25h  Created wheel for boto3: filename=boto3-1.15.11-py2.py3-none-any.whl size=127859 sha256=1d16c2d2c624ba64787ae3f8f17ba39614864d477bc813bcc88b5169528ffaaf\n  Stored in directory: /home/rakesh/.cache/pip/wheels/1a/e9/43/27327b7ca7fcf3cd55e1cce78c70a9eae2bbab67001b73fcfb\nSuccessfully built nltk future pyyaml databricks-cli smart-open retrying boto3\nInstalling collected packages: numpy, scipy, future, joblib, pandas, numexpr, pluggy, iniconfig, py, toml, pytest, funcy, pyLDAvis, retrying, plotly, colorlover, cufflinks, click, regex, nltk, patsy, statsmodels, pillow, kiwisolver, cycler, matplotlib, llvmlite, numba, threadpoolctl, scikit-learn, combo, suod, pyod, sqlalchemy, cloudpickle, sqlparse, querystring-parser, pyyaml, Werkzeug, itsdangerous, Flask, prometheus-flask-exporter, azure-core, azure-storage-blob, alembic, gorilla, gunicorn, tabulate, tenacity, databricks-cli, protobuf, smmap, gitdb, gitpython, mlflow, umap-learn, xgboost, mlxtend, yellowbrick, imbalanced-learn, seaborn, lightgbm, textblob, wordcloud, murmurhash, cymem, preshed, plac, blis, catalogue, wasabi, srsly, thinc, spacy, missingno, phik, tangled-up-in-unicode, htmlmin, networkx, PyWavelets, imagehash, visions, confuse, pandas-profiling, kmodes, botocore, s3transfer, boto3, smart-open, gensim, datefinder, graphviz, catboost, pycaret\n  Attempting uninstall: sqlalchemy\n    Found existing installation: SQLAlchemy 1.3.18\n    Uninstalling SQLAlchemy-1.3.18:\n      Successfully uninstalled SQLAlchemy-1.3.18\n  Attempting uninstall: alembic\n    Found existing installation: alembic 1.4.2\n    Uninstalling alembic-1.4.2:\n      Successfully uninstalled alembic-1.4.2\nSuccessfully installed Flask-1.1.2 PyWavelets-1.1.1 Werkzeug-1.0.1 alembic-1.4.1 azure-core-1.8.1 azure-storage-blob-12.5.0 blis-0.4.1 boto3-1.15.11 botocore-1.18.11 catalogue-1.0.0 catboost-0.24.1 click-7.1.2 cloudpickle-1.6.0 colorlover-0.3.0 combo-0.1.1 confuse-1.3.0 cufflinks-0.17.3 cycler-0.10.0 cymem-2.0.3 databricks-cli-0.12.0 datefinder-0.7.1 funcy-1.15 future-0.18.2 gensim-3.8.3 gitdb-4.0.5 gitpython-3.1.9 gorilla-0.3.0 graphviz-0.14.1 gunicorn-20.0.4 htmlmin-0.1.12 imagehash-4.1.0 imbalanced-learn-0.7.0 iniconfig-1.0.1 itsdangerous-1.1.0 joblib-0.17.0 kiwisolver-1.2.0 kmodes-0.10.2 lightgbm-3.0.0 llvmlite-0.34.0 matplotlib-3.3.2 missingno-0.4.2 mlflow-1.11.0 mlxtend-0.17.3 murmurhash-1.0.2 networkx-2.5 nltk-3.5 numba-0.51.2 numexpr-2.7.1 numpy-1.19.2 pandas-1.1.2 pandas-profiling-2.9.0 patsy-0.5.1 phik-0.10.0 pillow-7.2.0 plac-1.1.3 plotly-4.11.0 pluggy-0.13.1 preshed-3.0.2 prometheus-flask-exporter-0.18.0 protobuf-3.13.0 py-1.9.0 pyLDAvis-2.1.2 pycaret-2.1.2 pyod-0.8.3 pytest-6.1.0 pyyaml-5.3.1 querystring-parser-1.2.4 regex-2020.9.27 retrying-1.3.3 s3transfer-0.3.3 scikit-learn-0.23.2 scipy-1.5.2 seaborn-0.11.0 smart-open-2.2.1 smmap-3.0.4 spacy-2.3.2 sqlalchemy-1.3.13 sqlparse-0.3.1 srsly-1.0.2 statsmodels-0.12.0 suod-0.0.4 tabulate-0.8.7 tangled-up-in-unicode-0.0.6 tenacity-6.2.0 textblob-0.15.3 thinc-7.4.1 threadpoolctl-2.1.0 toml-0.10.1 umap-learn-0.4.6 visions-0.5.0 wasabi-0.8.0 wordcloud-1.8.0 xgboost-1.2.0 yellowbrick-1.1\n"
    }
   ],
   "source": [
    "!pip install pycaret"
   ]
  },
  {
   "cell_type": "code",
   "execution_count": 4,
   "metadata": {},
   "outputs": [],
   "source": [
    "import pycaret\n",
    "\n",
    "import pandas as pd"
   ]
  },
  {
   "cell_type": "code",
   "execution_count": 5,
   "metadata": {
    "tags": []
   },
   "outputs": [
    {
     "output_type": "stream",
     "name": "stdout",
     "text": "total 25952\n-rw-rw-r-- 1 rakesh rakesh   324512 Oct  2 22:00  SubmissionFormat.csv\n-rw-rw-r-- 1 rakesh rakesh     2481 Oct  2 22:00  descriptions.html\ndrwxrwxr-x 2 rakesh rakesh     4096 Oct  2 22:00  old_trnsfrmd_data\n-rwxrwxr-x 1 rakesh rakesh  5016337 Oct  2 22:00 &#39;test set values.csv&#39;\n-rw-rw-r-- 1 rakesh rakesh  1148327 Oct  2 22:00 &#39;training set labels.csv&#39;\n-rw-rw-r-- 1 rakesh rakesh 20069199 Oct  2 22:00 &#39;training set values.csv&#39;\n"
    }
   ],
   "source": [
    "!ls -l data "
   ]
  },
  {
   "cell_type": "code",
   "execution_count": 6,
   "metadata": {},
   "outputs": [],
   "source": [
    "train = pd.read_csv('./data/training set values.csv')\n",
    "train_lbl = pd.read_csv('./data/training set labels.csv')\n",
    "test = pd.read_csv('./data/test set values.csv')"
   ]
  },
  {
   "cell_type": "code",
   "execution_count": 7,
   "metadata": {},
   "outputs": [
    {
     "output_type": "execute_result",
     "data": {
      "text/plain": "((59400, 40), (59400, 2), (14850, 40))"
     },
     "metadata": {},
     "execution_count": 7
    }
   ],
   "source": [
    "train.shape,train_lbl.shape,test.shape"
   ]
  },
  {
   "cell_type": "code",
   "execution_count": 8,
   "metadata": {},
   "outputs": [],
   "source": [
    "train = train.merge(train_lbl,on='id')"
   ]
  },
  {
   "cell_type": "code",
   "execution_count": 9,
   "metadata": {},
   "outputs": [
    {
     "output_type": "execute_result",
     "data": {
      "text/plain": "(59400, 41)"
     },
     "metadata": {},
     "execution_count": 9
    }
   ],
   "source": [
    "train.shape"
   ]
  },
  {
   "cell_type": "code",
   "execution_count": 10,
   "metadata": {},
   "outputs": [
    {
     "output_type": "execute_result",
     "data": {
      "text/plain": "      id  amount_tsh date_recorded        funder  gps_height     installer  \\\n0  69572      6000.0    2011-03-14         Roman        1390         Roman   \n1   8776         0.0    2013-03-06       Grumeti        1399       GRUMETI   \n2  34310        25.0    2013-02-25  Lottery Club         686  World vision   \n3  67743         0.0    2013-01-28        Unicef         263        UNICEF   \n4  19728         0.0    2011-07-13   Action In A           0       Artisan   \n\n   longitude   latitude              wpt_name  num_private  ... water_quality  \\\n0  34.938093  -9.856322                  none            0  ...          soft   \n1  34.698766  -2.147466              Zahanati            0  ...          soft   \n2  37.460664  -3.821329           Kwa Mahundi            0  ...          soft   \n3  38.486161 -11.155298  Zahanati Ya Nanyumbu            0  ...          soft   \n4  31.130847  -1.825359               Shuleni            0  ...          soft   \n\n  quality_group      quantity  quantity_group                source  \\\n0          good        enough          enough                spring   \n1          good  insufficient    insufficient  rainwater harvesting   \n2          good        enough          enough                   dam   \n3          good           dry             dry           machine dbh   \n4          good      seasonal        seasonal  rainwater harvesting   \n\n            source_type source_class              waterpoint_type  \\\n0                spring  groundwater           communal standpipe   \n1  rainwater harvesting      surface           communal standpipe   \n2                   dam      surface  communal standpipe multiple   \n3              borehole  groundwater  communal standpipe multiple   \n4  rainwater harvesting      surface           communal standpipe   \n\n  waterpoint_type_group    status_group  \n0    communal standpipe      functional  \n1    communal standpipe      functional  \n2    communal standpipe      functional  \n3    communal standpipe  non functional  \n4    communal standpipe      functional  \n\n[5 rows x 41 columns]",
      "text/html": "<div>\n<style scoped>\n    .dataframe tbody tr th:only-of-type {\n        vertical-align: middle;\n    }\n\n    .dataframe tbody tr th {\n        vertical-align: top;\n    }\n\n    .dataframe thead th {\n        text-align: right;\n    }\n</style>\n<table border=\"1\" class=\"dataframe\">\n  <thead>\n    <tr style=\"text-align: right;\">\n      <th></th>\n      <th>id</th>\n      <th>amount_tsh</th>\n      <th>date_recorded</th>\n      <th>funder</th>\n      <th>gps_height</th>\n      <th>installer</th>\n      <th>longitude</th>\n      <th>latitude</th>\n      <th>wpt_name</th>\n      <th>num_private</th>\n      <th>...</th>\n      <th>water_quality</th>\n      <th>quality_group</th>\n      <th>quantity</th>\n      <th>quantity_group</th>\n      <th>source</th>\n      <th>source_type</th>\n      <th>source_class</th>\n      <th>waterpoint_type</th>\n      <th>waterpoint_type_group</th>\n      <th>status_group</th>\n    </tr>\n  </thead>\n  <tbody>\n    <tr>\n      <th>0</th>\n      <td>69572</td>\n      <td>6000.0</td>\n      <td>2011-03-14</td>\n      <td>Roman</td>\n      <td>1390</td>\n      <td>Roman</td>\n      <td>34.938093</td>\n      <td>-9.856322</td>\n      <td>none</td>\n      <td>0</td>\n      <td>...</td>\n      <td>soft</td>\n      <td>good</td>\n      <td>enough</td>\n      <td>enough</td>\n      <td>spring</td>\n      <td>spring</td>\n      <td>groundwater</td>\n      <td>communal standpipe</td>\n      <td>communal standpipe</td>\n      <td>functional</td>\n    </tr>\n    <tr>\n      <th>1</th>\n      <td>8776</td>\n      <td>0.0</td>\n      <td>2013-03-06</td>\n      <td>Grumeti</td>\n      <td>1399</td>\n      <td>GRUMETI</td>\n      <td>34.698766</td>\n      <td>-2.147466</td>\n      <td>Zahanati</td>\n      <td>0</td>\n      <td>...</td>\n      <td>soft</td>\n      <td>good</td>\n      <td>insufficient</td>\n      <td>insufficient</td>\n      <td>rainwater harvesting</td>\n      <td>rainwater harvesting</td>\n      <td>surface</td>\n      <td>communal standpipe</td>\n      <td>communal standpipe</td>\n      <td>functional</td>\n    </tr>\n    <tr>\n      <th>2</th>\n      <td>34310</td>\n      <td>25.0</td>\n      <td>2013-02-25</td>\n      <td>Lottery Club</td>\n      <td>686</td>\n      <td>World vision</td>\n      <td>37.460664</td>\n      <td>-3.821329</td>\n      <td>Kwa Mahundi</td>\n      <td>0</td>\n      <td>...</td>\n      <td>soft</td>\n      <td>good</td>\n      <td>enough</td>\n      <td>enough</td>\n      <td>dam</td>\n      <td>dam</td>\n      <td>surface</td>\n      <td>communal standpipe multiple</td>\n      <td>communal standpipe</td>\n      <td>functional</td>\n    </tr>\n    <tr>\n      <th>3</th>\n      <td>67743</td>\n      <td>0.0</td>\n      <td>2013-01-28</td>\n      <td>Unicef</td>\n      <td>263</td>\n      <td>UNICEF</td>\n      <td>38.486161</td>\n      <td>-11.155298</td>\n      <td>Zahanati Ya Nanyumbu</td>\n      <td>0</td>\n      <td>...</td>\n      <td>soft</td>\n      <td>good</td>\n      <td>dry</td>\n      <td>dry</td>\n      <td>machine dbh</td>\n      <td>borehole</td>\n      <td>groundwater</td>\n      <td>communal standpipe multiple</td>\n      <td>communal standpipe</td>\n      <td>non functional</td>\n    </tr>\n    <tr>\n      <th>4</th>\n      <td>19728</td>\n      <td>0.0</td>\n      <td>2011-07-13</td>\n      <td>Action In A</td>\n      <td>0</td>\n      <td>Artisan</td>\n      <td>31.130847</td>\n      <td>-1.825359</td>\n      <td>Shuleni</td>\n      <td>0</td>\n      <td>...</td>\n      <td>soft</td>\n      <td>good</td>\n      <td>seasonal</td>\n      <td>seasonal</td>\n      <td>rainwater harvesting</td>\n      <td>rainwater harvesting</td>\n      <td>surface</td>\n      <td>communal standpipe</td>\n      <td>communal standpipe</td>\n      <td>functional</td>\n    </tr>\n  </tbody>\n</table>\n<p>5 rows × 41 columns</p>\n</div>"
     },
     "metadata": {},
     "execution_count": 10
    }
   ],
   "source": [
    "train.head()"
   ]
  },
  {
   "source": [
    " "
   ],
   "cell_type": "markdown",
   "metadata": {}
  },
  {
   "source": [
    "# Pycaret"
   ],
   "cell_type": "markdown",
   "metadata": {}
  },
  {
   "cell_type": "code",
   "execution_count": 11,
   "metadata": {
    "tags": []
   },
   "outputs": [
    {
     "output_type": "stream",
     "name": "stdout",
     "text": "Data for Modeling: (41580, 41)\nUnseen Data For Predictions: (17820, 41)\n"
    }
   ],
   "source": [
    "data = train.sample(frac=0.7, random_state=141).reset_index(drop=True)\n",
    "data_unseen = train.drop(data.index).reset_index(drop=True)\n",
    "\n",
    "print('Data for Modeling: ' + str(data.shape))\n",
    "print('Unseen Data For Predictions: ' + str(data_unseen.shape))"
   ]
  },
  {
   "cell_type": "code",
   "execution_count": 12,
   "metadata": {},
   "outputs": [
    {
     "output_type": "execute_result",
     "data": {
      "text/plain": "((41580, 41), (17820, 41))"
     },
     "metadata": {},
     "execution_count": 12
    }
   ],
   "source": [
    "data.shape,data_unseen.shape"
   ]
  },
  {
   "cell_type": "code",
   "execution_count": 13,
   "metadata": {},
   "outputs": [
    {
     "output_type": "execute_result",
     "data": {
      "text/plain": "      id  amount_tsh date_recorded                  funder  gps_height  \\\n0  17674       200.0    2013-01-18                     Dwe        1243   \n1   3550         0.0    2011-02-21                   Commu        2198   \n2  29414       500.0    2013-03-24  Government Of Tanzania        1887   \n3  46392         0.0    2013-04-04  Government Of Tanzania        1121   \n4  30522       250.0    2013-02-16                    Kadp        1637   \n\n   installer  longitude  latitude        wpt_name  num_private  ...  \\\n0        DWE  30.326088 -4.312276         Ofisini            0  ...   \n1      Commu  34.127362 -9.263835            none            0  ...   \n2        DWE  36.648187 -3.237687      Kwa Kikeni            0  ...   \n3  Community  36.844896 -3.389594  Peter Materini            0  ...   \n4       KADP  30.033542 -4.445927        Zahanati            0  ...   \n\n  water_quality quality_group      quantity  quantity_group  source  \\\n0          soft          good        enough          enough  spring   \n1          soft          good  insufficient    insufficient  spring   \n2          soft          good  insufficient    insufficient  spring   \n3          soft          good        enough          enough  spring   \n4          soft          good        enough          enough  spring   \n\n  source_type source_class     waterpoint_type waterpoint_type_group  \\\n0      spring  groundwater  communal standpipe    communal standpipe   \n1      spring  groundwater  communal standpipe    communal standpipe   \n2      spring  groundwater  communal standpipe    communal standpipe   \n3      spring  groundwater  communal standpipe    communal standpipe   \n4      spring  groundwater  communal standpipe    communal standpipe   \n\n  status_group  \n0   functional  \n1   functional  \n2   functional  \n3   functional  \n4   functional  \n\n[5 rows x 41 columns]",
      "text/html": "<div>\n<style scoped>\n    .dataframe tbody tr th:only-of-type {\n        vertical-align: middle;\n    }\n\n    .dataframe tbody tr th {\n        vertical-align: top;\n    }\n\n    .dataframe thead th {\n        text-align: right;\n    }\n</style>\n<table border=\"1\" class=\"dataframe\">\n  <thead>\n    <tr style=\"text-align: right;\">\n      <th></th>\n      <th>id</th>\n      <th>amount_tsh</th>\n      <th>date_recorded</th>\n      <th>funder</th>\n      <th>gps_height</th>\n      <th>installer</th>\n      <th>longitude</th>\n      <th>latitude</th>\n      <th>wpt_name</th>\n      <th>num_private</th>\n      <th>...</th>\n      <th>water_quality</th>\n      <th>quality_group</th>\n      <th>quantity</th>\n      <th>quantity_group</th>\n      <th>source</th>\n      <th>source_type</th>\n      <th>source_class</th>\n      <th>waterpoint_type</th>\n      <th>waterpoint_type_group</th>\n      <th>status_group</th>\n    </tr>\n  </thead>\n  <tbody>\n    <tr>\n      <th>0</th>\n      <td>17674</td>\n      <td>200.0</td>\n      <td>2013-01-18</td>\n      <td>Dwe</td>\n      <td>1243</td>\n      <td>DWE</td>\n      <td>30.326088</td>\n      <td>-4.312276</td>\n      <td>Ofisini</td>\n      <td>0</td>\n      <td>...</td>\n      <td>soft</td>\n      <td>good</td>\n      <td>enough</td>\n      <td>enough</td>\n      <td>spring</td>\n      <td>spring</td>\n      <td>groundwater</td>\n      <td>communal standpipe</td>\n      <td>communal standpipe</td>\n      <td>functional</td>\n    </tr>\n    <tr>\n      <th>1</th>\n      <td>3550</td>\n      <td>0.0</td>\n      <td>2011-02-21</td>\n      <td>Commu</td>\n      <td>2198</td>\n      <td>Commu</td>\n      <td>34.127362</td>\n      <td>-9.263835</td>\n      <td>none</td>\n      <td>0</td>\n      <td>...</td>\n      <td>soft</td>\n      <td>good</td>\n      <td>insufficient</td>\n      <td>insufficient</td>\n      <td>spring</td>\n      <td>spring</td>\n      <td>groundwater</td>\n      <td>communal standpipe</td>\n      <td>communal standpipe</td>\n      <td>functional</td>\n    </tr>\n    <tr>\n      <th>2</th>\n      <td>29414</td>\n      <td>500.0</td>\n      <td>2013-03-24</td>\n      <td>Government Of Tanzania</td>\n      <td>1887</td>\n      <td>DWE</td>\n      <td>36.648187</td>\n      <td>-3.237687</td>\n      <td>Kwa Kikeni</td>\n      <td>0</td>\n      <td>...</td>\n      <td>soft</td>\n      <td>good</td>\n      <td>insufficient</td>\n      <td>insufficient</td>\n      <td>spring</td>\n      <td>spring</td>\n      <td>groundwater</td>\n      <td>communal standpipe</td>\n      <td>communal standpipe</td>\n      <td>functional</td>\n    </tr>\n    <tr>\n      <th>3</th>\n      <td>46392</td>\n      <td>0.0</td>\n      <td>2013-04-04</td>\n      <td>Government Of Tanzania</td>\n      <td>1121</td>\n      <td>Community</td>\n      <td>36.844896</td>\n      <td>-3.389594</td>\n      <td>Peter Materini</td>\n      <td>0</td>\n      <td>...</td>\n      <td>soft</td>\n      <td>good</td>\n      <td>enough</td>\n      <td>enough</td>\n      <td>spring</td>\n      <td>spring</td>\n      <td>groundwater</td>\n      <td>communal standpipe</td>\n      <td>communal standpipe</td>\n      <td>functional</td>\n    </tr>\n    <tr>\n      <th>4</th>\n      <td>30522</td>\n      <td>250.0</td>\n      <td>2013-02-16</td>\n      <td>Kadp</td>\n      <td>1637</td>\n      <td>KADP</td>\n      <td>30.033542</td>\n      <td>-4.445927</td>\n      <td>Zahanati</td>\n      <td>0</td>\n      <td>...</td>\n      <td>soft</td>\n      <td>good</td>\n      <td>enough</td>\n      <td>enough</td>\n      <td>spring</td>\n      <td>spring</td>\n      <td>groundwater</td>\n      <td>communal standpipe</td>\n      <td>communal standpipe</td>\n      <td>functional</td>\n    </tr>\n  </tbody>\n</table>\n<p>5 rows × 41 columns</p>\n</div>"
     },
     "metadata": {},
     "execution_count": 13
    }
   ],
   "source": [
    "data.head()"
   ]
  },
  {
   "cell_type": "code",
   "execution_count": 14,
   "metadata": {},
   "outputs": [
    {
     "output_type": "execute_result",
     "data": {
      "text/plain": "      id  amount_tsh date_recorded     funder  gps_height installer  \\\n0  65314         0.0    2011-08-07         Ru         760       DWE   \n1  21219         6.0    2013-02-03  Ces(gmbh)        1650       DWE   \n2  70051         0.0    2011-07-20       Kkkt           0      KKKT   \n3  43984         0.0    2011-04-17      Tasaf           0       DWE   \n4  52706         0.0    2011-03-09      Amref          67     AMREF   \n\n   longitude  latitude                wpt_name  num_private  ...  \\\n0  30.599374 -7.487968                  Mkinga            0  ...   \n1  37.455365 -3.288767  Kwa Claud Kamili Macho            0  ...   \n2  32.879546 -8.977601                Mwampulo            0  ...   \n3  35.969968 -5.140138                   Njari            0  ...   \n4  39.046487 -7.189164               Kwa Kanji            0  ...   \n\n  water_quality quality_group quantity  quantity_group        source  \\\n0         milky         milky   enough          enough  shallow well   \n1          soft          good   enough          enough        spring   \n2          soft          good   enough          enough  shallow well   \n3          soft          good   enough          enough           dam   \n4          soft          good      dry             dry  shallow well   \n\n    source_type source_class     waterpoint_type waterpoint_type_group  \\\n0  shallow well  groundwater           hand pump             hand pump   \n1        spring  groundwater  communal standpipe    communal standpipe   \n2  shallow well  groundwater           hand pump             hand pump   \n3           dam      surface  communal standpipe    communal standpipe   \n4  shallow well  groundwater           hand pump             hand pump   \n\n              status_group  \n0               functional  \n1               functional  \n2               functional  \n3  functional needs repair  \n4           non functional  \n\n[5 rows x 41 columns]",
      "text/html": "<div>\n<style scoped>\n    .dataframe tbody tr th:only-of-type {\n        vertical-align: middle;\n    }\n\n    .dataframe tbody tr th {\n        vertical-align: top;\n    }\n\n    .dataframe thead th {\n        text-align: right;\n    }\n</style>\n<table border=\"1\" class=\"dataframe\">\n  <thead>\n    <tr style=\"text-align: right;\">\n      <th></th>\n      <th>id</th>\n      <th>amount_tsh</th>\n      <th>date_recorded</th>\n      <th>funder</th>\n      <th>gps_height</th>\n      <th>installer</th>\n      <th>longitude</th>\n      <th>latitude</th>\n      <th>wpt_name</th>\n      <th>num_private</th>\n      <th>...</th>\n      <th>water_quality</th>\n      <th>quality_group</th>\n      <th>quantity</th>\n      <th>quantity_group</th>\n      <th>source</th>\n      <th>source_type</th>\n      <th>source_class</th>\n      <th>waterpoint_type</th>\n      <th>waterpoint_type_group</th>\n      <th>status_group</th>\n    </tr>\n  </thead>\n  <tbody>\n    <tr>\n      <th>0</th>\n      <td>65314</td>\n      <td>0.0</td>\n      <td>2011-08-07</td>\n      <td>Ru</td>\n      <td>760</td>\n      <td>DWE</td>\n      <td>30.599374</td>\n      <td>-7.487968</td>\n      <td>Mkinga</td>\n      <td>0</td>\n      <td>...</td>\n      <td>milky</td>\n      <td>milky</td>\n      <td>enough</td>\n      <td>enough</td>\n      <td>shallow well</td>\n      <td>shallow well</td>\n      <td>groundwater</td>\n      <td>hand pump</td>\n      <td>hand pump</td>\n      <td>functional</td>\n    </tr>\n    <tr>\n      <th>1</th>\n      <td>21219</td>\n      <td>6.0</td>\n      <td>2013-02-03</td>\n      <td>Ces(gmbh)</td>\n      <td>1650</td>\n      <td>DWE</td>\n      <td>37.455365</td>\n      <td>-3.288767</td>\n      <td>Kwa Claud Kamili Macho</td>\n      <td>0</td>\n      <td>...</td>\n      <td>soft</td>\n      <td>good</td>\n      <td>enough</td>\n      <td>enough</td>\n      <td>spring</td>\n      <td>spring</td>\n      <td>groundwater</td>\n      <td>communal standpipe</td>\n      <td>communal standpipe</td>\n      <td>functional</td>\n    </tr>\n    <tr>\n      <th>2</th>\n      <td>70051</td>\n      <td>0.0</td>\n      <td>2011-07-20</td>\n      <td>Kkkt</td>\n      <td>0</td>\n      <td>KKKT</td>\n      <td>32.879546</td>\n      <td>-8.977601</td>\n      <td>Mwampulo</td>\n      <td>0</td>\n      <td>...</td>\n      <td>soft</td>\n      <td>good</td>\n      <td>enough</td>\n      <td>enough</td>\n      <td>shallow well</td>\n      <td>shallow well</td>\n      <td>groundwater</td>\n      <td>hand pump</td>\n      <td>hand pump</td>\n      <td>functional</td>\n    </tr>\n    <tr>\n      <th>3</th>\n      <td>43984</td>\n      <td>0.0</td>\n      <td>2011-04-17</td>\n      <td>Tasaf</td>\n      <td>0</td>\n      <td>DWE</td>\n      <td>35.969968</td>\n      <td>-5.140138</td>\n      <td>Njari</td>\n      <td>0</td>\n      <td>...</td>\n      <td>soft</td>\n      <td>good</td>\n      <td>enough</td>\n      <td>enough</td>\n      <td>dam</td>\n      <td>dam</td>\n      <td>surface</td>\n      <td>communal standpipe</td>\n      <td>communal standpipe</td>\n      <td>functional needs repair</td>\n    </tr>\n    <tr>\n      <th>4</th>\n      <td>52706</td>\n      <td>0.0</td>\n      <td>2011-03-09</td>\n      <td>Amref</td>\n      <td>67</td>\n      <td>AMREF</td>\n      <td>39.046487</td>\n      <td>-7.189164</td>\n      <td>Kwa Kanji</td>\n      <td>0</td>\n      <td>...</td>\n      <td>soft</td>\n      <td>good</td>\n      <td>dry</td>\n      <td>dry</td>\n      <td>shallow well</td>\n      <td>shallow well</td>\n      <td>groundwater</td>\n      <td>hand pump</td>\n      <td>hand pump</td>\n      <td>non functional</td>\n    </tr>\n  </tbody>\n</table>\n<p>5 rows × 41 columns</p>\n</div>"
     },
     "metadata": {},
     "execution_count": 14
    }
   ],
   "source": [
    "data_unseen.head()"
   ]
  },
  {
   "cell_type": "code",
   "execution_count": 15,
   "metadata": {},
   "outputs": [],
   "source": [
    "from pycaret.classification import *"
   ]
  },
  {
   "cell_type": "code",
   "execution_count": 16,
   "metadata": {
    "tags": []
   },
   "outputs": [
    {
     "output_type": "display_data",
     "data": {
      "text/plain": "IntProgress(value=0, description=&#39;Processing: &#39;, max=13)",
      "application/vnd.jupyter.widget-view+json": {
       "version_major": 2,
       "version_minor": 0,
       "model_id": "fc412cbda20e4af2b3464163781a55ca"
      }
     },
     "metadata": {}
    },
    {
     "output_type": "display_data",
     "data": {
      "text/plain": "                                                                    \n                                                                    \nInitiated  . . . . . . . . . . . . . . . . . .              22:30:03\nStatus     . . . . . . . . . . . . . . . . . .  Loading Dependencies\nETC        . . . . . . . . . . . . . . . . . .       Calculating ETC",
      "text/html": "<div>\n<style scoped>\n    .dataframe tbody tr th:only-of-type {\n        vertical-align: middle;\n    }\n\n    .dataframe tbody tr th {\n        vertical-align: top;\n    }\n\n    .dataframe thead th {\n        text-align: right;\n    }\n</style>\n<table border=\"1\" class=\"dataframe\">\n  <thead>\n    <tr style=\"text-align: right;\">\n      <th></th>\n      <th></th>\n      <th></th>\n    </tr>\n    <tr>\n      <th></th>\n      <th></th>\n      <th></th>\n    </tr>\n  </thead>\n  <tbody>\n    <tr>\n      <th>Initiated</th>\n      <td>. . . . . . . . . . . . . . . . . .</td>\n      <td>22:30:03</td>\n    </tr>\n    <tr>\n      <th>Status</th>\n      <td>. . . . . . . . . . . . . . . . . .</td>\n      <td>Loading Dependencies</td>\n    </tr>\n    <tr>\n      <th>ETC</th>\n      <td>. . . . . . . . . . . . . . . . . .</td>\n      <td>Calculating ETC</td>\n    </tr>\n  </tbody>\n</table>\n</div>"
     },
     "metadata": {}
    },
    {
     "output_type": "display_data",
     "data": {
      "text/html": "        <script type=\"text/javascript\">\n        window.PlotlyConfig = {MathJaxConfig: 'local'};\n        if (window.MathJax) {MathJax.Hub.Config({SVG: {font: \"STIX-Web\"}});}\n        if (typeof require !== 'undefined') {\n        require.undef(\"plotly\");\n        requirejs.config({\n            paths: {\n                'plotly': ['https://cdn.plot.ly/plotly-latest.min']\n            }\n        });\n        require(['plotly'], function(Plotly) {\n            window._Plotly = Plotly;\n        });\n        }\n        </script>\n        "
     },
     "metadata": {}
    },
    {
     "output_type": "display_data",
     "data": {
      "text/plain": "Text(value=&quot;Following data types have been inferred automatically, if they are correct press enter to continue…",
      "application/vnd.jupyter.widget-view+json": {
       "version_major": 2,
       "version_minor": 0,
       "model_id": "f90c64bb3d8343769839765e8f852c77"
      }
     },
     "metadata": {}
    },
    {
     "output_type": "display_data",
     "data": {
      "text/plain": "                         Data Type\nid                         Numeric\namount_tsh                 Numeric\ndate_recorded                 Date\nfunder                 Categorical\ngps_height                 Numeric\ninstaller              Categorical\nlongitude                  Numeric\nlatitude                   Numeric\nwpt_name               Categorical\nnum_private                Numeric\nbasin                  Categorical\nsubvillage             Categorical\nregion                 Categorical\nregion_code                Numeric\ndistrict_code          Categorical\nlga                    Categorical\nward                   Categorical\npopulation                 Numeric\npublic_meeting         Categorical\nrecorded_by            Categorical\nscheme_management      Categorical\nscheme_name            Categorical\npermit                 Categorical\nconstruction_year          Numeric\nextraction_type        Categorical\nextraction_type_group  Categorical\nextraction_type_class  Categorical\nmanagement             Categorical\nmanagement_group       Categorical\npayment                Categorical\npayment_type           Categorical\nwater_quality          Categorical\nquality_group          Categorical\nquantity               Categorical\nquantity_group         Categorical\nsource                 Categorical\nsource_type            Categorical\nsource_class           Categorical\nwaterpoint_type        Categorical\nwaterpoint_type_group  Categorical\nstatus_group                 Label",
      "text/html": "<div>\n<style scoped>\n    .dataframe tbody tr th:only-of-type {\n        vertical-align: middle;\n    }\n\n    .dataframe tbody tr th {\n        vertical-align: top;\n    }\n\n    .dataframe thead th {\n        text-align: right;\n    }\n</style>\n<table border=\"1\" class=\"dataframe\">\n  <thead>\n    <tr style=\"text-align: right;\">\n      <th></th>\n      <th>Data Type</th>\n    </tr>\n  </thead>\n  <tbody>\n    <tr>\n      <th>id</th>\n      <td>Numeric</td>\n    </tr>\n    <tr>\n      <th>amount_tsh</th>\n      <td>Numeric</td>\n    </tr>\n    <tr>\n      <th>date_recorded</th>\n      <td>Date</td>\n    </tr>\n    <tr>\n      <th>funder</th>\n      <td>Categorical</td>\n    </tr>\n    <tr>\n      <th>gps_height</th>\n      <td>Numeric</td>\n    </tr>\n    <tr>\n      <th>installer</th>\n      <td>Categorical</td>\n    </tr>\n    <tr>\n      <th>longitude</th>\n      <td>Numeric</td>\n    </tr>\n    <tr>\n      <th>latitude</th>\n      <td>Numeric</td>\n    </tr>\n    <tr>\n      <th>wpt_name</th>\n      <td>Categorical</td>\n    </tr>\n    <tr>\n      <th>num_private</th>\n      <td>Numeric</td>\n    </tr>\n    <tr>\n      <th>basin</th>\n      <td>Categorical</td>\n    </tr>\n    <tr>\n      <th>subvillage</th>\n      <td>Categorical</td>\n    </tr>\n    <tr>\n      <th>region</th>\n      <td>Categorical</td>\n    </tr>\n    <tr>\n      <th>region_code</th>\n      <td>Numeric</td>\n    </tr>\n    <tr>\n      <th>district_code</th>\n      <td>Categorical</td>\n    </tr>\n    <tr>\n      <th>lga</th>\n      <td>Categorical</td>\n    </tr>\n    <tr>\n      <th>ward</th>\n      <td>Categorical</td>\n    </tr>\n    <tr>\n      <th>population</th>\n      <td>Numeric</td>\n    </tr>\n    <tr>\n      <th>public_meeting</th>\n      <td>Categorical</td>\n    </tr>\n    <tr>\n      <th>recorded_by</th>\n      <td>Categorical</td>\n    </tr>\n    <tr>\n      <th>scheme_management</th>\n      <td>Categorical</td>\n    </tr>\n    <tr>\n      <th>scheme_name</th>\n      <td>Categorical</td>\n    </tr>\n    <tr>\n      <th>permit</th>\n      <td>Categorical</td>\n    </tr>\n    <tr>\n      <th>construction_year</th>\n      <td>Numeric</td>\n    </tr>\n    <tr>\n      <th>extraction_type</th>\n      <td>Categorical</td>\n    </tr>\n    <tr>\n      <th>extraction_type_group</th>\n      <td>Categorical</td>\n    </tr>\n    <tr>\n      <th>extraction_type_class</th>\n      <td>Categorical</td>\n    </tr>\n    <tr>\n      <th>management</th>\n      <td>Categorical</td>\n    </tr>\n    <tr>\n      <th>management_group</th>\n      <td>Categorical</td>\n    </tr>\n    <tr>\n      <th>payment</th>\n      <td>Categorical</td>\n    </tr>\n    <tr>\n      <th>payment_type</th>\n      <td>Categorical</td>\n    </tr>\n    <tr>\n      <th>water_quality</th>\n      <td>Categorical</td>\n    </tr>\n    <tr>\n      <th>quality_group</th>\n      <td>Categorical</td>\n    </tr>\n    <tr>\n      <th>quantity</th>\n      <td>Categorical</td>\n    </tr>\n    <tr>\n      <th>quantity_group</th>\n      <td>Categorical</td>\n    </tr>\n    <tr>\n      <th>source</th>\n      <td>Categorical</td>\n    </tr>\n    <tr>\n      <th>source_type</th>\n      <td>Categorical</td>\n    </tr>\n    <tr>\n      <th>source_class</th>\n      <td>Categorical</td>\n    </tr>\n    <tr>\n      <th>waterpoint_type</th>\n      <td>Categorical</td>\n    </tr>\n    <tr>\n      <th>waterpoint_type_group</th>\n      <td>Categorical</td>\n    </tr>\n    <tr>\n      <th>status_group</th>\n      <td>Label</td>\n    </tr>\n  </tbody>\n</table>\n</div>"
     },
     "metadata": {}
    }
   ],
   "source": [
    "exp_mclf101 = setup(data = data, target = 'status_group', session_id=123)"
   ]
  },
  {
   "cell_type": "code",
   "execution_count": 18,
   "metadata": {},
   "outputs": [
    {
     "output_type": "display_data",
     "data": {
      "text/plain": "IntProgress(value=0, description=&#39;Processing: &#39;, max=176)",
      "application/vnd.jupyter.widget-view+json": {
       "version_major": 2,
       "version_minor": 0,
       "model_id": "94a490e23a9d4faa8e05303202265db1"
      }
     },
     "metadata": {}
    },
    {
     "output_type": "display_data",
     "data": {
      "text/plain": "                                                                           \n                                                                           \nInitiated  . . . . . . . . . . . . . . . . . .                     22:30:03\nStatus     . . . . . . . . . . . . . . . . . .  Fitting Model on 20% sample\nETC        . . . . . . . . . . . . . . . . . .       37.6 Minutes Remaining",
      "text/html": "<div>\n<style scoped>\n    .dataframe tbody tr th:only-of-type {\n        vertical-align: middle;\n    }\n\n    .dataframe tbody tr th {\n        vertical-align: top;\n    }\n\n    .dataframe thead th {\n        text-align: right;\n    }\n</style>\n<table border=\"1\" class=\"dataframe\">\n  <thead>\n    <tr style=\"text-align: right;\">\n      <th></th>\n      <th></th>\n      <th></th>\n    </tr>\n    <tr>\n      <th></th>\n      <th></th>\n      <th></th>\n    </tr>\n  </thead>\n  <tbody>\n    <tr>\n      <th>Initiated</th>\n      <td>. . . . . . . . . . . . . . . . . .</td>\n      <td>22:30:03</td>\n    </tr>\n    <tr>\n      <th>Status</th>\n      <td>. . . . . . . . . . . . . . . . . .</td>\n      <td>Fitting Model on 20% sample</td>\n    </tr>\n    <tr>\n      <th>ETC</th>\n      <td>. . . . . . . . . . . . . . . . . .</td>\n      <td>37.6 Minutes Remaining</td>\n    </tr>\n  </tbody>\n</table>\n</div>"
     },
     "metadata": {}
    },
    {
     "output_type": "display_data",
     "data": {
      "text/plain": "Empty DataFrame\nColumns: [Model, Accuracy, AUC, Recall, Prec., F1, Kappa, MCC, TT (Sec)]\nIndex: []",
      "text/html": "<div>\n<style scoped>\n    .dataframe tbody tr th:only-of-type {\n        vertical-align: middle;\n    }\n\n    .dataframe tbody tr th {\n        vertical-align: top;\n    }\n\n    .dataframe thead th {\n        text-align: right;\n    }\n</style>\n<table border=\"1\" class=\"dataframe\">\n  <thead>\n    <tr style=\"text-align: right;\">\n      <th></th>\n      <th>Model</th>\n      <th>Accuracy</th>\n      <th>AUC</th>\n      <th>Recall</th>\n      <th>Prec.</th>\n      <th>F1</th>\n      <th>Kappa</th>\n      <th>MCC</th>\n      <th>TT (Sec)</th>\n    </tr>\n  </thead>\n  <tbody>\n  </tbody>\n</table>\n</div>"
     },
     "metadata": {}
    }
   ],
   "source": [
    "compare_models()"
   ]
  },
  {
   "cell_type": "code",
   "execution_count": null,
   "metadata": {},
   "outputs": [],
   "source": [
    "a = 2"
   ]
  }
 ]
}