{
 "metadata": {
  "language_info": {
   "codemirror_mode": {
    "name": "ipython",
    "version": 3
   },
   "file_extension": ".py",
   "mimetype": "text/x-python",
   "name": "python",
   "nbconvert_exporter": "python",
   "pygments_lexer": "ipython3",
   "version": "3.6.10-final"
  },
  "orig_nbformat": 2,
  "kernelspec": {
   "name": "python_defaultSpec_1601673236322",
   "display_name": "Python 3.6.10 64-bit ('pycaret')",
   "metadata": {
    "interpreter": {
     "hash": "891f398aa2fc579752e2c731a897b69c4abebfdfc3340c2d50d560d54919d405"
    }
   }
  }
 },
 "nbformat": 4,
 "nbformat_minor": 2,
 "cells": [
  {
   "cell_type": "code",
   "execution_count": 1,
   "metadata": {},
   "outputs": [],
   "source": [
    "import pycaret\n",
    "\n",
    "import pandas as pd"
   ]
  },
  {
   "cell_type": "code",
   "execution_count": 2,
   "metadata": {
    "tags": []
   },
   "outputs": [
    {
     "output_type": "stream",
     "name": "stdout",
     "text": "total 25948\n-rw-r--r-- 1 rakeshbhat9 rakeshbhat9     2481 Oct  2 22:12  descriptions.html\ndrwxr-xr-x 1 rakeshbhat9 rakeshbhat9      104 Oct  2 22:12  old_trnsfrmd_data\n-rw-r--r-- 1 rakeshbhat9 rakeshbhat9   324512 Oct  2 22:12  SubmissionFormat.csv\n-rwxr-xr-x 1 rakeshbhat9 rakeshbhat9  5016337 Oct  2 22:12 &#39;test set values.csv&#39;\n-rw-r--r-- 1 rakeshbhat9 rakeshbhat9  1148327 Oct  2 22:12 &#39;training set labels.csv&#39;\n-rw-r--r-- 1 rakeshbhat9 rakeshbhat9 20069199 Oct  2 22:12 &#39;training set values.csv&#39;\n"
    }
   ],
   "source": [
    "!ls -l data "
   ]
  },
  {
   "cell_type": "code",
   "execution_count": 3,
   "metadata": {},
   "outputs": [],
   "source": [
    "train = pd.read_csv('./data/training set values.csv')\n",
    "train_lbl = pd.read_csv('./data/training set labels.csv')\n",
    "test = pd.read_csv('./data/test set values.csv')"
   ]
  },
  {
   "cell_type": "code",
   "execution_count": 4,
   "metadata": {},
   "outputs": [
    {
     "output_type": "execute_result",
     "data": {
      "text/plain": "((59400, 40), (59400, 2), (14850, 40))"
     },
     "metadata": {},
     "execution_count": 4
    }
   ],
   "source": [
    "train.shape,train_lbl.shape,test.shape"
   ]
  },
  {
   "cell_type": "code",
   "execution_count": 5,
   "metadata": {},
   "outputs": [],
   "source": [
    "train = train.merge(train_lbl,on='id')"
   ]
  },
  {
   "cell_type": "code",
   "execution_count": 14,
   "metadata": {},
   "outputs": [
    {
     "output_type": "execute_result",
     "data": {
      "text/plain": "(59400, 41)"
     },
     "metadata": {},
     "execution_count": 14
    }
   ],
   "source": [
    "train.shape"
   ]
  },
  {
   "cell_type": "code",
   "execution_count": 7,
   "metadata": {},
   "outputs": [
    {
     "output_type": "execute_result",
     "data": {
      "text/plain": "      id  amount_tsh date_recorded        funder  gps_height     installer  \\\n0  69572      6000.0    2011-03-14         Roman        1390         Roman   \n1   8776         0.0    2013-03-06       Grumeti        1399       GRUMETI   \n2  34310        25.0    2013-02-25  Lottery Club         686  World vision   \n3  67743         0.0    2013-01-28        Unicef         263        UNICEF   \n4  19728         0.0    2011-07-13   Action In A           0       Artisan   \n\n   longitude   latitude              wpt_name  num_private  ... water_quality  \\\n0  34.938093  -9.856322                  none            0  ...          soft   \n1  34.698766  -2.147466              Zahanati            0  ...          soft   \n2  37.460664  -3.821329           Kwa Mahundi            0  ...          soft   \n3  38.486161 -11.155298  Zahanati Ya Nanyumbu            0  ...          soft   \n4  31.130847  -1.825359               Shuleni            0  ...          soft   \n\n  quality_group      quantity  quantity_group                source  \\\n0          good        enough          enough                spring   \n1          good  insufficient    insufficient  rainwater harvesting   \n2          good        enough          enough                   dam   \n3          good           dry             dry           machine dbh   \n4          good      seasonal        seasonal  rainwater harvesting   \n\n            source_type source_class              waterpoint_type  \\\n0                spring  groundwater           communal standpipe   \n1  rainwater harvesting      surface           communal standpipe   \n2                   dam      surface  communal standpipe multiple   \n3              borehole  groundwater  communal standpipe multiple   \n4  rainwater harvesting      surface           communal standpipe   \n\n  waterpoint_type_group    status_group  \n0    communal standpipe      functional  \n1    communal standpipe      functional  \n2    communal standpipe      functional  \n3    communal standpipe  non functional  \n4    communal standpipe      functional  \n\n[5 rows x 41 columns]",
      "text/html": "<div>\n<style scoped>\n    .dataframe tbody tr th:only-of-type {\n        vertical-align: middle;\n    }\n\n    .dataframe tbody tr th {\n        vertical-align: top;\n    }\n\n    .dataframe thead th {\n        text-align: right;\n    }\n</style>\n<table border=\"1\" class=\"dataframe\">\n  <thead>\n    <tr style=\"text-align: right;\">\n      <th></th>\n      <th>id</th>\n      <th>amount_tsh</th>\n      <th>date_recorded</th>\n      <th>funder</th>\n      <th>gps_height</th>\n      <th>installer</th>\n      <th>longitude</th>\n      <th>latitude</th>\n      <th>wpt_name</th>\n      <th>num_private</th>\n      <th>...</th>\n      <th>water_quality</th>\n      <th>quality_group</th>\n      <th>quantity</th>\n      <th>quantity_group</th>\n      <th>source</th>\n      <th>source_type</th>\n      <th>source_class</th>\n      <th>waterpoint_type</th>\n      <th>waterpoint_type_group</th>\n      <th>status_group</th>\n    </tr>\n  </thead>\n  <tbody>\n    <tr>\n      <th>0</th>\n      <td>69572</td>\n      <td>6000.0</td>\n      <td>2011-03-14</td>\n      <td>Roman</td>\n      <td>1390</td>\n      <td>Roman</td>\n      <td>34.938093</td>\n      <td>-9.856322</td>\n      <td>none</td>\n      <td>0</td>\n      <td>...</td>\n      <td>soft</td>\n      <td>good</td>\n      <td>enough</td>\n      <td>enough</td>\n      <td>spring</td>\n      <td>spring</td>\n      <td>groundwater</td>\n      <td>communal standpipe</td>\n      <td>communal standpipe</td>\n      <td>functional</td>\n    </tr>\n    <tr>\n      <th>1</th>\n      <td>8776</td>\n      <td>0.0</td>\n      <td>2013-03-06</td>\n      <td>Grumeti</td>\n      <td>1399</td>\n      <td>GRUMETI</td>\n      <td>34.698766</td>\n      <td>-2.147466</td>\n      <td>Zahanati</td>\n      <td>0</td>\n      <td>...</td>\n      <td>soft</td>\n      <td>good</td>\n      <td>insufficient</td>\n      <td>insufficient</td>\n      <td>rainwater harvesting</td>\n      <td>rainwater harvesting</td>\n      <td>surface</td>\n      <td>communal standpipe</td>\n      <td>communal standpipe</td>\n      <td>functional</td>\n    </tr>\n    <tr>\n      <th>2</th>\n      <td>34310</td>\n      <td>25.0</td>\n      <td>2013-02-25</td>\n      <td>Lottery Club</td>\n      <td>686</td>\n      <td>World vision</td>\n      <td>37.460664</td>\n      <td>-3.821329</td>\n      <td>Kwa Mahundi</td>\n      <td>0</td>\n      <td>...</td>\n      <td>soft</td>\n      <td>good</td>\n      <td>enough</td>\n      <td>enough</td>\n      <td>dam</td>\n      <td>dam</td>\n      <td>surface</td>\n      <td>communal standpipe multiple</td>\n      <td>communal standpipe</td>\n      <td>functional</td>\n    </tr>\n    <tr>\n      <th>3</th>\n      <td>67743</td>\n      <td>0.0</td>\n      <td>2013-01-28</td>\n      <td>Unicef</td>\n      <td>263</td>\n      <td>UNICEF</td>\n      <td>38.486161</td>\n      <td>-11.155298</td>\n      <td>Zahanati Ya Nanyumbu</td>\n      <td>0</td>\n      <td>...</td>\n      <td>soft</td>\n      <td>good</td>\n      <td>dry</td>\n      <td>dry</td>\n      <td>machine dbh</td>\n      <td>borehole</td>\n      <td>groundwater</td>\n      <td>communal standpipe multiple</td>\n      <td>communal standpipe</td>\n      <td>non functional</td>\n    </tr>\n    <tr>\n      <th>4</th>\n      <td>19728</td>\n      <td>0.0</td>\n      <td>2011-07-13</td>\n      <td>Action In A</td>\n      <td>0</td>\n      <td>Artisan</td>\n      <td>31.130847</td>\n      <td>-1.825359</td>\n      <td>Shuleni</td>\n      <td>0</td>\n      <td>...</td>\n      <td>soft</td>\n      <td>good</td>\n      <td>seasonal</td>\n      <td>seasonal</td>\n      <td>rainwater harvesting</td>\n      <td>rainwater harvesting</td>\n      <td>surface</td>\n      <td>communal standpipe</td>\n      <td>communal standpipe</td>\n      <td>functional</td>\n    </tr>\n  </tbody>\n</table>\n<p>5 rows × 41 columns</p>\n</div>"
     },
     "metadata": {},
     "execution_count": 7
    }
   ],
   "source": [
    "train.head()"
   ]
  },
  {
   "source": [
    " "
   ],
   "cell_type": "markdown",
   "metadata": {}
  },
  {
   "source": [
    "# Pycaret"
   ],
   "cell_type": "markdown",
   "metadata": {}
  },
  {
   "cell_type": "code",
   "execution_count": 8,
   "metadata": {
    "tags": []
   },
   "outputs": [
    {
     "output_type": "stream",
     "name": "stdout",
     "text": "Data for Modeling: (41580, 41)\nUnseen Data For Predictions: (17820, 41)\n"
    }
   ],
   "source": [
    "data = train.sample(frac=0.7, random_state=141).reset_index(drop=True)\n",
    "data_unseen = train.drop(data.index).reset_index(drop=True)\n",
    "\n",
    "print('Data for Modeling: ' + str(data.shape))\n",
    "print('Unseen Data For Predictions: ' + str(data_unseen.shape))"
   ]
  },
  {
   "cell_type": "code",
   "execution_count": 15,
   "metadata": {},
   "outputs": [
    {
     "output_type": "execute_result",
     "data": {
      "text/plain": "((41580, 41), (17820, 41))"
     },
     "metadata": {},
     "execution_count": 15
    }
   ],
   "source": [
    "data.shape,data_unseen.shape"
   ]
  },
  {
   "cell_type": "code",
   "execution_count": 16,
   "metadata": {},
   "outputs": [
    {
     "output_type": "execute_result",
     "data": {
      "text/plain": "      id  amount_tsh date_recorded                  funder  gps_height  \\\n0  17674       200.0    2013-01-18                     Dwe        1243   \n1   3550         0.0    2011-02-21                   Commu        2198   \n2  29414       500.0    2013-03-24  Government Of Tanzania        1887   \n3  46392         0.0    2013-04-04  Government Of Tanzania        1121   \n4  30522       250.0    2013-02-16                    Kadp        1637   \n\n   installer  longitude  latitude        wpt_name  num_private  \\\n0        DWE  30.326088 -4.312276         Ofisini            0   \n1      Commu  34.127362 -9.263835            none            0   \n2        DWE  36.648187 -3.237687      Kwa Kikeni            0   \n3  Community  36.844896 -3.389594  Peter Materini            0   \n4       KADP  30.033542 -4.445927        Zahanati            0   \n\n             basin  subvillage  region  region_code  district_code  \\\n0  Lake Tanganyika   Nyabageni  Kigoma           16              2   \n1       Lake Nyasa       Mbosa  Iringa           11              3   \n2          Pangani      Shaudo  Arusha            2              2   \n3          Pangani      Siyoni  Arusha            2              7   \n4  Lake Tanganyika  Nyakitanga  Kigoma           16              2   \n\n            lga       ward  population public_meeting  \\\n0        Kasulu   Kitagata         500           True   \n1        Makete      Iwawa           0           True   \n2  Arusha Rural   Olkokola         150           True   \n3          Meru  USA River         120           True   \n4        Kasulu    Muhunga         250           True   \n\n               recorded_by scheme_management  \\\n0  GeoData Consultants Ltd   Water authority   \n1  GeoData Consultants Ltd               VWC   \n2  GeoData Consultants Ltd               VWC   \n3  GeoData Consultants Ltd               VWC   \n4  GeoData Consultants Ltd   Water authority   \n\n                          scheme_name permit  construction_year  \\\n0                           Nyachenda  False               2003   \n1                              Ndulam   True               2010   \n2                  Olkokola pipe line   True               2007   \n3  Nike lakitatu gravity water supply   True               2008   \n4                                 NaN   True               1999   \n\n  extraction_type extraction_type_group extraction_type_class   management  \\\n0         gravity               gravity               gravity          vwc   \n1         gravity               gravity               gravity          vwc   \n2         gravity               gravity               gravity          vwc   \n3         gravity               gravity               gravity          vwc   \n4         gravity               gravity               gravity  water board   \n\n  management_group                payment payment_type water_quality  \\\n0       user-group            pay monthly      monthly          soft   \n1       user-group              never pay    never pay          soft   \n2       user-group  pay when scheme fails   on failure          soft   \n3       user-group                unknown      unknown          soft   \n4       user-group            pay monthly      monthly          soft   \n\n  quality_group      quantity quantity_group  source source_type source_class  \\\n0          good        enough         enough  spring      spring  groundwater   \n1          good  insufficient   insufficient  spring      spring  groundwater   \n2          good  insufficient   insufficient  spring      spring  groundwater   \n3          good        enough         enough  spring      spring  groundwater   \n4          good        enough         enough  spring      spring  groundwater   \n\n      waterpoint_type waterpoint_type_group status_group  \n0  communal standpipe    communal standpipe   functional  \n1  communal standpipe    communal standpipe   functional  \n2  communal standpipe    communal standpipe   functional  \n3  communal standpipe    communal standpipe   functional  \n4  communal standpipe    communal standpipe   functional  ",
      "text/html": "<div>\n<style scoped>\n    .dataframe tbody tr th:only-of-type {\n        vertical-align: middle;\n    }\n\n    .dataframe tbody tr th {\n        vertical-align: top;\n    }\n\n    .dataframe thead th {\n        text-align: right;\n    }\n</style>\n<table border=\"1\" class=\"dataframe\">\n  <thead>\n    <tr style=\"text-align: right;\">\n      <th></th>\n      <th>id</th>\n      <th>amount_tsh</th>\n      <th>date_recorded</th>\n      <th>funder</th>\n      <th>gps_height</th>\n      <th>installer</th>\n      <th>longitude</th>\n      <th>latitude</th>\n      <th>wpt_name</th>\n      <th>num_private</th>\n      <th>basin</th>\n      <th>subvillage</th>\n      <th>region</th>\n      <th>region_code</th>\n      <th>district_code</th>\n      <th>lga</th>\n      <th>ward</th>\n      <th>population</th>\n      <th>public_meeting</th>\n      <th>recorded_by</th>\n      <th>scheme_management</th>\n      <th>scheme_name</th>\n      <th>permit</th>\n      <th>construction_year</th>\n      <th>extraction_type</th>\n      <th>extraction_type_group</th>\n      <th>extraction_type_class</th>\n      <th>management</th>\n      <th>management_group</th>\n      <th>payment</th>\n      <th>payment_type</th>\n      <th>water_quality</th>\n      <th>quality_group</th>\n      <th>quantity</th>\n      <th>quantity_group</th>\n      <th>source</th>\n      <th>source_type</th>\n      <th>source_class</th>\n      <th>waterpoint_type</th>\n      <th>waterpoint_type_group</th>\n      <th>status_group</th>\n    </tr>\n  </thead>\n  <tbody>\n    <tr>\n      <th>0</th>\n      <td>17674</td>\n      <td>200.0</td>\n      <td>2013-01-18</td>\n      <td>Dwe</td>\n      <td>1243</td>\n      <td>DWE</td>\n      <td>30.326088</td>\n      <td>-4.312276</td>\n      <td>Ofisini</td>\n      <td>0</td>\n      <td>Lake Tanganyika</td>\n      <td>Nyabageni</td>\n      <td>Kigoma</td>\n      <td>16</td>\n      <td>2</td>\n      <td>Kasulu</td>\n      <td>Kitagata</td>\n      <td>500</td>\n      <td>True</td>\n      <td>GeoData Consultants Ltd</td>\n      <td>Water authority</td>\n      <td>Nyachenda</td>\n      <td>False</td>\n      <td>2003</td>\n      <td>gravity</td>\n      <td>gravity</td>\n      <td>gravity</td>\n      <td>vwc</td>\n      <td>user-group</td>\n      <td>pay monthly</td>\n      <td>monthly</td>\n      <td>soft</td>\n      <td>good</td>\n      <td>enough</td>\n      <td>enough</td>\n      <td>spring</td>\n      <td>spring</td>\n      <td>groundwater</td>\n      <td>communal standpipe</td>\n      <td>communal standpipe</td>\n      <td>functional</td>\n    </tr>\n    <tr>\n      <th>1</th>\n      <td>3550</td>\n      <td>0.0</td>\n      <td>2011-02-21</td>\n      <td>Commu</td>\n      <td>2198</td>\n      <td>Commu</td>\n      <td>34.127362</td>\n      <td>-9.263835</td>\n      <td>none</td>\n      <td>0</td>\n      <td>Lake Nyasa</td>\n      <td>Mbosa</td>\n      <td>Iringa</td>\n      <td>11</td>\n      <td>3</td>\n      <td>Makete</td>\n      <td>Iwawa</td>\n      <td>0</td>\n      <td>True</td>\n      <td>GeoData Consultants Ltd</td>\n      <td>VWC</td>\n      <td>Ndulam</td>\n      <td>True</td>\n      <td>2010</td>\n      <td>gravity</td>\n      <td>gravity</td>\n      <td>gravity</td>\n      <td>vwc</td>\n      <td>user-group</td>\n      <td>never pay</td>\n      <td>never pay</td>\n      <td>soft</td>\n      <td>good</td>\n      <td>insufficient</td>\n      <td>insufficient</td>\n      <td>spring</td>\n      <td>spring</td>\n      <td>groundwater</td>\n      <td>communal standpipe</td>\n      <td>communal standpipe</td>\n      <td>functional</td>\n    </tr>\n    <tr>\n      <th>2</th>\n      <td>29414</td>\n      <td>500.0</td>\n      <td>2013-03-24</td>\n      <td>Government Of Tanzania</td>\n      <td>1887</td>\n      <td>DWE</td>\n      <td>36.648187</td>\n      <td>-3.237687</td>\n      <td>Kwa Kikeni</td>\n      <td>0</td>\n      <td>Pangani</td>\n      <td>Shaudo</td>\n      <td>Arusha</td>\n      <td>2</td>\n      <td>2</td>\n      <td>Arusha Rural</td>\n      <td>Olkokola</td>\n      <td>150</td>\n      <td>True</td>\n      <td>GeoData Consultants Ltd</td>\n      <td>VWC</td>\n      <td>Olkokola pipe line</td>\n      <td>True</td>\n      <td>2007</td>\n      <td>gravity</td>\n      <td>gravity</td>\n      <td>gravity</td>\n      <td>vwc</td>\n      <td>user-group</td>\n      <td>pay when scheme fails</td>\n      <td>on failure</td>\n      <td>soft</td>\n      <td>good</td>\n      <td>insufficient</td>\n      <td>insufficient</td>\n      <td>spring</td>\n      <td>spring</td>\n      <td>groundwater</td>\n      <td>communal standpipe</td>\n      <td>communal standpipe</td>\n      <td>functional</td>\n    </tr>\n    <tr>\n      <th>3</th>\n      <td>46392</td>\n      <td>0.0</td>\n      <td>2013-04-04</td>\n      <td>Government Of Tanzania</td>\n      <td>1121</td>\n      <td>Community</td>\n      <td>36.844896</td>\n      <td>-3.389594</td>\n      <td>Peter Materini</td>\n      <td>0</td>\n      <td>Pangani</td>\n      <td>Siyoni</td>\n      <td>Arusha</td>\n      <td>2</td>\n      <td>7</td>\n      <td>Meru</td>\n      <td>USA River</td>\n      <td>120</td>\n      <td>True</td>\n      <td>GeoData Consultants Ltd</td>\n      <td>VWC</td>\n      <td>Nike lakitatu gravity water supply</td>\n      <td>True</td>\n      <td>2008</td>\n      <td>gravity</td>\n      <td>gravity</td>\n      <td>gravity</td>\n      <td>vwc</td>\n      <td>user-group</td>\n      <td>unknown</td>\n      <td>unknown</td>\n      <td>soft</td>\n      <td>good</td>\n      <td>enough</td>\n      <td>enough</td>\n      <td>spring</td>\n      <td>spring</td>\n      <td>groundwater</td>\n      <td>communal standpipe</td>\n      <td>communal standpipe</td>\n      <td>functional</td>\n    </tr>\n    <tr>\n      <th>4</th>\n      <td>30522</td>\n      <td>250.0</td>\n      <td>2013-02-16</td>\n      <td>Kadp</td>\n      <td>1637</td>\n      <td>KADP</td>\n      <td>30.033542</td>\n      <td>-4.445927</td>\n      <td>Zahanati</td>\n      <td>0</td>\n      <td>Lake Tanganyika</td>\n      <td>Nyakitanga</td>\n      <td>Kigoma</td>\n      <td>16</td>\n      <td>2</td>\n      <td>Kasulu</td>\n      <td>Muhunga</td>\n      <td>250</td>\n      <td>True</td>\n      <td>GeoData Consultants Ltd</td>\n      <td>Water authority</td>\n      <td>NaN</td>\n      <td>True</td>\n      <td>1999</td>\n      <td>gravity</td>\n      <td>gravity</td>\n      <td>gravity</td>\n      <td>water board</td>\n      <td>user-group</td>\n      <td>pay monthly</td>\n      <td>monthly</td>\n      <td>soft</td>\n      <td>good</td>\n      <td>enough</td>\n      <td>enough</td>\n      <td>spring</td>\n      <td>spring</td>\n      <td>groundwater</td>\n      <td>communal standpipe</td>\n      <td>communal standpipe</td>\n      <td>functional</td>\n    </tr>\n  </tbody>\n</table>\n</div>"
     },
     "metadata": {},
     "execution_count": 16
    }
   ],
   "source": [
    "data.head()"
   ]
  },
  {
   "cell_type": "code",
   "execution_count": 17,
   "metadata": {},
   "outputs": [
    {
     "output_type": "execute_result",
     "data": {
      "text/plain": "      id  amount_tsh date_recorded     funder  gps_height installer  \\\n0  65314         0.0    2011-08-07         Ru         760       DWE   \n1  21219         6.0    2013-02-03  Ces(gmbh)        1650       DWE   \n2  70051         0.0    2011-07-20       Kkkt           0      KKKT   \n3  43984         0.0    2011-04-17      Tasaf           0       DWE   \n4  52706         0.0    2011-03-09      Amref          67     AMREF   \n\n   longitude  latitude                wpt_name  num_private            basin  \\\n0  30.599374 -7.487968                  Mkinga            0  Lake Tanganyika   \n1  37.455365 -3.288767  Kwa Claud Kamili Macho            0          Pangani   \n2  32.879546 -8.977601                Mwampulo            0       Lake Rukwa   \n3  35.969968 -5.140138                   Njari            0         Internal   \n4  39.046487 -7.189164               Kwa Kanji            0      Wami / Ruvu   \n\n  subvillage       region  region_code  district_code          lga  \\\n0     Mkinga        Rukwa           15              3        Nkasi   \n1    Marua B  Kilimanjaro            3              4  Moshi Rural   \n2    Mawanga        Mbeya           12              6        Mbozi   \n3      Njari       Dodoma            1              1       Kondoa   \n4     Kitoho        Pwani           60             43     Mkuranga   \n\n                    ward  population public_meeting              recorded_by  \\\n0                Kirando         500          False  GeoData Consultants Ltd   \n1  Kirua Vunjo Magharibi          80           True  GeoData Consultants Ltd   \n2                   Msia           0           True  GeoData Consultants Ltd   \n3                  Goima           0           True  GeoData Consultants Ltd   \n4                   Bupu          70           True  GeoData Consultants Ltd   \n\n  scheme_management                            scheme_name permit  \\\n0               VWC                                    NaN  False   \n1       Water Board  Kirua kahe gravity water supply trust   True   \n2               VWC                                    NaN  False   \n3               VWC                                   Bwaw  False   \n4               VWC                                    NaN  False   \n\n   construction_year extraction_type extraction_type_group  \\\n0               1995     nira/tanira           nira/tanira   \n1               2008         gravity               gravity   \n2                  0     nira/tanira           nira/tanira   \n3                  0         gravity               gravity   \n4               2005          swn 80                swn 80   \n\n  extraction_type_class   management management_group                payment  \\\n0              handpump          vwc       user-group              never pay   \n1               gravity  water board       user-group         pay per bucket   \n2              handpump          vwc       user-group  pay when scheme fails   \n3               gravity          vwc       user-group              never pay   \n4              handpump          vwc       user-group              never pay   \n\n  payment_type water_quality quality_group quantity quantity_group  \\\n0    never pay         milky         milky   enough         enough   \n1   per bucket          soft          good   enough         enough   \n2   on failure          soft          good   enough         enough   \n3    never pay          soft          good   enough         enough   \n4    never pay          soft          good      dry            dry   \n\n         source   source_type source_class     waterpoint_type  \\\n0  shallow well  shallow well  groundwater           hand pump   \n1        spring        spring  groundwater  communal standpipe   \n2  shallow well  shallow well  groundwater           hand pump   \n3           dam           dam      surface  communal standpipe   \n4  shallow well  shallow well  groundwater           hand pump   \n\n  waterpoint_type_group             status_group  \n0             hand pump               functional  \n1    communal standpipe               functional  \n2             hand pump               functional  \n3    communal standpipe  functional needs repair  \n4             hand pump           non functional  ",
      "text/html": "<div>\n<style scoped>\n    .dataframe tbody tr th:only-of-type {\n        vertical-align: middle;\n    }\n\n    .dataframe tbody tr th {\n        vertical-align: top;\n    }\n\n    .dataframe thead th {\n        text-align: right;\n    }\n</style>\n<table border=\"1\" class=\"dataframe\">\n  <thead>\n    <tr style=\"text-align: right;\">\n      <th></th>\n      <th>id</th>\n      <th>amount_tsh</th>\n      <th>date_recorded</th>\n      <th>funder</th>\n      <th>gps_height</th>\n      <th>installer</th>\n      <th>longitude</th>\n      <th>latitude</th>\n      <th>wpt_name</th>\n      <th>num_private</th>\n      <th>basin</th>\n      <th>subvillage</th>\n      <th>region</th>\n      <th>region_code</th>\n      <th>district_code</th>\n      <th>lga</th>\n      <th>ward</th>\n      <th>population</th>\n      <th>public_meeting</th>\n      <th>recorded_by</th>\n      <th>scheme_management</th>\n      <th>scheme_name</th>\n      <th>permit</th>\n      <th>construction_year</th>\n      <th>extraction_type</th>\n      <th>extraction_type_group</th>\n      <th>extraction_type_class</th>\n      <th>management</th>\n      <th>management_group</th>\n      <th>payment</th>\n      <th>payment_type</th>\n      <th>water_quality</th>\n      <th>quality_group</th>\n      <th>quantity</th>\n      <th>quantity_group</th>\n      <th>source</th>\n      <th>source_type</th>\n      <th>source_class</th>\n      <th>waterpoint_type</th>\n      <th>waterpoint_type_group</th>\n      <th>status_group</th>\n    </tr>\n  </thead>\n  <tbody>\n    <tr>\n      <th>0</th>\n      <td>65314</td>\n      <td>0.0</td>\n      <td>2011-08-07</td>\n      <td>Ru</td>\n      <td>760</td>\n      <td>DWE</td>\n      <td>30.599374</td>\n      <td>-7.487968</td>\n      <td>Mkinga</td>\n      <td>0</td>\n      <td>Lake Tanganyika</td>\n      <td>Mkinga</td>\n      <td>Rukwa</td>\n      <td>15</td>\n      <td>3</td>\n      <td>Nkasi</td>\n      <td>Kirando</td>\n      <td>500</td>\n      <td>False</td>\n      <td>GeoData Consultants Ltd</td>\n      <td>VWC</td>\n      <td>NaN</td>\n      <td>False</td>\n      <td>1995</td>\n      <td>nira/tanira</td>\n      <td>nira/tanira</td>\n      <td>handpump</td>\n      <td>vwc</td>\n      <td>user-group</td>\n      <td>never pay</td>\n      <td>never pay</td>\n      <td>milky</td>\n      <td>milky</td>\n      <td>enough</td>\n      <td>enough</td>\n      <td>shallow well</td>\n      <td>shallow well</td>\n      <td>groundwater</td>\n      <td>hand pump</td>\n      <td>hand pump</td>\n      <td>functional</td>\n    </tr>\n    <tr>\n      <th>1</th>\n      <td>21219</td>\n      <td>6.0</td>\n      <td>2013-02-03</td>\n      <td>Ces(gmbh)</td>\n      <td>1650</td>\n      <td>DWE</td>\n      <td>37.455365</td>\n      <td>-3.288767</td>\n      <td>Kwa Claud Kamili Macho</td>\n      <td>0</td>\n      <td>Pangani</td>\n      <td>Marua B</td>\n      <td>Kilimanjaro</td>\n      <td>3</td>\n      <td>4</td>\n      <td>Moshi Rural</td>\n      <td>Kirua Vunjo Magharibi</td>\n      <td>80</td>\n      <td>True</td>\n      <td>GeoData Consultants Ltd</td>\n      <td>Water Board</td>\n      <td>Kirua kahe gravity water supply trust</td>\n      <td>True</td>\n      <td>2008</td>\n      <td>gravity</td>\n      <td>gravity</td>\n      <td>gravity</td>\n      <td>water board</td>\n      <td>user-group</td>\n      <td>pay per bucket</td>\n      <td>per bucket</td>\n      <td>soft</td>\n      <td>good</td>\n      <td>enough</td>\n      <td>enough</td>\n      <td>spring</td>\n      <td>spring</td>\n      <td>groundwater</td>\n      <td>communal standpipe</td>\n      <td>communal standpipe</td>\n      <td>functional</td>\n    </tr>\n    <tr>\n      <th>2</th>\n      <td>70051</td>\n      <td>0.0</td>\n      <td>2011-07-20</td>\n      <td>Kkkt</td>\n      <td>0</td>\n      <td>KKKT</td>\n      <td>32.879546</td>\n      <td>-8.977601</td>\n      <td>Mwampulo</td>\n      <td>0</td>\n      <td>Lake Rukwa</td>\n      <td>Mawanga</td>\n      <td>Mbeya</td>\n      <td>12</td>\n      <td>6</td>\n      <td>Mbozi</td>\n      <td>Msia</td>\n      <td>0</td>\n      <td>True</td>\n      <td>GeoData Consultants Ltd</td>\n      <td>VWC</td>\n      <td>NaN</td>\n      <td>False</td>\n      <td>0</td>\n      <td>nira/tanira</td>\n      <td>nira/tanira</td>\n      <td>handpump</td>\n      <td>vwc</td>\n      <td>user-group</td>\n      <td>pay when scheme fails</td>\n      <td>on failure</td>\n      <td>soft</td>\n      <td>good</td>\n      <td>enough</td>\n      <td>enough</td>\n      <td>shallow well</td>\n      <td>shallow well</td>\n      <td>groundwater</td>\n      <td>hand pump</td>\n      <td>hand pump</td>\n      <td>functional</td>\n    </tr>\n    <tr>\n      <th>3</th>\n      <td>43984</td>\n      <td>0.0</td>\n      <td>2011-04-17</td>\n      <td>Tasaf</td>\n      <td>0</td>\n      <td>DWE</td>\n      <td>35.969968</td>\n      <td>-5.140138</td>\n      <td>Njari</td>\n      <td>0</td>\n      <td>Internal</td>\n      <td>Njari</td>\n      <td>Dodoma</td>\n      <td>1</td>\n      <td>1</td>\n      <td>Kondoa</td>\n      <td>Goima</td>\n      <td>0</td>\n      <td>True</td>\n      <td>GeoData Consultants Ltd</td>\n      <td>VWC</td>\n      <td>Bwaw</td>\n      <td>False</td>\n      <td>0</td>\n      <td>gravity</td>\n      <td>gravity</td>\n      <td>gravity</td>\n      <td>vwc</td>\n      <td>user-group</td>\n      <td>never pay</td>\n      <td>never pay</td>\n      <td>soft</td>\n      <td>good</td>\n      <td>enough</td>\n      <td>enough</td>\n      <td>dam</td>\n      <td>dam</td>\n      <td>surface</td>\n      <td>communal standpipe</td>\n      <td>communal standpipe</td>\n      <td>functional needs repair</td>\n    </tr>\n    <tr>\n      <th>4</th>\n      <td>52706</td>\n      <td>0.0</td>\n      <td>2011-03-09</td>\n      <td>Amref</td>\n      <td>67</td>\n      <td>AMREF</td>\n      <td>39.046487</td>\n      <td>-7.189164</td>\n      <td>Kwa Kanji</td>\n      <td>0</td>\n      <td>Wami / Ruvu</td>\n      <td>Kitoho</td>\n      <td>Pwani</td>\n      <td>60</td>\n      <td>43</td>\n      <td>Mkuranga</td>\n      <td>Bupu</td>\n      <td>70</td>\n      <td>True</td>\n      <td>GeoData Consultants Ltd</td>\n      <td>VWC</td>\n      <td>NaN</td>\n      <td>False</td>\n      <td>2005</td>\n      <td>swn 80</td>\n      <td>swn 80</td>\n      <td>handpump</td>\n      <td>vwc</td>\n      <td>user-group</td>\n      <td>never pay</td>\n      <td>never pay</td>\n      <td>soft</td>\n      <td>good</td>\n      <td>dry</td>\n      <td>dry</td>\n      <td>shallow well</td>\n      <td>shallow well</td>\n      <td>groundwater</td>\n      <td>hand pump</td>\n      <td>hand pump</td>\n      <td>non functional</td>\n    </tr>\n  </tbody>\n</table>\n</div>"
     },
     "metadata": {},
     "execution_count": 17
    }
   ],
   "source": [
    "data_unseen.head()"
   ]
  },
  {
   "cell_type": "code",
   "execution_count": 9,
   "metadata": {},
   "outputs": [],
   "source": [
    "from pycaret.classification import *"
   ]
  },
  {
   "cell_type": "code",
   "execution_count": 10,
   "metadata": {},
   "outputs": [
    {
     "output_type": "display_data",
     "data": {
      "text/plain": "IntProgress(value=0, description=&#39;Processing: &#39;, max=13)",
      "application/vnd.jupyter.widget-view+json": {
       "version_major": 2,
       "version_minor": 0,
       "model_id": "2a0586db6baa427493ce9077679c2730"
      }
     },
     "metadata": {}
    },
    {
     "output_type": "display_data",
     "data": {
      "text/plain": "                                                                    \n                                                                    \nInitiated  . . . . . . . . . . . . . . . . . .              22:25:02\nStatus     . . . . . . . . . . . . . . . . . .  Loading Dependencies\nETC        . . . . . . . . . . . . . . . . . .       Calculating ETC",
      "text/html": "<div>\n<style scoped>\n    .dataframe tbody tr th:only-of-type {\n        vertical-align: middle;\n    }\n\n    .dataframe tbody tr th {\n        vertical-align: top;\n    }\n\n    .dataframe thead th {\n        text-align: right;\n    }\n</style>\n<table border=\"1\" class=\"dataframe\">\n  <thead>\n    <tr style=\"text-align: right;\">\n      <th></th>\n      <th></th>\n      <th></th>\n    </tr>\n    <tr>\n      <th></th>\n      <th></th>\n      <th></th>\n    </tr>\n  </thead>\n  <tbody>\n    <tr>\n      <th>Initiated</th>\n      <td>. . . . . . . . . . . . . . . . . .</td>\n      <td>22:25:02</td>\n    </tr>\n    <tr>\n      <th>Status</th>\n      <td>. . . . . . . . . . . . . . . . . .</td>\n      <td>Loading Dependencies</td>\n    </tr>\n    <tr>\n      <th>ETC</th>\n      <td>. . . . . . . . . . . . . . . . . .</td>\n      <td>Calculating ETC</td>\n    </tr>\n  </tbody>\n</table>\n</div>"
     },
     "metadata": {}
    },
    {
     "output_type": "display_data",
     "data": {
      "text/html": "        <script type=\"text/javascript\">\n        window.PlotlyConfig = {MathJaxConfig: 'local'};\n        if (window.MathJax) {MathJax.Hub.Config({SVG: {font: \"STIX-Web\"}});}\n        if (typeof require !== 'undefined') {\n        require.undef(\"plotly\");\n        requirejs.config({\n            paths: {\n                'plotly': ['https://cdn.plot.ly/plotly-latest.min']\n            }\n        });\n        require(['plotly'], function(Plotly) {\n            window._Plotly = Plotly;\n        });\n        }\n        </script>\n        "
     },
     "metadata": {}
    },
    {
     "output_type": "display_data",
     "data": {
      "text/plain": "Text(value=&quot;Following data types have been inferred automatically, if they are correct press enter to continue…",
      "application/vnd.jupyter.widget-view+json": {
       "version_major": 2,
       "version_minor": 0,
       "model_id": "402b92160206477d9289c2fb8e1e0ad0"
      }
     },
     "metadata": {}
    },
    {
     "output_type": "display_data",
     "data": {
      "text/plain": "                         Data Type\nid                         Numeric\namount_tsh                 Numeric\ndate_recorded                 Date\nfunder                 Categorical\ngps_height                 Numeric\ninstaller              Categorical\nlongitude                  Numeric\nlatitude                   Numeric\nwpt_name               Categorical\nnum_private                Numeric\nbasin                  Categorical\nsubvillage             Categorical\nregion                 Categorical\nregion_code                Numeric\ndistrict_code          Categorical\nlga                    Categorical\nward                   Categorical\npopulation                 Numeric\npublic_meeting         Categorical\nrecorded_by            Categorical\nscheme_management      Categorical\nscheme_name            Categorical\npermit                 Categorical\nconstruction_year          Numeric\nextraction_type        Categorical\nextraction_type_group  Categorical\nextraction_type_class  Categorical\nmanagement             Categorical\nmanagement_group       Categorical\npayment                Categorical\npayment_type           Categorical\nwater_quality          Categorical\nquality_group          Categorical\nquantity               Categorical\nquantity_group         Categorical\nsource                 Categorical\nsource_type            Categorical\nsource_class           Categorical\nwaterpoint_type        Categorical\nwaterpoint_type_group  Categorical\nstatus_group                 Label",
      "text/html": "<div>\n<style scoped>\n    .dataframe tbody tr th:only-of-type {\n        vertical-align: middle;\n    }\n\n    .dataframe tbody tr th {\n        vertical-align: top;\n    }\n\n    .dataframe thead th {\n        text-align: right;\n    }\n</style>\n<table border=\"1\" class=\"dataframe\">\n  <thead>\n    <tr style=\"text-align: right;\">\n      <th></th>\n      <th>Data Type</th>\n    </tr>\n  </thead>\n  <tbody>\n    <tr>\n      <th>id</th>\n      <td>Numeric</td>\n    </tr>\n    <tr>\n      <th>amount_tsh</th>\n      <td>Numeric</td>\n    </tr>\n    <tr>\n      <th>date_recorded</th>\n      <td>Date</td>\n    </tr>\n    <tr>\n      <th>funder</th>\n      <td>Categorical</td>\n    </tr>\n    <tr>\n      <th>gps_height</th>\n      <td>Numeric</td>\n    </tr>\n    <tr>\n      <th>installer</th>\n      <td>Categorical</td>\n    </tr>\n    <tr>\n      <th>longitude</th>\n      <td>Numeric</td>\n    </tr>\n    <tr>\n      <th>latitude</th>\n      <td>Numeric</td>\n    </tr>\n    <tr>\n      <th>wpt_name</th>\n      <td>Categorical</td>\n    </tr>\n    <tr>\n      <th>num_private</th>\n      <td>Numeric</td>\n    </tr>\n    <tr>\n      <th>basin</th>\n      <td>Categorical</td>\n    </tr>\n    <tr>\n      <th>subvillage</th>\n      <td>Categorical</td>\n    </tr>\n    <tr>\n      <th>region</th>\n      <td>Categorical</td>\n    </tr>\n    <tr>\n      <th>region_code</th>\n      <td>Numeric</td>\n    </tr>\n    <tr>\n      <th>district_code</th>\n      <td>Categorical</td>\n    </tr>\n    <tr>\n      <th>lga</th>\n      <td>Categorical</td>\n    </tr>\n    <tr>\n      <th>ward</th>\n      <td>Categorical</td>\n    </tr>\n    <tr>\n      <th>population</th>\n      <td>Numeric</td>\n    </tr>\n    <tr>\n      <th>public_meeting</th>\n      <td>Categorical</td>\n    </tr>\n    <tr>\n      <th>recorded_by</th>\n      <td>Categorical</td>\n    </tr>\n    <tr>\n      <th>scheme_management</th>\n      <td>Categorical</td>\n    </tr>\n    <tr>\n      <th>scheme_name</th>\n      <td>Categorical</td>\n    </tr>\n    <tr>\n      <th>permit</th>\n      <td>Categorical</td>\n    </tr>\n    <tr>\n      <th>construction_year</th>\n      <td>Numeric</td>\n    </tr>\n    <tr>\n      <th>extraction_type</th>\n      <td>Categorical</td>\n    </tr>\n    <tr>\n      <th>extraction_type_group</th>\n      <td>Categorical</td>\n    </tr>\n    <tr>\n      <th>extraction_type_class</th>\n      <td>Categorical</td>\n    </tr>\n    <tr>\n      <th>management</th>\n      <td>Categorical</td>\n    </tr>\n    <tr>\n      <th>management_group</th>\n      <td>Categorical</td>\n    </tr>\n    <tr>\n      <th>payment</th>\n      <td>Categorical</td>\n    </tr>\n    <tr>\n      <th>payment_type</th>\n      <td>Categorical</td>\n    </tr>\n    <tr>\n      <th>water_quality</th>\n      <td>Categorical</td>\n    </tr>\n    <tr>\n      <th>quality_group</th>\n      <td>Categorical</td>\n    </tr>\n    <tr>\n      <th>quantity</th>\n      <td>Categorical</td>\n    </tr>\n    <tr>\n      <th>quantity_group</th>\n      <td>Categorical</td>\n    </tr>\n    <tr>\n      <th>source</th>\n      <td>Categorical</td>\n    </tr>\n    <tr>\n      <th>source_type</th>\n      <td>Categorical</td>\n    </tr>\n    <tr>\n      <th>source_class</th>\n      <td>Categorical</td>\n    </tr>\n    <tr>\n      <th>waterpoint_type</th>\n      <td>Categorical</td>\n    </tr>\n    <tr>\n      <th>waterpoint_type_group</th>\n      <td>Categorical</td>\n    </tr>\n    <tr>\n      <th>status_group</th>\n      <td>Label</td>\n    </tr>\n  </tbody>\n</table>\n</div>"
     },
     "metadata": {}
    },
    {
     "output_type": "error",
     "ename": "MemoryError",
     "evalue": "Unable to allocate 16.0 GiB for an array with shape (41580, 51533) and data type float64",
     "traceback": [
      "\u001b[0;31m---------------------------------------------------------------------------\u001b[0m",
      "\u001b[0;31mMemoryError\u001b[0m                               Traceback (most recent call last)",
      "\u001b[0;32m&lt;ipython-input-10-7993a409f168&gt;\u001b[0m in \u001b[0;36m&lt;module&gt;\u001b[0;34m\u001b[0m\n\u001b[0;32m----&gt; 1\u001b[0;31m \u001b[0mexp_mclf101\u001b[0m \u001b[0;34m=\u001b[0m \u001b[0msetup\u001b[0m\u001b[0;34m(\u001b[0m\u001b[0mdata\u001b[0m \u001b[0;34m=\u001b[0m \u001b[0mdata\u001b[0m\u001b[0;34m,\u001b[0m \u001b[0mtarget\u001b[0m \u001b[0;34m=\u001b[0m \u001b[0;34m&#39;status_group&#39;\u001b[0m\u001b[0;34m,\u001b[0m \u001b[0msession_id\u001b[0m\u001b[0;34m=\u001b[0m\u001b[0;36m123\u001b[0m\u001b[0;34m)\u001b[0m\u001b[0;34m\u001b[0m\u001b[0;34m\u001b[0m\u001b[0m\n\u001b[0m",
      "\u001b[0;32m~/.local/lib/python3.6/site-packages/pycaret/classification.py\u001b[0m in \u001b[0;36msetup\u001b[0;34m(data, target, train_size, sampling, sample_estimator, categorical_features, categorical_imputation, ordinal_features, high_cardinality_features, high_cardinality_method, numeric_features, numeric_imputation, date_features, ignore_features, normalize, normalize_method, transformation, transformation_method, handle_unknown_categorical, unknown_categorical_method, pca, pca_method, pca_components, ignore_low_variance, combine_rare_levels, rare_level_threshold, bin_numeric_features, remove_outliers, outliers_threshold, remove_multicollinearity, multicollinearity_threshold, create_clusters, cluster_iter, polynomial_features, polynomial_degree, trigonometry_features, polynomial_threshold, group_features, group_names, feature_selection, feature_selection_threshold, feature_interaction, feature_ratio, interaction_threshold, session_id, silent, profile)\u001b[0m\n\u001b[1;32m    929\u001b[0m                                           \u001b[0mdisplay_types\u001b[0m \u001b[0;34m=\u001b[0m \u001b[0mdisplay_dtypes_pass\u001b[0m\u001b[0;34m,\u001b[0m \u001b[0;31m#this is for inferred input box\u001b[0m\u001b[0;34m\u001b[0m\u001b[0;34m\u001b[0m\u001b[0m\n\u001b[1;32m    930\u001b[0m                                           \u001b[0mtarget_transformation\u001b[0m \u001b[0;34m=\u001b[0m \u001b[0;32mFalse\u001b[0m\u001b[0;34m,\u001b[0m \u001b[0;31m#not needed for classification\u001b[0m\u001b[0;34m\u001b[0m\u001b[0;34m\u001b[0m\u001b[0m\n\u001b[0;32m--&gt; 931\u001b[0;31m                                           random_state = seed)\n\u001b[0m\u001b[1;32m    932\u001b[0m \u001b[0;34m\u001b[0m\u001b[0m\n\u001b[1;32m    933\u001b[0m     \u001b[0mprogress\u001b[0m\u001b[0;34m.\u001b[0m\u001b[0mvalue\u001b[0m \u001b[0;34m+=\u001b[0m \u001b[0;36m1\u001b[0m\u001b[0;34m\u001b[0m\u001b[0;34m\u001b[0m\u001b[0m\n",
      "\u001b[0;32m~/.local/lib/python3.6/site-packages/pycaret/preprocess.py\u001b[0m in \u001b[0;36mPreprocess_Path_One\u001b[0;34m(train_data, target_variable, ml_usecase, test_data, categorical_features, numerical_features, time_features, features_todrop, display_types, imputation_type, numeric_imputation_strategy, categorical_imputation_strategy, apply_zero_nearZero_variance, club_rare_levels, rara_level_threshold_percentage, apply_untrained_levels_treatment, untrained_levels_treatment_method, apply_ordinal_encoding, ordinal_columns_and_categories, apply_cardinality_reduction, cardinal_method, cardinal_features, apply_binning, features_to_binn, apply_grouping, group_name, features_to_group_ListofList, apply_polynomial_trigonometry_features, max_polynomial, trigonometry_calculations, top_poly_trig_features_to_select_percentage, scale_data, scaling_method, Power_transform_data, Power_transform_method, target_transformation, target_transformation_method, remove_outliers, outlier_contamination_percentage, outlier_methods, apply_feature_selection, feature_selection_top_features_percentage, remove_multicollinearity, maximum_correlation_between_features, remove_perfect_collinearity, apply_feature_interactions, feature_interactions_to_apply, feature_interactions_top_features_to_select_percentage, cluster_entire_data, range_of_clusters_to_try, apply_pca, pca_method, pca_variance_retained_or_number_of_components, random_state)\u001b[0m\n\u001b[1;32m   2538\u001b[0m     \u001b[0;32mreturn\u001b[0m\u001b[0;34m(\u001b[0m\u001b[0mpipe\u001b[0m\u001b[0;34m.\u001b[0m\u001b[0mfit_transform\u001b[0m\u001b[0;34m(\u001b[0m\u001b[0mtrain_data\u001b[0m\u001b[0;34m)\u001b[0m\u001b[0;34m,\u001b[0m\u001b[0mpipe\u001b[0m\u001b[0;34m.\u001b[0m\u001b[0mtransform\u001b[0m\u001b[0;34m(\u001b[0m\u001b[0mtest_data\u001b[0m\u001b[0;34m)\u001b[0m\u001b[0;34m)\u001b[0m\u001b[0;34m\u001b[0m\u001b[0;34m\u001b[0m\u001b[0m\n\u001b[1;32m   2539\u001b[0m   \u001b[0;32melse\u001b[0m\u001b[0;34m:\u001b[0m\u001b[0;34m\u001b[0m\u001b[0;34m\u001b[0m\u001b[0m\n\u001b[0;32m-&gt; 2540\u001b[0;31m     \u001b[0;32mreturn\u001b[0m\u001b[0;34m(\u001b[0m\u001b[0mpipe\u001b[0m\u001b[0;34m.\u001b[0m\u001b[0mfit_transform\u001b[0m\u001b[0;34m(\u001b[0m\u001b[0mtrain_data\u001b[0m\u001b[0;34m)\u001b[0m\u001b[0;34m)\u001b[0m\u001b[0;34m\u001b[0m\u001b[0;34m\u001b[0m\u001b[0m\n\u001b[0m\u001b[1;32m   2541\u001b[0m \u001b[0;34m\u001b[0m\u001b[0m\n\u001b[1;32m   2542\u001b[0m \u001b[0;34m\u001b[0m\u001b[0m\n",
      "\u001b[0;32m~/.local/lib/python3.6/site-packages/sklearn/pipeline.py\u001b[0m in \u001b[0;36mfit_transform\u001b[0;34m(self, X, y, **fit_params)\u001b[0m\n\u001b[1;32m    381\u001b[0m         &quot;&quot;&quot;\n\u001b[1;32m    382\u001b[0m         \u001b[0mlast_step\u001b[0m \u001b[0;34m=\u001b[0m \u001b[0mself\u001b[0m\u001b[0;34m.\u001b[0m\u001b[0m_final_estimator\u001b[0m\u001b[0;34m\u001b[0m\u001b[0;34m\u001b[0m\u001b[0m\n\u001b[0;32m--&gt; 383\u001b[0;31m         \u001b[0mXt\u001b[0m\u001b[0;34m,\u001b[0m \u001b[0mfit_params\u001b[0m \u001b[0;34m=\u001b[0m \u001b[0mself\u001b[0m\u001b[0;34m.\u001b[0m\u001b[0m_fit\u001b[0m\u001b[0;34m(\u001b[0m\u001b[0mX\u001b[0m\u001b[0;34m,\u001b[0m \u001b[0my\u001b[0m\u001b[0;34m,\u001b[0m \u001b[0;34m**\u001b[0m\u001b[0mfit_params\u001b[0m\u001b[0;34m)\u001b[0m\u001b[0;34m\u001b[0m\u001b[0;34m\u001b[0m\u001b[0m\n\u001b[0m\u001b[1;32m    384\u001b[0m         with _print_elapsed_time(&#39;Pipeline&#39;,\n\u001b[1;32m    385\u001b[0m                                  self._log_message(len(self.steps) - 1)):\n",
      "\u001b[0;32m~/.local/lib/python3.6/site-packages/sklearn/pipeline.py\u001b[0m in \u001b[0;36m_fit\u001b[0;34m(self, X, y, **fit_params)\u001b[0m\n\u001b[1;32m    311\u001b[0m                 \u001b[0mmessage_clsname\u001b[0m\u001b[0;34m=\u001b[0m\u001b[0;34m&#39;Pipeline&#39;\u001b[0m\u001b[0;34m,\u001b[0m\u001b[0;34m\u001b[0m\u001b[0;34m\u001b[0m\u001b[0m\n\u001b[1;32m    312\u001b[0m                 \u001b[0mmessage\u001b[0m\u001b[0;34m=\u001b[0m\u001b[0mself\u001b[0m\u001b[0;34m.\u001b[0m\u001b[0m_log_message\u001b[0m\u001b[0;34m(\u001b[0m\u001b[0mstep_idx\u001b[0m\u001b[0;34m)\u001b[0m\u001b[0;34m,\u001b[0m\u001b[0;34m\u001b[0m\u001b[0;34m\u001b[0m\u001b[0m\n\u001b[0;32m--&gt; 313\u001b[0;31m                 **fit_params_steps[name])\n\u001b[0m\u001b[1;32m    314\u001b[0m             \u001b[0;31m# Replace the transformer of the step with the fitted\u001b[0m\u001b[0;34m\u001b[0m\u001b[0;34m\u001b[0m\u001b[0;34m\u001b[0m\u001b[0m\n\u001b[1;32m    315\u001b[0m             \u001b[0;31m# transformer. This is necessary when loading the transformer\u001b[0m\u001b[0;34m\u001b[0m\u001b[0;34m\u001b[0m\u001b[0;34m\u001b[0m\u001b[0m\n",
      "\u001b[0;32m~/.local/lib/python3.6/site-packages/joblib/memory.py\u001b[0m in \u001b[0;36m__call__\u001b[0;34m(self, *args, **kwargs)\u001b[0m\n\u001b[1;32m    350\u001b[0m \u001b[0;34m\u001b[0m\u001b[0m\n\u001b[1;32m    351\u001b[0m     \u001b[0;32mdef\u001b[0m \u001b[0m__call__\u001b[0m\u001b[0;34m(\u001b[0m\u001b[0mself\u001b[0m\u001b[0;34m,\u001b[0m \u001b[0;34m*\u001b[0m\u001b[0margs\u001b[0m\u001b[0;34m,\u001b[0m \u001b[0;34m**\u001b[0m\u001b[0mkwargs\u001b[0m\u001b[0;34m)\u001b[0m\u001b[0;34m:\u001b[0m\u001b[0;34m\u001b[0m\u001b[0;34m\u001b[0m\u001b[0m\n\u001b[0;32m--&gt; 352\u001b[0;31m         \u001b[0;32mreturn\u001b[0m \u001b[0mself\u001b[0m\u001b[0;34m.\u001b[0m\u001b[0mfunc\u001b[0m\u001b[0;34m(\u001b[0m\u001b[0;34m*\u001b[0m\u001b[0margs\u001b[0m\u001b[0;34m,\u001b[0m \u001b[0;34m**\u001b[0m\u001b[0mkwargs\u001b[0m\u001b[0;34m)\u001b[0m\u001b[0;34m\u001b[0m\u001b[0;34m\u001b[0m\u001b[0m\n\u001b[0m\u001b[1;32m    353\u001b[0m \u001b[0;34m\u001b[0m\u001b[0m\n\u001b[1;32m    354\u001b[0m     \u001b[0;32mdef\u001b[0m \u001b[0mcall_and_shelve\u001b[0m\u001b[0;34m(\u001b[0m\u001b[0mself\u001b[0m\u001b[0;34m,\u001b[0m \u001b[0;34m*\u001b[0m\u001b[0margs\u001b[0m\u001b[0;34m,\u001b[0m \u001b[0;34m**\u001b[0m\u001b[0mkwargs\u001b[0m\u001b[0;34m)\u001b[0m\u001b[0;34m:\u001b[0m\u001b[0;34m\u001b[0m\u001b[0;34m\u001b[0m\u001b[0m\n",
      "\u001b[0;32m~/.local/lib/python3.6/site-packages/sklearn/pipeline.py\u001b[0m in \u001b[0;36m_fit_transform_one\u001b[0;34m(transformer, X, y, weight, message_clsname, message, **fit_params)\u001b[0m\n\u001b[1;32m    724\u001b[0m     \u001b[0;32mwith\u001b[0m \u001b[0m_print_elapsed_time\u001b[0m\u001b[0;34m(\u001b[0m\u001b[0mmessage_clsname\u001b[0m\u001b[0;34m,\u001b[0m \u001b[0mmessage\u001b[0m\u001b[0;34m)\u001b[0m\u001b[0;34m:\u001b[0m\u001b[0;34m\u001b[0m\u001b[0;34m\u001b[0m\u001b[0m\n\u001b[1;32m    725\u001b[0m         \u001b[0;32mif\u001b[0m \u001b[0mhasattr\u001b[0m\u001b[0;34m(\u001b[0m\u001b[0mtransformer\u001b[0m\u001b[0;34m,\u001b[0m \u001b[0;34m&#39;fit_transform&#39;\u001b[0m\u001b[0;34m)\u001b[0m\u001b[0;34m:\u001b[0m\u001b[0;34m\u001b[0m\u001b[0;34m\u001b[0m\u001b[0m\n\u001b[0;32m--&gt; 726\u001b[0;31m             \u001b[0mres\u001b[0m \u001b[0;34m=\u001b[0m \u001b[0mtransformer\u001b[0m\u001b[0;34m.\u001b[0m\u001b[0mfit_transform\u001b[0m\u001b[0;34m(\u001b[0m\u001b[0mX\u001b[0m\u001b[0;34m,\u001b[0m \u001b[0my\u001b[0m\u001b[0;34m,\u001b[0m \u001b[0;34m**\u001b[0m\u001b[0mfit_params\u001b[0m\u001b[0;34m)\u001b[0m\u001b[0;34m\u001b[0m\u001b[0;34m\u001b[0m\u001b[0m\n\u001b[0m\u001b[1;32m    727\u001b[0m         \u001b[0;32melse\u001b[0m\u001b[0;34m:\u001b[0m\u001b[0;34m\u001b[0m\u001b[0;34m\u001b[0m\u001b[0m\n\u001b[1;32m    728\u001b[0m             \u001b[0mres\u001b[0m \u001b[0;34m=\u001b[0m \u001b[0mtransformer\u001b[0m\u001b[0;34m.\u001b[0m\u001b[0mfit\u001b[0m\u001b[0;34m(\u001b[0m\u001b[0mX\u001b[0m\u001b[0;34m,\u001b[0m \u001b[0my\u001b[0m\u001b[0;34m,\u001b[0m \u001b[0;34m**\u001b[0m\u001b[0mfit_params\u001b[0m\u001b[0;34m)\u001b[0m\u001b[0;34m.\u001b[0m\u001b[0mtransform\u001b[0m\u001b[0;34m(\u001b[0m\u001b[0mX\u001b[0m\u001b[0;34m)\u001b[0m\u001b[0;34m\u001b[0m\u001b[0;34m\u001b[0m\u001b[0m\n",
      "\u001b[0;32m~/.local/lib/python3.6/site-packages/pycaret/preprocess.py\u001b[0m in \u001b[0;36mfit_transform\u001b[0;34m(self, dataset, y)\u001b[0m\n\u001b[1;32m   1164\u001b[0m       \u001b[0mself\u001b[0m\u001b[0;34m.\u001b[0m\u001b[0mfit\u001b[0m\u001b[0;34m(\u001b[0m\u001b[0mdata\u001b[0m\u001b[0;34m)\u001b[0m\u001b[0;34m\u001b[0m\u001b[0;34m\u001b[0m\u001b[0m\n\u001b[1;32m   1165\u001b[0m       \u001b[0;31m# fit without target and only categorical columns\u001b[0m\u001b[0;34m\u001b[0m\u001b[0;34m\u001b[0m\u001b[0;34m\u001b[0m\u001b[0m\n\u001b[0;32m-&gt; 1166\u001b[0;31m       \u001b[0marray\u001b[0m \u001b[0;34m=\u001b[0m \u001b[0mself\u001b[0m\u001b[0;34m.\u001b[0m\u001b[0mohe\u001b[0m\u001b[0;34m.\u001b[0m\u001b[0mtransform\u001b[0m\u001b[0;34m(\u001b[0m\u001b[0mdata\u001b[0m\u001b[0;34m.\u001b[0m\u001b[0mdrop\u001b[0m\u001b[0;34m(\u001b[0m\u001b[0mself\u001b[0m\u001b[0;34m.\u001b[0m\u001b[0mtarget\u001b[0m\u001b[0;34m,\u001b[0m\u001b[0maxis\u001b[0m\u001b[0;34m=\u001b[0m\u001b[0;36m1\u001b[0m\u001b[0;34m,\u001b[0m\u001b[0merrors\u001b[0m\u001b[0;34m=\u001b[0m\u001b[0;34m&#39;ignore&#39;\u001b[0m\u001b[0;34m)\u001b[0m\u001b[0;34m.\u001b[0m\u001b[0mselect_dtypes\u001b[0m\u001b[0;34m(\u001b[0m\u001b[0minclude\u001b[0m\u001b[0;34m=\u001b[0m\u001b[0;34m(\u001b[0m\u001b[0;34m&#39;object&#39;\u001b[0m\u001b[0;34m)\u001b[0m\u001b[0;34m)\u001b[0m\u001b[0;34m)\u001b[0m\u001b[0;34m.\u001b[0m\u001b[0mtoarray\u001b[0m\u001b[0;34m(\u001b[0m\u001b[0;34m)\u001b[0m\u001b[0;34m\u001b[0m\u001b[0;34m\u001b[0m\u001b[0m\n\u001b[0m\u001b[1;32m   1167\u001b[0m       \u001b[0mdata_dummies\u001b[0m \u001b[0;34m=\u001b[0m \u001b[0mpd\u001b[0m\u001b[0;34m.\u001b[0m\u001b[0mDataFrame\u001b[0m\u001b[0;34m(\u001b[0m\u001b[0marray\u001b[0m\u001b[0;34m,\u001b[0m\u001b[0mcolumns\u001b[0m\u001b[0;34m=\u001b[0m \u001b[0mself\u001b[0m\u001b[0;34m.\u001b[0m\u001b[0mdata_columns\u001b[0m\u001b[0;34m)\u001b[0m\u001b[0;34m\u001b[0m\u001b[0;34m\u001b[0m\u001b[0m\n\u001b[1;32m   1168\u001b[0m       \u001b[0mdata_dummies\u001b[0m\u001b[0;34m.\u001b[0m\u001b[0mindex\u001b[0m \u001b[0;34m=\u001b[0m \u001b[0mself\u001b[0m\u001b[0;34m.\u001b[0m\u001b[0mdata_nonc\u001b[0m\u001b[0;34m.\u001b[0m\u001b[0mindex\u001b[0m\u001b[0;34m\u001b[0m\u001b[0;34m\u001b[0m\u001b[0m\n",
      "\u001b[0;32m~/.local/lib/python3.6/site-packages/scipy/sparse/compressed.py\u001b[0m in \u001b[0;36mtoarray\u001b[0;34m(self, order, out)\u001b[0m\n\u001b[1;32m   1023\u001b[0m         \u001b[0;32mif\u001b[0m \u001b[0mout\u001b[0m \u001b[0;32mis\u001b[0m \u001b[0;32mNone\u001b[0m \u001b[0;32mand\u001b[0m \u001b[0morder\u001b[0m \u001b[0;32mis\u001b[0m \u001b[0;32mNone\u001b[0m\u001b[0;34m:\u001b[0m\u001b[0;34m\u001b[0m\u001b[0;34m\u001b[0m\u001b[0m\n\u001b[1;32m   1024\u001b[0m             \u001b[0morder\u001b[0m \u001b[0;34m=\u001b[0m \u001b[0mself\u001b[0m\u001b[0;34m.\u001b[0m\u001b[0m_swap\u001b[0m\u001b[0;34m(\u001b[0m\u001b[0;34m&#39;cf&#39;\u001b[0m\u001b[0;34m)\u001b[0m\u001b[0;34m[\u001b[0m\u001b[0;36m0\u001b[0m\u001b[0;34m]\u001b[0m\u001b[0;34m\u001b[0m\u001b[0;34m\u001b[0m\u001b[0m\n\u001b[0;32m-&gt; 1025\u001b[0;31m         \u001b[0mout\u001b[0m \u001b[0;34m=\u001b[0m \u001b[0mself\u001b[0m\u001b[0;34m.\u001b[0m\u001b[0m_process_toarray_args\u001b[0m\u001b[0;34m(\u001b[0m\u001b[0morder\u001b[0m\u001b[0;34m,\u001b[0m \u001b[0mout\u001b[0m\u001b[0;34m)\u001b[0m\u001b[0;34m\u001b[0m\u001b[0;34m\u001b[0m\u001b[0m\n\u001b[0m\u001b[1;32m   1026\u001b[0m         \u001b[0;32mif\u001b[0m \u001b[0;32mnot\u001b[0m \u001b[0;34m(\u001b[0m\u001b[0mout\u001b[0m\u001b[0;34m.\u001b[0m\u001b[0mflags\u001b[0m\u001b[0;34m.\u001b[0m\u001b[0mc_contiguous\u001b[0m \u001b[0;32mor\u001b[0m \u001b[0mout\u001b[0m\u001b[0;34m.\u001b[0m\u001b[0mflags\u001b[0m\u001b[0;34m.\u001b[0m\u001b[0mf_contiguous\u001b[0m\u001b[0;34m)\u001b[0m\u001b[0;34m:\u001b[0m\u001b[0;34m\u001b[0m\u001b[0;34m\u001b[0m\u001b[0m\n\u001b[1;32m   1027\u001b[0m             \u001b[0;32mraise\u001b[0m \u001b[0mValueError\u001b[0m\u001b[0;34m(\u001b[0m\u001b[0;34m&#39;Output array must be C or F contiguous&#39;\u001b[0m\u001b[0;34m)\u001b[0m\u001b[0;34m\u001b[0m\u001b[0;34m\u001b[0m\u001b[0m\n",
      "\u001b[0;32m~/.local/lib/python3.6/site-packages/scipy/sparse/base.py\u001b[0m in \u001b[0;36m_process_toarray_args\u001b[0;34m(self, order, out)\u001b[0m\n\u001b[1;32m   1183\u001b[0m             \u001b[0;32mreturn\u001b[0m \u001b[0mout\u001b[0m\u001b[0;34m\u001b[0m\u001b[0;34m\u001b[0m\u001b[0m\n\u001b[1;32m   1184\u001b[0m         \u001b[0;32melse\u001b[0m\u001b[0;34m:\u001b[0m\u001b[0;34m\u001b[0m\u001b[0;34m\u001b[0m\u001b[0m\n\u001b[0;32m-&gt; 1185\u001b[0;31m             \u001b[0;32mreturn\u001b[0m \u001b[0mnp\u001b[0m\u001b[0;34m.\u001b[0m\u001b[0mzeros\u001b[0m\u001b[0;34m(\u001b[0m\u001b[0mself\u001b[0m\u001b[0;34m.\u001b[0m\u001b[0mshape\u001b[0m\u001b[0;34m,\u001b[0m \u001b[0mdtype\u001b[0m\u001b[0;34m=\u001b[0m\u001b[0mself\u001b[0m\u001b[0;34m.\u001b[0m\u001b[0mdtype\u001b[0m\u001b[0;34m,\u001b[0m \u001b[0morder\u001b[0m\u001b[0;34m=\u001b[0m\u001b[0morder\u001b[0m\u001b[0;34m)\u001b[0m\u001b[0;34m\u001b[0m\u001b[0;34m\u001b[0m\u001b[0m\n\u001b[0m\u001b[1;32m   1186\u001b[0m \u001b[0;34m\u001b[0m\u001b[0m\n\u001b[1;32m   1187\u001b[0m \u001b[0;34m\u001b[0m\u001b[0m\n",
      "\u001b[0;31mMemoryError\u001b[0m: Unable to allocate 16.0 GiB for an array with shape (41580, 51533) and data type float64"
     ]
    }
   ],
   "source": [
    "exp_mclf101 = setup(data = data, target = 'status_group', session_id=123) "
   ]
  },
  {
   "cell_type": "code",
   "execution_count": 13,
   "metadata": {},
   "outputs": [
    {
     "output_type": "display_data",
     "data": {
      "text/plain": "IntProgress(value=0, description=&#39;Processing: &#39;, max=14)",
      "application/vnd.jupyter.widget-view+json": {
       "version_major": 2,
       "version_minor": 0,
       "model_id": "e01dd278675044459eeca97f0a634802"
      }
     },
     "metadata": {}
    },
    {
     "output_type": "display_data",
     "data": {
      "text/plain": "                                                                    \n                                                                    \nInitiated  . . . . . . . . . . . . . . . . . .              22:25:02\nStatus     . . . . . . . . . . . . . . . . . .  Loading Dependencies\nETC        . . . . . . . . . . . . . . . . . .       Calculating ETC",
      "text/html": "<div>\n<style scoped>\n    .dataframe tbody tr th:only-of-type {\n        vertical-align: middle;\n    }\n\n    .dataframe tbody tr th {\n        vertical-align: top;\n    }\n\n    .dataframe thead th {\n        text-align: right;\n    }\n</style>\n<table border=\"1\" class=\"dataframe\">\n  <thead>\n    <tr style=\"text-align: right;\">\n      <th></th>\n      <th></th>\n      <th></th>\n    </tr>\n    <tr>\n      <th></th>\n      <th></th>\n      <th></th>\n    </tr>\n  </thead>\n  <tbody>\n    <tr>\n      <th>Initiated</th>\n      <td>. . . . . . . . . . . . . . . . . .</td>\n      <td>22:25:02</td>\n    </tr>\n    <tr>\n      <th>Status</th>\n      <td>. . . . . . . . . . . . . . . . . .</td>\n      <td>Loading Dependencies</td>\n    </tr>\n    <tr>\n      <th>ETC</th>\n      <td>. . . . . . . . . . . . . . . . . .</td>\n      <td>Calculating ETC</td>\n    </tr>\n  </tbody>\n</table>\n</div>"
     },
     "metadata": {}
    },
    {
     "output_type": "display_data",
     "data": {
      "text/plain": "Empty DataFrame\nColumns: [Accuracy, AUC, Recall, Prec., F1, Kappa]\nIndex: []",
      "text/html": "<div>\n<style scoped>\n    .dataframe tbody tr th:only-of-type {\n        vertical-align: middle;\n    }\n\n    .dataframe tbody tr th {\n        vertical-align: top;\n    }\n\n    .dataframe thead th {\n        text-align: right;\n    }\n</style>\n<table border=\"1\" class=\"dataframe\">\n  <thead>\n    <tr style=\"text-align: right;\">\n      <th></th>\n      <th>Accuracy</th>\n      <th>AUC</th>\n      <th>Recall</th>\n      <th>Prec.</th>\n      <th>F1</th>\n      <th>Kappa</th>\n    </tr>\n  </thead>\n  <tbody>\n  </tbody>\n</table>\n</div>"
     },
     "metadata": {}
    },
    {
     "output_type": "error",
     "ename": "NameError",
     "evalue": "name &#39;X_train&#39; is not defined",
     "traceback": [
      "\u001b[0;31m---------------------------------------------------------------------------\u001b[0m",
      "\u001b[0;31mNameError\u001b[0m                                 Traceback (most recent call last)",
      "\u001b[0;32m&lt;ipython-input-13-3b5226ab9b54&gt;\u001b[0m in \u001b[0;36m&lt;module&gt;\u001b[0;34m\u001b[0m\n\u001b[0;32m----&gt; 1\u001b[0;31m \u001b[0mdt\u001b[0m \u001b[0;34m=\u001b[0m \u001b[0mcreate_model\u001b[0m\u001b[0;34m(\u001b[0m\u001b[0;34m&#39;dt&#39;\u001b[0m\u001b[0;34m)\u001b[0m\u001b[0;34m\u001b[0m\u001b[0;34m\u001b[0m\u001b[0m\n\u001b[0m",
      "\u001b[0;32m~/.local/lib/python3.6/site-packages/pycaret/classification.py\u001b[0m in \u001b[0;36mcreate_model\u001b[0;34m(estimator, ensemble, method, fold, round, verbose)\u001b[0m\n\u001b[1;32m   1716\u001b[0m \u001b[0;34m\u001b[0m\u001b[0m\n\u001b[1;32m   1717\u001b[0m     \u001b[0;31m#Storing X_train and y_train in data_X and data_y parameter\u001b[0m\u001b[0;34m\u001b[0m\u001b[0;34m\u001b[0m\u001b[0;34m\u001b[0m\u001b[0m\n\u001b[0;32m-&gt; 1718\u001b[0;31m     \u001b[0mdata_X\u001b[0m \u001b[0;34m=\u001b[0m \u001b[0mX_train\u001b[0m\u001b[0;34m.\u001b[0m\u001b[0mcopy\u001b[0m\u001b[0;34m(\u001b[0m\u001b[0;34m)\u001b[0m\u001b[0;34m\u001b[0m\u001b[0;34m\u001b[0m\u001b[0m\n\u001b[0m\u001b[1;32m   1719\u001b[0m     \u001b[0mdata_y\u001b[0m \u001b[0;34m=\u001b[0m \u001b[0my_train\u001b[0m\u001b[0;34m.\u001b[0m\u001b[0mcopy\u001b[0m\u001b[0;34m(\u001b[0m\u001b[0;34m)\u001b[0m\u001b[0;34m\u001b[0m\u001b[0;34m\u001b[0m\u001b[0m\n\u001b[1;32m   1720\u001b[0m \u001b[0;34m\u001b[0m\u001b[0m\n",
      "\u001b[0;31mNameError\u001b[0m: name &#39;X_train&#39; is not defined"
     ]
    }
   ],
   "source": [
    "dt = create_model('dt')"
   ]
  },
  {
   "cell_type": "code",
   "execution_count": null,
   "metadata": {},
   "outputs": [],
   "source": []
  }
 ]
}