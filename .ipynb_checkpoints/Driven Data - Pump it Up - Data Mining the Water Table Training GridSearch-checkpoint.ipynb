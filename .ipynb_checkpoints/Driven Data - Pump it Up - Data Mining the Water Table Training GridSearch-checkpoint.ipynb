{
 "cells": [
  {
   "cell_type": "code",
   "execution_count": 16,
   "metadata": {
    "collapsed": false
   },
   "outputs": [],
   "source": [
    "import pandas as pd\n",
    "import numpy as np\n",
    "\n",
    "import seaborn as sns\n",
    "\n",
    "from sklearn.preprocessing import LabelEncoder\n",
    "from sklearn.cross_validation import train_test_split\n",
    "from sklearn.preprocessing import StandardScaler\n",
    "from sklearn.ensemble import RandomForestClassifier\n",
    "from sklearn.neighbors import KNeighborsClassifier\n",
    "from sklearn.linear_model import LogisticRegression\n",
    "from sklearn.metrics import classification_report, confusion_matrix, accuracy_score\n",
    "from sklearn.grid_search import GridSearchCV\n",
    "\n",
    "import pickle\n",
    "\n",
    "%matplotlib inline"
   ]
  },
  {
   "cell_type": "code",
   "execution_count": 2,
   "metadata": {
    "collapsed": true
   },
   "outputs": [],
   "source": [
    "trng_data = pd.read_csv('training set values.csv')\n",
    "trng_lbl = pd.read_csv('training set labels.csv')"
   ]
  },
  {
   "cell_type": "code",
   "execution_count": 3,
   "metadata": {
    "collapsed": false
   },
   "outputs": [],
   "source": [
    "# Convert status_group to numerical.\n",
    "trng_lbl['status_group'] = trng_lbl.status_group.map({'functional':0, 'functional needs repair':1, 'non functional':2})"
   ]
  },
  {
   "cell_type": "code",
   "execution_count": 4,
   "metadata": {
    "collapsed": false
   },
   "outputs": [],
   "source": [
    "data = pd.merge(trng_data,trng_lbl,how ='outer',on ='id',)"
   ]
  },
  {
   "cell_type": "code",
   "execution_count": 5,
   "metadata": {
    "collapsed": false
   },
   "outputs": [
    {
     "data": {
      "text/plain": [
       "Index([u'id', u'amount_tsh', u'date_recorded', u'funder', u'gps_height',\n",
       "       u'installer', u'longitude', u'latitude', u'wpt_name', u'num_private',\n",
       "       u'basin', u'subvillage', u'region', u'region_code', u'district_code',\n",
       "       u'lga', u'ward', u'population', u'public_meeting', u'recorded_by',\n",
       "       u'scheme_management', u'scheme_name', u'permit', u'construction_year',\n",
       "       u'extraction_type', u'extraction_type_group', u'extraction_type_class',\n",
       "       u'management', u'management_group', u'payment', u'payment_type',\n",
       "       u'water_quality', u'quality_group', u'quantity', u'quantity_group',\n",
       "       u'source', u'source_type', u'source_class', u'waterpoint_type',\n",
       "       u'waterpoint_type_group', u'status_group'],\n",
       "      dtype='object')"
      ]
     },
     "execution_count": 5,
     "metadata": {},
     "output_type": "execute_result"
    }
   ],
   "source": [
    "data.columns"
   ]
  },
  {
   "cell_type": "code",
   "execution_count": 6,
   "metadata": {
    "collapsed": false
   },
   "outputs": [
    {
     "data": {
      "text/plain": [
       "(59400, 41)"
      ]
     },
     "execution_count": 6,
     "metadata": {},
     "output_type": "execute_result"
    }
   ],
   "source": [
    "data.shape"
   ]
  },
  {
   "cell_type": "code",
   "execution_count": 7,
   "metadata": {
    "collapsed": true
   },
   "outputs": [],
   "source": [
    "X = pd.read_csv('training_cleaned_data')\n",
    "y = data['status_group']"
   ]
  },
  {
   "cell_type": "code",
   "execution_count": 11,
   "metadata": {
    "collapsed": false
   },
   "outputs": [
    {
     "name": "stdout",
     "output_type": "stream",
     "text": [
      "Data:  (59400, 41)\n",
      "X_Train:  (41580, 27)\n",
      "X_Test:  (17820, 27)\n",
      "y_Train:  (41580,)\n",
      "y_Test: :  (17820,)\n"
     ]
    }
   ],
   "source": [
    "X_train, X_test, y_train, y_test = train_test_split(X, y, test_size=0.3)\n",
    "\n",
    "print \"Data: \", data.shape\n",
    "print \"X_Train: \", X_train.shape\n",
    "print \"X_Test: \", X_test.shape\n",
    "print \"y_Train: \", y_train.shape\n",
    "print \"y_Test: : \", y_test.shape"
   ]
  },
  {
   "cell_type": "code",
   "execution_count": 15,
   "metadata": {
    "collapsed": true
   },
   "outputs": [],
   "source": [
    "rc  = RandomForestClassifier()"
   ]
  },
  {
   "cell_type": "code",
   "execution_count": 22,
   "metadata": {
    "collapsed": false
   },
   "outputs": [],
   "source": [
    "params = {\n",
    "    'n_estimators': [200,300,400],\n",
    "    'max_features': ['auto', 'sqrt', 'log2'],\n",
    "    'max_depth': [20,30,40]\n",
    "}"
   ]
  },
  {
   "cell_type": "code",
   "execution_count": 23,
   "metadata": {
    "collapsed": false
   },
   "outputs": [],
   "source": [
    "gs = GridSearchCV(estimator=rc, param_grid=params,verbose = 10)"
   ]
  },
  {
   "cell_type": "code",
   "execution_count": 24,
   "metadata": {
    "collapsed": false
   },
   "outputs": [
    {
     "name": "stdout",
     "output_type": "stream",
     "text": [
      "Fitting 3 folds for each of 27 candidates, totalling 81 fits\n",
      "[CV] max_features=auto, n_estimators=200, max_depth=20 ...............\n",
      "[CV]  max_features=auto, n_estimators=200, max_depth=20, score=0.795902 -  11.3s\n",
      "[CV] max_features=auto, n_estimators=200, max_depth=20 ...............\n"
     ]
    },
    {
     "name": "stderr",
     "output_type": "stream",
     "text": [
      "[Parallel(n_jobs=1)]: Done   1 out of   1 | elapsed:   11.3s remaining:    0.0s\n"
     ]
    },
    {
     "name": "stdout",
     "output_type": "stream",
     "text": [
      "[CV]  max_features=auto, n_estimators=200, max_depth=20, score=0.799711 -  11.0s\n",
      "[CV] max_features=auto, n_estimators=200, max_depth=20 ...............\n"
     ]
    },
    {
     "name": "stderr",
     "output_type": "stream",
     "text": [
      "[Parallel(n_jobs=1)]: Done   2 out of   2 | elapsed:   22.3s remaining:    0.0s\n"
     ]
    },
    {
     "name": "stdout",
     "output_type": "stream",
     "text": [
      "[CV]  max_features=auto, n_estimators=200, max_depth=20, score=0.796522 -  11.3s\n",
      "[CV] max_features=auto, n_estimators=300, max_depth=20 ...............\n"
     ]
    },
    {
     "name": "stderr",
     "output_type": "stream",
     "text": [
      "[Parallel(n_jobs=1)]: Done   3 out of   3 | elapsed:   33.6s remaining:    0.0s\n"
     ]
    },
    {
     "name": "stdout",
     "output_type": "stream",
     "text": [
      "[CV]  max_features=auto, n_estimators=300, max_depth=20, score=0.796984 -  16.4s\n",
      "[CV] max_features=auto, n_estimators=300, max_depth=20 ...............\n"
     ]
    },
    {
     "name": "stderr",
     "output_type": "stream",
     "text": [
      "[Parallel(n_jobs=1)]: Done   4 out of   4 | elapsed:   50.0s remaining:    0.0s\n"
     ]
    },
    {
     "name": "stdout",
     "output_type": "stream",
     "text": [
      "[CV]  max_features=auto, n_estimators=300, max_depth=20, score=0.800866 -  17.1s\n",
      "[CV] max_features=auto, n_estimators=300, max_depth=20 ...............\n"
     ]
    },
    {
     "name": "stderr",
     "output_type": "stream",
     "text": [
      "[Parallel(n_jobs=1)]: Done   5 out of   5 | elapsed:  1.1min remaining:    0.0s\n"
     ]
    },
    {
     "name": "stdout",
     "output_type": "stream",
     "text": [
      "[CV]  max_features=auto, n_estimators=300, max_depth=20, score=0.797749 -  16.5s\n",
      "[CV] max_features=auto, n_estimators=400, max_depth=20 ...............\n"
     ]
    },
    {
     "name": "stderr",
     "output_type": "stream",
     "text": [
      "[Parallel(n_jobs=1)]: Done   6 out of   6 | elapsed:  1.4min remaining:    0.0s\n"
     ]
    },
    {
     "name": "stdout",
     "output_type": "stream",
     "text": [
      "[CV]  max_features=auto, n_estimators=400, max_depth=20, score=0.794892 -  22.9s\n",
      "[CV] max_features=auto, n_estimators=400, max_depth=20 ...............\n"
     ]
    },
    {
     "name": "stderr",
     "output_type": "stream",
     "text": [
      "[Parallel(n_jobs=1)]: Done   7 out of   7 | elapsed:  1.8min remaining:    0.0s\n"
     ]
    },
    {
     "name": "stdout",
     "output_type": "stream",
     "text": [
      "[CV]  max_features=auto, n_estimators=400, max_depth=20, score=0.802020 -  24.1s\n",
      "[CV] max_features=auto, n_estimators=400, max_depth=20 ...............\n"
     ]
    },
    {
     "name": "stderr",
     "output_type": "stream",
     "text": [
      "[Parallel(n_jobs=1)]: Done   8 out of   8 | elapsed:  2.2min remaining:    0.0s\n"
     ]
    },
    {
     "name": "stdout",
     "output_type": "stream",
     "text": [
      "[CV]  max_features=auto, n_estimators=400, max_depth=20, score=0.796594 -  22.6s\n",
      "[CV] max_features=sqrt, n_estimators=200, max_depth=20 ...............\n"
     ]
    },
    {
     "name": "stderr",
     "output_type": "stream",
     "text": [
      "[Parallel(n_jobs=1)]: Done   9 out of   9 | elapsed:  2.6min remaining:    0.0s\n"
     ]
    },
    {
     "name": "stdout",
     "output_type": "stream",
     "text": [
      "[CV]  max_features=sqrt, n_estimators=200, max_depth=20, score=0.795397 -  11.8s\n",
      "[CV] max_features=sqrt, n_estimators=200, max_depth=20 ...............\n",
      "[CV]  max_features=sqrt, n_estimators=200, max_depth=20, score=0.803608 -  11.7s\n",
      "[CV] max_features=sqrt, n_estimators=200, max_depth=20 ...............\n",
      "[CV]  max_features=sqrt, n_estimators=200, max_depth=20, score=0.796161 -  11.7s\n",
      "[CV] max_features=sqrt, n_estimators=300, max_depth=20 ...............\n",
      "[CV]  max_features=sqrt, n_estimators=300, max_depth=20, score=0.796984 -  16.8s\n",
      "[CV] max_features=sqrt, n_estimators=300, max_depth=20 ...............\n",
      "[CV]  max_features=sqrt, n_estimators=300, max_depth=20, score=0.800289 -  16.7s\n",
      "[CV] max_features=sqrt, n_estimators=300, max_depth=20 ...............\n",
      "[CV]  max_features=sqrt, n_estimators=300, max_depth=20, score=0.796089 -  16.6s\n",
      "[CV] max_features=sqrt, n_estimators=400, max_depth=20 ...............\n",
      "[CV]  max_features=sqrt, n_estimators=400, max_depth=20, score=0.796263 -  21.9s\n",
      "[CV] max_features=sqrt, n_estimators=400, max_depth=20 ...............\n",
      "[CV]  max_features=sqrt, n_estimators=400, max_depth=20, score=0.802309 -  21.8s\n",
      "[CV] max_features=sqrt, n_estimators=400, max_depth=20 ...............\n",
      "[CV]  max_features=sqrt, n_estimators=400, max_depth=20, score=0.797965 -  23.3s\n",
      "[CV] max_features=log2, n_estimators=200, max_depth=20 ...............\n",
      "[CV]  max_features=log2, n_estimators=200, max_depth=20, score=0.796696 -   9.4s\n",
      "[CV] max_features=log2, n_estimators=200, max_depth=20 ...............\n",
      "[CV]  max_features=log2, n_estimators=200, max_depth=20, score=0.799062 -   9.7s\n",
      "[CV] max_features=log2, n_estimators=200, max_depth=20 ...............\n",
      "[CV]  max_features=log2, n_estimators=200, max_depth=20, score=0.797027 -  10.1s\n",
      "[CV] max_features=log2, n_estimators=300, max_depth=20 ...............\n",
      "[CV]  max_features=log2, n_estimators=300, max_depth=20, score=0.795830 -  14.8s\n",
      "[CV] max_features=log2, n_estimators=300, max_depth=20 ...............\n",
      "[CV]  max_features=log2, n_estimators=300, max_depth=20, score=0.800866 -  14.6s\n",
      "[CV] max_features=log2, n_estimators=300, max_depth=20 ...............\n",
      "[CV]  max_features=log2, n_estimators=300, max_depth=20, score=0.798182 -  14.1s\n",
      "[CV] max_features=log2, n_estimators=400, max_depth=20 ...............\n",
      "[CV]  max_features=log2, n_estimators=400, max_depth=20, score=0.796840 -  20.2s\n",
      "[CV] max_features=log2, n_estimators=400, max_depth=20 ...............\n",
      "[CV]  max_features=log2, n_estimators=400, max_depth=20, score=0.800722 -  19.0s\n",
      "[CV] max_features=log2, n_estimators=400, max_depth=20 ...............\n",
      "[CV]  max_features=log2, n_estimators=400, max_depth=20, score=0.797604 -  21.2s\n",
      "[CV] max_features=auto, n_estimators=200, max_depth=30 ...............\n",
      "[CV]  max_features=auto, n_estimators=200, max_depth=30, score=0.796119 -  13.0s\n",
      "[CV] max_features=auto, n_estimators=200, max_depth=30 ...............\n",
      "[CV]  max_features=auto, n_estimators=200, max_depth=30, score=0.799134 -  12.2s\n",
      "[CV] max_features=auto, n_estimators=200, max_depth=30 ...............\n",
      "[CV]  max_features=auto, n_estimators=200, max_depth=30, score=0.794935 -  14.5s\n",
      "[CV] max_features=auto, n_estimators=300, max_depth=30 ...............\n",
      "[CV]  max_features=auto, n_estimators=300, max_depth=30, score=0.795614 -  18.8s\n",
      "[CV] max_features=auto, n_estimators=300, max_depth=30 ...............\n",
      "[CV]  max_features=auto, n_estimators=300, max_depth=30, score=0.799639 -  19.0s\n",
      "[CV] max_features=auto, n_estimators=300, max_depth=30 ...............\n",
      "[CV]  max_features=auto, n_estimators=300, max_depth=30, score=0.797099 -  19.2s\n",
      "[CV] max_features=auto, n_estimators=400, max_depth=30 ...............\n",
      "[CV]  max_features=auto, n_estimators=400, max_depth=30, score=0.795758 -  25.6s\n",
      "[CV] max_features=auto, n_estimators=400, max_depth=30 ...............\n",
      "[CV]  max_features=auto, n_estimators=400, max_depth=30, score=0.799856 -  25.0s\n",
      "[CV] max_features=auto, n_estimators=400, max_depth=30 ...............\n",
      "[CV]  max_features=auto, n_estimators=400, max_depth=30, score=0.797099 -  23.6s\n",
      "[CV] max_features=sqrt, n_estimators=200, max_depth=30 ...............\n",
      "[CV]  max_features=sqrt, n_estimators=200, max_depth=30, score=0.794459 -  11.8s\n",
      "[CV] max_features=sqrt, n_estimators=200, max_depth=30 ...............\n",
      "[CV]  max_features=sqrt, n_estimators=200, max_depth=30, score=0.799062 -  11.8s\n",
      "[CV] max_features=sqrt, n_estimators=200, max_depth=30 ...............\n",
      "[CV]  max_features=sqrt, n_estimators=200, max_depth=30, score=0.795945 -  11.7s\n",
      "[CV] max_features=sqrt, n_estimators=300, max_depth=30 ...............\n",
      "[CV]  max_features=sqrt, n_estimators=300, max_depth=30, score=0.795614 -  18.2s\n",
      "[CV] max_features=sqrt, n_estimators=300, max_depth=30 ...............\n",
      "[CV]  max_features=sqrt, n_estimators=300, max_depth=30, score=0.798846 -  17.8s\n",
      "[CV] max_features=sqrt, n_estimators=300, max_depth=30 ...............\n",
      "[CV]  max_features=sqrt, n_estimators=300, max_depth=30, score=0.795945 -  19.1s\n",
      "[CV] max_features=sqrt, n_estimators=400, max_depth=30 ...............\n",
      "[CV]  max_features=sqrt, n_estimators=400, max_depth=30, score=0.796479 -  26.6s\n",
      "[CV] max_features=sqrt, n_estimators=400, max_depth=30 ...............\n",
      "[CV]  max_features=sqrt, n_estimators=400, max_depth=30, score=0.800433 -  27.1s\n",
      "[CV] max_features=sqrt, n_estimators=400, max_depth=30 ...............\n",
      "[CV]  max_features=sqrt, n_estimators=400, max_depth=30, score=0.796955 -  26.5s\n",
      "[CV] max_features=log2, n_estimators=200, max_depth=30 ...............\n",
      "[CV]  max_features=log2, n_estimators=200, max_depth=30, score=0.796551 -  10.4s\n",
      "[CV] max_features=log2, n_estimators=200, max_depth=30 ...............\n",
      "[CV]  max_features=log2, n_estimators=200, max_depth=30, score=0.798268 -  11.0s\n",
      "[CV] max_features=log2, n_estimators=200, max_depth=30 ...............\n",
      "[CV]  max_features=log2, n_estimators=200, max_depth=30, score=0.797244 -  11.8s\n",
      "[CV] max_features=log2, n_estimators=300, max_depth=30 ...............\n",
      "[CV]  max_features=log2, n_estimators=300, max_depth=30, score=0.795181 -  16.2s\n",
      "[CV] max_features=log2, n_estimators=300, max_depth=30 ...............\n",
      "[CV]  max_features=log2, n_estimators=300, max_depth=30, score=0.799784 -  15.9s\n",
      "[CV] max_features=log2, n_estimators=300, max_depth=30 ...............\n",
      "[CV]  max_features=log2, n_estimators=300, max_depth=30, score=0.795007 -  16.7s\n",
      "[CV] max_features=log2, n_estimators=400, max_depth=30 ...............\n",
      "[CV]  max_features=log2, n_estimators=400, max_depth=30, score=0.795830 -  22.9s\n",
      "[CV] max_features=log2, n_estimators=400, max_depth=30 ...............\n",
      "[CV]  max_features=log2, n_estimators=400, max_depth=30, score=0.799423 -  21.7s\n",
      "[CV] max_features=log2, n_estimators=400, max_depth=30 ...............\n",
      "[CV]  max_features=log2, n_estimators=400, max_depth=30, score=0.796955 -  20.9s\n",
      "[CV] max_features=auto, n_estimators=200, max_depth=40 ...............\n",
      "[CV]  max_features=auto, n_estimators=200, max_depth=40, score=0.794315 -  12.1s\n",
      "[CV] max_features=auto, n_estimators=200, max_depth=40 ...............\n",
      "[CV]  max_features=auto, n_estimators=200, max_depth=40, score=0.799495 -  12.4s\n",
      "[CV] max_features=auto, n_estimators=200, max_depth=40 ...............\n",
      "[CV]  max_features=auto, n_estimators=200, max_depth=40, score=0.795584 -  12.0s\n",
      "[CV] max_features=auto, n_estimators=300, max_depth=40 ...............\n",
      "[CV]  max_features=auto, n_estimators=300, max_depth=40, score=0.793233 -  18.0s\n",
      "[CV] max_features=auto, n_estimators=300, max_depth=40 ...............\n",
      "[CV]  max_features=auto, n_estimators=300, max_depth=40, score=0.797114 -  18.7s\n",
      "[CV] max_features=auto, n_estimators=300, max_depth=40 ...............\n",
      "[CV]  max_features=auto, n_estimators=300, max_depth=40, score=0.796883 -  20.1s\n",
      "[CV] max_features=auto, n_estimators=400, max_depth=40 ...............\n",
      "[CV]  max_features=auto, n_estimators=400, max_depth=40, score=0.796696 -  24.0s\n",
      "[CV] max_features=auto, n_estimators=400, max_depth=40 ...............\n",
      "[CV]  max_features=auto, n_estimators=400, max_depth=40, score=0.797763 -  24.4s\n",
      "[CV] max_features=auto, n_estimators=400, max_depth=40 ...............\n",
      "[CV]  max_features=auto, n_estimators=400, max_depth=40, score=0.795368 -  23.9s\n",
      "[CV] max_features=sqrt, n_estimators=200, max_depth=40 ...............\n",
      "[CV]  max_features=sqrt, n_estimators=200, max_depth=40, score=0.792584 -  12.0s\n",
      "[CV] max_features=sqrt, n_estimators=200, max_depth=40 ...............\n",
      "[CV]  max_features=sqrt, n_estimators=200, max_depth=40, score=0.798629 -  13.1s\n",
      "[CV] max_features=sqrt, n_estimators=200, max_depth=40 ...............\n",
      "[CV]  max_features=sqrt, n_estimators=200, max_depth=40, score=0.795440 -  12.1s\n",
      "[CV] max_features=sqrt, n_estimators=300, max_depth=40 ...............\n",
      "[CV]  max_features=sqrt, n_estimators=300, max_depth=40, score=0.795686 -  19.0s\n",
      "[CV] max_features=sqrt, n_estimators=300, max_depth=40 ...............\n",
      "[CV]  max_features=sqrt, n_estimators=300, max_depth=40, score=0.798990 -  21.6s\n",
      "[CV] max_features=sqrt, n_estimators=300, max_depth=40 ...............\n",
      "[CV]  max_features=sqrt, n_estimators=300, max_depth=40, score=0.794790 -  18.8s\n",
      "[CV] max_features=sqrt, n_estimators=400, max_depth=40 ...............\n",
      "[CV]  max_features=sqrt, n_estimators=400, max_depth=40, score=0.794748 -  24.1s\n",
      "[CV] max_features=sqrt, n_estimators=400, max_depth=40 ...............\n",
      "[CV]  max_features=sqrt, n_estimators=400, max_depth=40, score=0.798413 -  23.8s\n",
      "[CV] max_features=sqrt, n_estimators=400, max_depth=40 ...............\n",
      "[CV]  max_features=sqrt, n_estimators=400, max_depth=40, score=0.797316 -  24.9s\n",
      "[CV] max_features=log2, n_estimators=200, max_depth=40 ...............\n",
      "[CV]  max_features=log2, n_estimators=200, max_depth=40, score=0.794387 -  11.0s\n",
      "[CV] max_features=log2, n_estimators=200, max_depth=40 ...............\n",
      "[CV]  max_features=log2, n_estimators=200, max_depth=40, score=0.798052 -  10.8s\n",
      "[CV] max_features=log2, n_estimators=200, max_depth=40 ...............\n",
      "[CV]  max_features=log2, n_estimators=200, max_depth=40, score=0.794718 -  10.2s\n",
      "[CV] max_features=log2, n_estimators=300, max_depth=40 ...............\n",
      "[CV]  max_features=log2, n_estimators=300, max_depth=40, score=0.795541 -  15.3s\n",
      "[CV] max_features=log2, n_estimators=300, max_depth=40 ...............\n",
      "[CV]  max_features=log2, n_estimators=300, max_depth=40, score=0.799423 -  15.3s\n",
      "[CV] max_features=log2, n_estimators=300, max_depth=40 ...............\n",
      "[CV]  max_features=log2, n_estimators=300, max_depth=40, score=0.796594 -  15.5s\n",
      "[CV] max_features=log2, n_estimators=400, max_depth=40 ...............\n",
      "[CV]  max_features=log2, n_estimators=400, max_depth=40, score=0.796335 -  20.5s\n",
      "[CV] max_features=log2, n_estimators=400, max_depth=40 ...............\n",
      "[CV]  max_features=log2, n_estimators=400, max_depth=40, score=0.797330 -  24.7s\n",
      "[CV] max_features=log2, n_estimators=400, max_depth=40 ...............\n",
      "[CV]  max_features=log2, n_estimators=400, max_depth=40, score=0.796450 -  25.5s\n"
     ]
    },
    {
     "name": "stderr",
     "output_type": "stream",
     "text": [
      "[Parallel(n_jobs=1)]: Done  81 out of  81 | elapsed: 23.6min finished\n"
     ]
    }
   ],
   "source": [
    "gs_fit = gs.fit(X_train,y_train)"
   ]
  },
  {
   "cell_type": "code",
   "execution_count": 29,
   "metadata": {
    "collapsed": true
   },
   "outputs": [],
   "source": [
    "# In manual runs below params scored 81.\n",
    "\n",
    "#rc  = RandomForestClassifier(n_estimators=200,max_depth=20,max_features='sqrt')\n"
   ]
  },
  {
   "cell_type": "code",
   "execution_count": 25,
   "metadata": {
    "collapsed": false
   },
   "outputs": [
    {
     "data": {
      "text/plain": [
       "RandomForestClassifier(bootstrap=True, class_weight=None, criterion='gini',\n",
       "            max_depth=20, max_features='sqrt', max_leaf_nodes=None,\n",
       "            min_impurity_split=1e-07, min_samples_leaf=1,\n",
       "            min_samples_split=2, min_weight_fraction_leaf=0.0,\n",
       "            n_estimators=400, n_jobs=1, oob_score=False, random_state=None,\n",
       "            verbose=0, warm_start=False)"
      ]
     },
     "execution_count": 25,
     "metadata": {},
     "output_type": "execute_result"
    }
   ],
   "source": [
    "gs_fit.best_estimator_"
   ]
  },
  {
   "cell_type": "code",
   "execution_count": 26,
   "metadata": {
    "collapsed": false
   },
   "outputs": [
    {
     "data": {
      "text/plain": [
       "{'max_depth': 20, 'max_features': 'sqrt', 'n_estimators': 400}"
      ]
     },
     "execution_count": 26,
     "metadata": {},
     "output_type": "execute_result"
    }
   ],
   "source": [
    "gs_fit.best_params_"
   ]
  },
  {
   "cell_type": "code",
   "execution_count": 27,
   "metadata": {
    "collapsed": false
   },
   "outputs": [
    {
     "data": {
      "text/plain": [
       "0.7988455988455988"
      ]
     },
     "execution_count": 27,
     "metadata": {},
     "output_type": "execute_result"
    }
   ],
   "source": [
    "gs_fit.best_score_"
   ]
  },
  {
   "cell_type": "code",
   "execution_count": 14,
   "metadata": {
    "collapsed": false
   },
   "outputs": [
    {
     "name": "stdout",
     "output_type": "stream",
     "text": [
      "             precision    recall  f1-score   support\n",
      "\n",
      "          0       0.79      0.91      0.85      9662\n",
      "          1       0.64      0.27      0.38      1290\n",
      "          2       0.85      0.77      0.81      6868\n",
      "\n",
      "avg / total       0.81      0.81      0.80     17820\n",
      "\n",
      "\n",
      "[[8807  136  719]\n",
      " [ 747  352  191]\n",
      " [1524   66 5278]]\n",
      "\n",
      "0.810157126824\n"
     ]
    },
    {
     "name": "stderr",
     "output_type": "stream",
     "text": [
      "/Users/rakesh/Library/Python/2.7/lib/python/site-packages/numpy/core/fromnumeric.py:2699: VisibleDeprecationWarning: `rank` is deprecated; use the `ndim` attribute or function instead. To find the rank of a matrix see `numpy.linalg.matrix_rank`.\n",
      "  VisibleDeprecationWarning)\n"
     ]
    }
   ],
   "source": [
    "print(classification_report(y_test,pred))\n",
    "print \"\"\n",
    "print(confusion_matrix(y_test,pred))\n",
    "print \"\"\n",
    "print(accuracy_score(y_test, pred))\n"
   ]
  },
  {
   "cell_type": "code",
   "execution_count": null,
   "metadata": {
    "collapsed": true
   },
   "outputs": [],
   "source": []
  }
 ],
 "metadata": {
  "kernelspec": {
   "display_name": "Python 2",
   "language": "python",
   "name": "python2"
  },
  "language_info": {
   "codemirror_mode": {
    "name": "ipython",
    "version": 2
   },
   "file_extension": ".py",
   "mimetype": "text/x-python",
   "name": "python",
   "nbconvert_exporter": "python",
   "pygments_lexer": "ipython2",
   "version": "2.7.10"
  }
 },
 "nbformat": 4,
 "nbformat_minor": 2
}
