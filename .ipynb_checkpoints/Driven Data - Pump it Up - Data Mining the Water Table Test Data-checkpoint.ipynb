{
 "cells": [
  {
   "cell_type": "code",
   "execution_count": 1,
   "metadata": {
    "collapsed": false
   },
   "outputs": [],
   "source": [
    "import pandas as pd\n",
    "import numpy as np\n",
    "\n",
    "import pickle\n",
    "\n",
    "from sklearn.preprocessing import LabelEncoder\n",
    "from sklearn.preprocessing import StandardScaler"
   ]
  },
  {
   "cell_type": "code",
   "execution_count": 2,
   "metadata": {
    "collapsed": true
   },
   "outputs": [],
   "source": [
    "data = pd.read_csv('test set values.csv')"
   ]
  },
  {
   "cell_type": "code",
   "execution_count": 3,
   "metadata": {
    "collapsed": false
   },
   "outputs": [
    {
     "data": {
      "text/plain": [
       "Index([u'id', u'amount_tsh', u'date_recorded', u'funder', u'gps_height',\n",
       "       u'installer', u'longitude', u'latitude', u'wpt_name', u'num_private',\n",
       "       u'basin', u'subvillage', u'region', u'region_code', u'district_code',\n",
       "       u'lga', u'ward', u'population', u'public_meeting', u'recorded_by',\n",
       "       u'scheme_management', u'scheme_name', u'permit', u'construction_year',\n",
       "       u'extraction_type', u'extraction_type_group', u'extraction_type_class',\n",
       "       u'management', u'management_group', u'payment', u'payment_type',\n",
       "       u'water_quality', u'quality_group', u'quantity', u'quantity_group',\n",
       "       u'source', u'source_type', u'source_class', u'waterpoint_type',\n",
       "       u'waterpoint_type_group'],\n",
       "      dtype='object')"
      ]
     },
     "execution_count": 3,
     "metadata": {},
     "output_type": "execute_result"
    }
   ],
   "source": [
    "data.columns"
   ]
  },
  {
   "cell_type": "code",
   "execution_count": 4,
   "metadata": {
    "collapsed": false
   },
   "outputs": [
    {
     "name": "stdout",
     "output_type": "stream",
     "text": [
      "<class 'pandas.core.frame.DataFrame'>\n",
      "RangeIndex: 14850 entries, 0 to 14849\n",
      "Data columns (total 40 columns):\n",
      "id                       14850 non-null int64\n",
      "amount_tsh               14850 non-null float64\n",
      "date_recorded            14850 non-null object\n",
      "funder                   13981 non-null object\n",
      "gps_height               14850 non-null int64\n",
      "installer                13973 non-null object\n",
      "longitude                14850 non-null float64\n",
      "latitude                 14850 non-null float64\n",
      "wpt_name                 14850 non-null object\n",
      "num_private              14850 non-null int64\n",
      "basin                    14850 non-null object\n",
      "subvillage               14751 non-null object\n",
      "region                   14850 non-null object\n",
      "region_code              14850 non-null int64\n",
      "district_code            14850 non-null int64\n",
      "lga                      14850 non-null object\n",
      "ward                     14850 non-null object\n",
      "population               14850 non-null int64\n",
      "public_meeting           14029 non-null object\n",
      "recorded_by              14850 non-null object\n",
      "scheme_management        13881 non-null object\n",
      "scheme_name              7758 non-null object\n",
      "permit                   14113 non-null object\n",
      "construction_year        14850 non-null int64\n",
      "extraction_type          14850 non-null object\n",
      "extraction_type_group    14850 non-null object\n",
      "extraction_type_class    14850 non-null object\n",
      "management               14850 non-null object\n",
      "management_group         14850 non-null object\n",
      "payment                  14850 non-null object\n",
      "payment_type             14850 non-null object\n",
      "water_quality            14850 non-null object\n",
      "quality_group            14850 non-null object\n",
      "quantity                 14850 non-null object\n",
      "quantity_group           14850 non-null object\n",
      "source                   14850 non-null object\n",
      "source_type              14850 non-null object\n",
      "source_class             14850 non-null object\n",
      "waterpoint_type          14850 non-null object\n",
      "waterpoint_type_group    14850 non-null object\n",
      "dtypes: float64(3), int64(7), object(30)\n",
      "memory usage: 4.5+ MB\n"
     ]
    }
   ],
   "source": [
    "data.info()"
   ]
  },
  {
   "cell_type": "code",
   "execution_count": 5,
   "metadata": {
    "collapsed": false,
    "scrolled": true
   },
   "outputs": [
    {
     "data": {
      "text/html": [
       "<div>\n",
       "<table border=\"1\" class=\"dataframe\">\n",
       "  <thead>\n",
       "    <tr style=\"text-align: right;\">\n",
       "      <th></th>\n",
       "      <th>id</th>\n",
       "      <th>amount_tsh</th>\n",
       "      <th>date_recorded</th>\n",
       "      <th>funder</th>\n",
       "      <th>gps_height</th>\n",
       "      <th>installer</th>\n",
       "      <th>longitude</th>\n",
       "      <th>latitude</th>\n",
       "      <th>wpt_name</th>\n",
       "      <th>num_private</th>\n",
       "      <th>...</th>\n",
       "      <th>payment_type</th>\n",
       "      <th>water_quality</th>\n",
       "      <th>quality_group</th>\n",
       "      <th>quantity</th>\n",
       "      <th>quantity_group</th>\n",
       "      <th>source</th>\n",
       "      <th>source_type</th>\n",
       "      <th>source_class</th>\n",
       "      <th>waterpoint_type</th>\n",
       "      <th>waterpoint_type_group</th>\n",
       "    </tr>\n",
       "  </thead>\n",
       "  <tbody>\n",
       "    <tr>\n",
       "      <th>0</th>\n",
       "      <td>50785</td>\n",
       "      <td>0.0</td>\n",
       "      <td>2013-02-04</td>\n",
       "      <td>Dmdd</td>\n",
       "      <td>1996</td>\n",
       "      <td>DMDD</td>\n",
       "      <td>35.290799</td>\n",
       "      <td>-4.059696</td>\n",
       "      <td>Dinamu Secondary School</td>\n",
       "      <td>0</td>\n",
       "      <td>...</td>\n",
       "      <td>never pay</td>\n",
       "      <td>soft</td>\n",
       "      <td>good</td>\n",
       "      <td>seasonal</td>\n",
       "      <td>seasonal</td>\n",
       "      <td>rainwater harvesting</td>\n",
       "      <td>rainwater harvesting</td>\n",
       "      <td>surface</td>\n",
       "      <td>other</td>\n",
       "      <td>other</td>\n",
       "    </tr>\n",
       "    <tr>\n",
       "      <th>1</th>\n",
       "      <td>51630</td>\n",
       "      <td>0.0</td>\n",
       "      <td>2013-02-04</td>\n",
       "      <td>Government Of Tanzania</td>\n",
       "      <td>1569</td>\n",
       "      <td>DWE</td>\n",
       "      <td>36.656709</td>\n",
       "      <td>-3.309214</td>\n",
       "      <td>Kimnyak</td>\n",
       "      <td>0</td>\n",
       "      <td>...</td>\n",
       "      <td>never pay</td>\n",
       "      <td>soft</td>\n",
       "      <td>good</td>\n",
       "      <td>insufficient</td>\n",
       "      <td>insufficient</td>\n",
       "      <td>spring</td>\n",
       "      <td>spring</td>\n",
       "      <td>groundwater</td>\n",
       "      <td>communal standpipe</td>\n",
       "      <td>communal standpipe</td>\n",
       "    </tr>\n",
       "    <tr>\n",
       "      <th>2</th>\n",
       "      <td>17168</td>\n",
       "      <td>0.0</td>\n",
       "      <td>2013-02-01</td>\n",
       "      <td>NaN</td>\n",
       "      <td>1567</td>\n",
       "      <td>NaN</td>\n",
       "      <td>34.767863</td>\n",
       "      <td>-5.004344</td>\n",
       "      <td>Puma Secondary</td>\n",
       "      <td>0</td>\n",
       "      <td>...</td>\n",
       "      <td>never pay</td>\n",
       "      <td>soft</td>\n",
       "      <td>good</td>\n",
       "      <td>insufficient</td>\n",
       "      <td>insufficient</td>\n",
       "      <td>rainwater harvesting</td>\n",
       "      <td>rainwater harvesting</td>\n",
       "      <td>surface</td>\n",
       "      <td>other</td>\n",
       "      <td>other</td>\n",
       "    </tr>\n",
       "    <tr>\n",
       "      <th>3</th>\n",
       "      <td>45559</td>\n",
       "      <td>0.0</td>\n",
       "      <td>2013-01-22</td>\n",
       "      <td>Finn Water</td>\n",
       "      <td>267</td>\n",
       "      <td>FINN WATER</td>\n",
       "      <td>38.058046</td>\n",
       "      <td>-9.418672</td>\n",
       "      <td>Kwa Mzee Pange</td>\n",
       "      <td>0</td>\n",
       "      <td>...</td>\n",
       "      <td>unknown</td>\n",
       "      <td>soft</td>\n",
       "      <td>good</td>\n",
       "      <td>dry</td>\n",
       "      <td>dry</td>\n",
       "      <td>shallow well</td>\n",
       "      <td>shallow well</td>\n",
       "      <td>groundwater</td>\n",
       "      <td>other</td>\n",
       "      <td>other</td>\n",
       "    </tr>\n",
       "    <tr>\n",
       "      <th>4</th>\n",
       "      <td>49871</td>\n",
       "      <td>500.0</td>\n",
       "      <td>2013-03-27</td>\n",
       "      <td>Bruder</td>\n",
       "      <td>1260</td>\n",
       "      <td>BRUDER</td>\n",
       "      <td>35.006123</td>\n",
       "      <td>-10.950412</td>\n",
       "      <td>Kwa Mzee Turuka</td>\n",
       "      <td>0</td>\n",
       "      <td>...</td>\n",
       "      <td>monthly</td>\n",
       "      <td>soft</td>\n",
       "      <td>good</td>\n",
       "      <td>enough</td>\n",
       "      <td>enough</td>\n",
       "      <td>spring</td>\n",
       "      <td>spring</td>\n",
       "      <td>groundwater</td>\n",
       "      <td>communal standpipe</td>\n",
       "      <td>communal standpipe</td>\n",
       "    </tr>\n",
       "  </tbody>\n",
       "</table>\n",
       "<p>5 rows × 40 columns</p>\n",
       "</div>"
      ],
      "text/plain": [
       "      id  amount_tsh date_recorded                  funder  gps_height  \\\n",
       "0  50785         0.0    2013-02-04                    Dmdd        1996   \n",
       "1  51630         0.0    2013-02-04  Government Of Tanzania        1569   \n",
       "2  17168         0.0    2013-02-01                     NaN        1567   \n",
       "3  45559         0.0    2013-01-22              Finn Water         267   \n",
       "4  49871       500.0    2013-03-27                  Bruder        1260   \n",
       "\n",
       "    installer  longitude   latitude                 wpt_name  num_private  \\\n",
       "0        DMDD  35.290799  -4.059696  Dinamu Secondary School            0   \n",
       "1         DWE  36.656709  -3.309214                  Kimnyak            0   \n",
       "2         NaN  34.767863  -5.004344           Puma Secondary            0   \n",
       "3  FINN WATER  38.058046  -9.418672           Kwa Mzee Pange            0   \n",
       "4      BRUDER  35.006123 -10.950412          Kwa Mzee Turuka            0   \n",
       "\n",
       "           ...          payment_type water_quality quality_group  \\\n",
       "0          ...             never pay          soft          good   \n",
       "1          ...             never pay          soft          good   \n",
       "2          ...             never pay          soft          good   \n",
       "3          ...               unknown          soft          good   \n",
       "4          ...               monthly          soft          good   \n",
       "\n",
       "       quantity  quantity_group                source           source_type  \\\n",
       "0      seasonal        seasonal  rainwater harvesting  rainwater harvesting   \n",
       "1  insufficient    insufficient                spring                spring   \n",
       "2  insufficient    insufficient  rainwater harvesting  rainwater harvesting   \n",
       "3           dry             dry          shallow well          shallow well   \n",
       "4        enough          enough                spring                spring   \n",
       "\n",
       "   source_class     waterpoint_type waterpoint_type_group  \n",
       "0       surface               other                 other  \n",
       "1   groundwater  communal standpipe    communal standpipe  \n",
       "2       surface               other                 other  \n",
       "3   groundwater               other                 other  \n",
       "4   groundwater  communal standpipe    communal standpipe  \n",
       "\n",
       "[5 rows x 40 columns]"
      ]
     },
     "execution_count": 5,
     "metadata": {},
     "output_type": "execute_result"
    }
   ],
   "source": [
    "data.head()"
   ]
  },
  {
   "cell_type": "markdown",
   "metadata": {},
   "source": [
    "# Feature Transformation/Engineering"
   ]
  },
  {
   "cell_type": "markdown",
   "metadata": {},
   "source": [
    "# Date Features: date_recorded, construction_year"
   ]
  },
  {
   "cell_type": "code",
   "execution_count": 6,
   "metadata": {
    "collapsed": false
   },
   "outputs": [],
   "source": [
    "# Convert dates from strings\n",
    "data['date_recorded'] = pd.to_datetime(data['date_recorded'])\n",
    "data['construction_year'] = pd.to_datetime(data['construction_year'])"
   ]
  },
  {
   "cell_type": "code",
   "execution_count": 7,
   "metadata": {
    "collapsed": false
   },
   "outputs": [],
   "source": [
    "data['age_of_pump_mnths'] = (data['date_recorded']-data['construction_year'])/np.timedelta64(1, 'Y')"
   ]
  },
  {
   "cell_type": "code",
   "execution_count": 8,
   "metadata": {
    "collapsed": false
   },
   "outputs": [],
   "source": [
    "data.drop('date_recorded',axis = 1, inplace = True)\n",
    "data.drop('construction_year',axis =1, inplace = True)"
   ]
  },
  {
   "cell_type": "markdown",
   "metadata": {},
   "source": [
    "# Geographical Features: longitude, latitude, gps_height,basin, subvillage, region, region_code,district_code,lga,ward."
   ]
  },
  {
   "cell_type": "code",
   "execution_count": 9,
   "metadata": {
    "collapsed": false
   },
   "outputs": [],
   "source": [
    "geo_data = data[['longitude','latitude','gps_height','basin','subvillage',\n",
    "                 'region','region_code','district_code','lga','ward']]"
   ]
  },
  {
   "cell_type": "code",
   "execution_count": 10,
   "metadata": {
    "collapsed": false
   },
   "outputs": [
    {
     "data": {
      "text/plain": [
       "array([[<matplotlib.axes.AxesSubplot object at 0x10af0b150>,\n",
       "        <matplotlib.axes.AxesSubplot object at 0x10d750a50>],\n",
       "       [<matplotlib.axes.AxesSubplot object at 0x10d7d7910>,\n",
       "        <matplotlib.axes.AxesSubplot object at 0x10d83bed0>]], dtype=object)"
      ]
     },
     "execution_count": 10,
     "metadata": {},
     "output_type": "execute_result"
    }
   ],
   "source": [
    "geo_data[['longitude','latitude','gps_height']].hist(figsize = (20,10))"
   ]
  },
  {
   "cell_type": "code",
   "execution_count": 11,
   "metadata": {
    "collapsed": false
   },
   "outputs": [
    {
     "data": {
      "text/plain": [
       "region  region_code  district_code  basin        subvillage           lga      ward       \n",
       "Arusha  2            1              Internal     Arkaria              Monduli  Engutoto       1\n",
       "                                                 Emugurunanyoki       Monduli  Sepeko         1\n",
       "                                                 Engasiti             Monduli  Makuyuni       1\n",
       "                                                 Jangwani             Monduli  Esilalei       1\n",
       "                                                 Lapalasek            Monduli  Engaruka       1\n",
       "                                                 Larmaroro            Monduli  Monduli Juu    1\n",
       "                                                 Losikito             Monduli  Sepeko         1\n",
       "                                                 Losirwa              Monduli  Esilalei       1\n",
       "                                                 Madukani             Monduli  Engaruka       1\n",
       "                                                 Majengo A            Monduli  Esilalei       1\n",
       "                                                 Majengo C            Monduli  Esilalei       1\n",
       "                                                 Makuyuni             Monduli  Makuyuni       2\n",
       "                                                 Mguu Wa Zuberi       Monduli  Sepeko         1\n",
       "                                                 Migombani Juu        Monduli  Esilalei       1\n",
       "                                                 Migungani            Monduli  Esilalei       1\n",
       "                                                 Migungani C          Monduli  Esilalei       1\n",
       "                                                 Nadoosoito           Monduli  Sepeko         1\n",
       "                                                 Naiti                Monduli  Makuyuni       2\n",
       "                                                 Nanja                Monduli  Sepeko         1\n",
       "                                                 Ngoikumeni           Monduli  Sepeko         1\n",
       "                                                 Oldonyonado          Monduli  Engaruka       1\n",
       "                                                 Oloodorkaria         Monduli  Sepeko         1\n",
       "                                                 Oltukay              Monduli  Esilalei       1\n",
       "                                                 Orbukoi              Monduli  Makuyuni       1\n",
       "                                                 Orkolkolu            Monduli  Selela         2\n",
       "                                                 Ormang'Wai           Monduli  Makuyuni       3\n",
       "                                                 Orpuwa               Monduli  Moita          1\n",
       "                                                 Zaburi               Monduli  Makuyuni       1\n",
       "                                    Pangani      Kitosokoine          Monduli  Moita          2\n",
       "                                                 Shuleni              Monduli  Lolkisale      2\n",
       "                                                                                             ..\n",
       "Tanga   4            8              Pangani      Mlimani              Mkinga   Kwale          1\n",
       "                                                 Moa                  Mkinga   Moa            3\n",
       "                                                 Mtakuja A            Mkinga   Daluni         1\n",
       "                                                                               Maramba        1\n",
       "                                                 Mtimbwani A          Mkinga   Mtimbwani      1\n",
       "                                                 Mtundani             Mkinga   Manza          1\n",
       "                                                 Mwaboza              Mkinga   Moa            1\n",
       "                                                 Mwagula              Mkinga   Moa            1\n",
       "                                                 Mwakikonge           Mkinga   Duga           1\n",
       "                                                 Mwambalazi           Mkinga   Mkinga         1\n",
       "                                                 Mwanyumba            Mkinga   Maramba        1\n",
       "                                                 Mwele                Mkinga   Maramba        2\n",
       "                                                 Parungu              Mkinga   Mkinga         1\n",
       "                                                 Salagi               Mkinga   Duga           1\n",
       "                                                 Shule                Mkinga   Maramba        2\n",
       "                                                 Sokoni               Mkinga   Maramba        3\n",
       "                                                                               Moa            1\n",
       "                                                 Stakidawa            Mkinga   Duga           1\n",
       "                                                 Tawalani             Mkinga   Manza          1\n",
       "                                                 Tewe                 Mkinga   Maramba        3\n",
       "                                                 Vyeru                Mkinga   Kwale          1\n",
       "                                                 Zigua A              Mkinga   Maramba        1\n",
       "                                                 Zingibali Secondary  Mkinga   Moa            2\n",
       "        5            1              Wami / Ruvu  Chang'Ombe           Kilindi  Kikunde        1\n",
       "                                                 Chiwaga              Kilindi  Kikunde        1\n",
       "                                                 Dukani               Kilindi  Kikunde        1\n",
       "                                                 Mkuyuni              Kilindi  Kikunde        1\n",
       "                                                 Mkwajuni             Kilindi  Kikunde        1\n",
       "                                                 Sokoni               Kilindi  Kikunde        1\n",
       "                                                 Temeke B             Kilindi  Kikunde        1\n",
       "dtype: int64"
      ]
     },
     "execution_count": 11,
     "metadata": {},
     "output_type": "execute_result"
    }
   ],
   "source": [
    "geo_data.groupby(['region','region_code','district_code','basin','subvillage','lga','ward']).size()"
   ]
  },
  {
   "cell_type": "code",
   "execution_count": 12,
   "metadata": {
    "collapsed": false
   },
   "outputs": [
    {
     "name": "stdout",
     "output_type": "stream",
     "text": [
      "longitude 14390 [ 35.2907992   36.65670893  34.76786315 ...,  34.7398045   35.43273168\n",
      "  34.76505448]\n",
      "\n",
      "latitude 14390 [ -4.05969643  -3.30921425  -5.00434437 ...,  -4.58558667 -10.58415869\n",
      " -11.22601197]\n",
      "\n",
      "gps_height 2157 [1996 1569 1567 ..., 1909 2202  640]\n",
      "\n",
      "basin 9 ['Internal' 'Pangani' 'Ruvuma / Southern Coast' 'Rufiji' 'Lake Victoria'\n",
      " 'Lake Tanganyika' 'Wami / Ruvu' 'Lake Rukwa' 'Lake Nyasa']\n",
      "\n",
      "subvillage 8444 ['Magoma' 'Kimnyak' 'Msatu' ..., 'Kipengele' 'Kosoro' 'Kamba']\n",
      "\n",
      "region 21 ['Manyara' 'Arusha' 'Singida' 'Lindi' 'Ruvuma' 'Iringa' 'Mtwara'\n",
      " 'Kilimanjaro' 'Tabora' 'Mwanza' 'Pwani' 'Tanga' 'Shinyanga'\n",
      " 'Dar es Salaam' 'Kigoma' 'Dodoma' 'Morogoro' 'Mbeya' 'Kagera' 'Mara'\n",
      " 'Rukwa']\n",
      "\n",
      "region_code 26 [21  2 13 80 10 11  9 90  3 14 19  6  4 17  7 16  1 24  5 12 99 18 20 15  8\n",
      " 60]\n",
      "\n",
      "district_code 20 [ 3  2 43  7  4 33  5  1  6 30  8 13 63 53 62 23 60 67  0 80]\n",
      "\n",
      "lga 125 ['Mbulu' 'Arusha Rural' 'Singida Rural' 'Liwale' 'Mbinga' 'Kilolo'\n",
      " 'Tandahimba' 'Newala' 'Siha' 'Hai' 'Simanjiro' 'Igunga' 'Kwimba'\n",
      " 'Iringa Rural' 'Songea Rural' 'Mafia' 'Lushoto' 'Bukombe' 'Temeke'\n",
      " 'Njombe' 'Kigoma Rural' 'Maswa' 'Dodoma Urban' 'Bariadi' 'Kiteto' 'Karatu'\n",
      " 'Nzega' 'Uyui' 'Mkinga' 'Mwanga' 'Mvomero' 'Mbeya Rural' 'Mtwara Rural'\n",
      " 'Muheza' 'Shinyanga Rural' 'Same' 'Rungwe' 'Tunduru' 'Kishapu' 'Kilwa'\n",
      " 'Geita' 'Ukerewe' 'Moshi Rural' 'Namtumbo' 'Ngara' 'Tarime' 'Mufindi'\n",
      " 'Ulanga' 'Rombo' 'Magu' 'Kasulu' 'Mbozi' 'Hanang' 'Sumbawanga Rural'\n",
      " 'Bahi' 'Urambo' 'Misenyi' 'Karagwe' 'Meru' 'Bukoba Rural' 'Kondoa'\n",
      " 'Kilosa' 'Kibaha' 'Babati' 'Mpanda' 'Makete' 'Kahama' 'Muleba'\n",
      " 'Tabora Urban' 'Ilala' 'Sumbawanga Urban' 'Morogoro Rural' 'Bagamoyo'\n",
      " 'Ludewa' 'Bunda' 'Ilemela' 'Chamwino' 'Biharamulo' 'Kibondo' 'Missungwi'\n",
      " 'Bukoba Urban' 'Nanyumbu' 'Meatu' 'Pangani' 'Chunya' 'Masasi' 'Nachingwea'\n",
      " 'Iramba' 'Musoma Rural' 'Korogwe' 'Moshi Urban' 'Kongwa' 'Kilindi'\n",
      " 'Rufiji' 'Singida Urban' 'Lindi Rural' 'Chato' 'Longido' 'Shinyanga Urban'\n",
      " 'Mbarali' 'Nkasi' 'Mpwapwa' 'Monduli' 'Kilombero' 'Ruangwa' 'Sikonge'\n",
      " 'Rorya' 'Handeni' 'Serengeti' 'Arusha Urban' 'Mtwara Urban' 'Kyela'\n",
      " 'Sengerema' 'Manyoni' 'Ileje' 'Kinondoni' 'Ngorongoro' 'Mkuranga'\n",
      " 'Morogoro Urban' 'Kisarawe' 'Tanga' 'Kigoma Urban' 'Songea Urban'\n",
      " 'Nyamagana' 'Lindi Urban']\n",
      "\n",
      "ward 1959 ['Bashay' 'Kimnyaki' 'Puma' ..., 'Nsemulwa' 'Kikubiji' 'Idifu']\n",
      "\n"
     ]
    }
   ],
   "source": [
    "for i in geo_data.columns:\n",
    "    print i,len(geo_data[i].unique()),geo_data[i].unique()\n",
    "    print \"\""
   ]
  },
  {
   "cell_type": "code",
   "execution_count": 13,
   "metadata": {
    "collapsed": false
   },
   "outputs": [
    {
     "name": "stdout",
     "output_type": "stream",
     "text": [
      "<class 'pandas.core.frame.DataFrame'>\n",
      "RangeIndex: 14850 entries, 0 to 14849\n",
      "Data columns (total 10 columns):\n",
      "longitude        14850 non-null float64\n",
      "latitude         14850 non-null float64\n",
      "gps_height       14850 non-null int64\n",
      "basin            14850 non-null object\n",
      "subvillage       14751 non-null object\n",
      "region           14850 non-null object\n",
      "region_code      14850 non-null int64\n",
      "district_code    14850 non-null int64\n",
      "lga              14850 non-null object\n",
      "ward             14850 non-null object\n",
      "dtypes: float64(2), int64(3), object(5)\n",
      "memory usage: 1.1+ MB\n"
     ]
    }
   ],
   "source": [
    "geo_data.info()"
   ]
  },
  {
   "cell_type": "markdown",
   "metadata": {},
   "source": [
    "Looking at the data above, for initial attempt we will;\n",
    "1. Impute Longitude,Latitude and GPS Height by mean\n",
    "2. For remaining features will encode the values individually."
   ]
  },
  {
   "cell_type": "code",
   "execution_count": 14,
   "metadata": {
    "collapsed": true
   },
   "outputs": [],
   "source": [
    "mean_imputation = ['longitude','latitude','gps_height']\n",
    "label_encode = ['basin','subvillage','region','region_code','district_code','lga','ward']"
   ]
  },
  {
   "cell_type": "code",
   "execution_count": 15,
   "metadata": {
    "collapsed": false
   },
   "outputs": [],
   "source": [
    "def geo_feat_eng(df):\n",
    "    le = LabelEncoder()\n",
    "    for i in df.columns:\n",
    "        print \"\"\n",
    "        print \"Picked up Feature: \"+i\n",
    "        if i in mean_imputation:\n",
    "            df[i].replace(0, np.nan, inplace=True)\n",
    "            df[i].fillna(df[i].mean(),inplace = True)\n",
    "            print \"Imputed mean for Feature: \"+i\n",
    "        elif i in label_encode:\n",
    "            le.fit(df[i])\n",
    "            print \"Fitting LabelEncoder on Feature: \"+i\n",
    "            df[i] = le.transform(df[i])\n",
    "            print \"Transformed Feature: \"+i\n",
    "        else:\n",
    "            print \"Ignored, Out of scope\"\n",
    "    return df.dtypes"
   ]
  },
  {
   "cell_type": "code",
   "execution_count": 16,
   "metadata": {
    "collapsed": false
   },
   "outputs": [
    {
     "name": "stdout",
     "output_type": "stream",
     "text": [
      "\n",
      "Picked up Feature: id\n",
      "Ignored, Out of scope\n",
      "\n",
      "Picked up Feature: amount_tsh\n",
      "Ignored, Out of scope\n",
      "\n",
      "Picked up Feature: funder\n",
      "Ignored, Out of scope\n",
      "\n",
      "Picked up Feature: gps_height\n",
      "Imputed mean for Feature: gps_height\n",
      "\n",
      "Picked up Feature: installer\n",
      "Ignored, Out of scope\n",
      "\n",
      "Picked up Feature: longitude\n",
      "Imputed mean for Feature: longitude\n",
      "\n",
      "Picked up Feature: latitude\n",
      "Imputed mean for Feature: latitude\n",
      "\n",
      "Picked up Feature: wpt_name\n",
      "Ignored, Out of scope\n",
      "\n",
      "Picked up Feature: num_private\n",
      "Ignored, Out of scope\n",
      "\n",
      "Picked up Feature: basin\n",
      "Fitting LabelEncoder on Feature: basin\n",
      "Transformed Feature: basin\n",
      "\n",
      "Picked up Feature: subvillage\n",
      "Fitting LabelEncoder on Feature: subvillage\n",
      "Transformed Feature: subvillage\n",
      "\n",
      "Picked up Feature: region\n",
      "Fitting LabelEncoder on Feature: region\n",
      "Transformed Feature: region\n",
      "\n",
      "Picked up Feature: region_code\n",
      "Fitting LabelEncoder on Feature: region_code\n",
      "Transformed Feature: region_code\n",
      "\n",
      "Picked up Feature: district_code\n",
      "Fitting LabelEncoder on Feature: district_code\n",
      "Transformed Feature: district_code\n",
      "\n",
      "Picked up Feature: lga\n",
      "Fitting LabelEncoder on Feature: lga\n",
      "Transformed Feature: lga\n",
      "\n",
      "Picked up Feature: ward\n",
      "Fitting LabelEncoder on Feature: ward\n",
      "Transformed Feature: ward\n",
      "\n",
      "Picked up Feature: population\n",
      "Ignored, Out of scope\n",
      "\n",
      "Picked up Feature: public_meeting\n",
      "Ignored, Out of scope\n",
      "\n",
      "Picked up Feature: recorded_by\n",
      "Ignored, Out of scope\n",
      "\n",
      "Picked up Feature: scheme_management\n",
      "Ignored, Out of scope\n",
      "\n",
      "Picked up Feature: scheme_name\n",
      "Ignored, Out of scope\n",
      "\n",
      "Picked up Feature: permit\n",
      "Ignored, Out of scope\n",
      "\n",
      "Picked up Feature: extraction_type\n",
      "Ignored, Out of scope\n",
      "\n",
      "Picked up Feature: extraction_type_group\n",
      "Ignored, Out of scope\n",
      "\n",
      "Picked up Feature: extraction_type_class\n",
      "Ignored, Out of scope\n",
      "\n",
      "Picked up Feature: management\n",
      "Ignored, Out of scope\n",
      "\n",
      "Picked up Feature: management_group\n",
      "Ignored, Out of scope\n",
      "\n",
      "Picked up Feature: payment\n",
      "Ignored, Out of scope\n",
      "\n",
      "Picked up Feature: payment_type\n",
      "Ignored, Out of scope\n",
      "\n",
      "Picked up Feature: water_quality\n",
      "Ignored, Out of scope\n",
      "\n",
      "Picked up Feature: quality_group\n",
      "Ignored, Out of scope\n",
      "\n",
      "Picked up Feature: quantity\n",
      "Ignored, Out of scope\n",
      "\n",
      "Picked up Feature: quantity_group\n",
      "Ignored, Out of scope\n",
      "\n",
      "Picked up Feature: source\n",
      "Ignored, Out of scope\n",
      "\n",
      "Picked up Feature: source_type\n",
      "Ignored, Out of scope\n",
      "\n",
      "Picked up Feature: source_class\n",
      "Ignored, Out of scope\n",
      "\n",
      "Picked up Feature: waterpoint_type\n",
      "Ignored, Out of scope\n",
      "\n",
      "Picked up Feature: waterpoint_type_group\n",
      "Ignored, Out of scope\n",
      "\n",
      "Picked up Feature: age_of_pump_mnths\n",
      "Ignored, Out of scope\n"
     ]
    },
    {
     "name": "stderr",
     "output_type": "stream",
     "text": [
      "/Users/rakesh/Library/Python/2.7/lib/python/site-packages/numpy/lib/arraysetops.py:200: FutureWarning: numpy not_equal will not check object identity in the future. The comparison did not return the same result as suggested by the identity (`is`)) and will change.\n",
      "  flag = np.concatenate(([True], aux[1:] != aux[:-1]))\n",
      "/Users/rakesh/Library/Python/2.7/lib/python/site-packages/numpy/lib/arraysetops.py:259: FutureWarning: numpy equal will not check object identity in the future. The comparison did not return the same result as suggested by the identity (`is`)) and will change.\n",
      "  return aux[:-1][aux[1:] == aux[:-1]]\n"
     ]
    },
    {
     "data": {
      "text/plain": [
       "id                         int64\n",
       "amount_tsh               float64\n",
       "funder                    object\n",
       "gps_height               float64\n",
       "installer                 object\n",
       "longitude                float64\n",
       "latitude                 float64\n",
       "wpt_name                  object\n",
       "num_private                int64\n",
       "basin                      int64\n",
       "subvillage                 int64\n",
       "region                     int64\n",
       "region_code                int64\n",
       "district_code              int64\n",
       "lga                        int64\n",
       "ward                       int64\n",
       "population                 int64\n",
       "public_meeting            object\n",
       "recorded_by               object\n",
       "scheme_management         object\n",
       "scheme_name               object\n",
       "permit                    object\n",
       "extraction_type           object\n",
       "extraction_type_group     object\n",
       "extraction_type_class     object\n",
       "management                object\n",
       "management_group          object\n",
       "payment                   object\n",
       "payment_type              object\n",
       "water_quality             object\n",
       "quality_group             object\n",
       "quantity                  object\n",
       "quantity_group            object\n",
       "source                    object\n",
       "source_type               object\n",
       "source_class              object\n",
       "waterpoint_type           object\n",
       "waterpoint_type_group     object\n",
       "age_of_pump_mnths        float64\n",
       "dtype: object"
      ]
     },
     "execution_count": 16,
     "metadata": {},
     "output_type": "execute_result"
    }
   ],
   "source": [
    "geo_feat_eng(data)"
   ]
  },
  {
   "cell_type": "markdown",
   "metadata": {
    "collapsed": true
   },
   "source": [
    "# Remaining Features:"
   ]
  },
  {
   "cell_type": "code",
   "execution_count": 17,
   "metadata": {
    "collapsed": false
   },
   "outputs": [],
   "source": [
    "other_feats = [(i) for i in data.columns if data[i].dtype not in ['int64','float64']]"
   ]
  },
  {
   "cell_type": "code",
   "execution_count": 18,
   "metadata": {
    "collapsed": true
   },
   "outputs": [],
   "source": [
    "remaining_feats = []"
   ]
  },
  {
   "cell_type": "code",
   "execution_count": 19,
   "metadata": {
    "collapsed": false
   },
   "outputs": [
    {
     "name": "stdout",
     "output_type": "stream",
     "text": [
      "24 ['funder', 'installer', 'wpt_name', 'public_meeting', 'recorded_by', 'scheme_management', 'scheme_name', 'permit', 'extraction_type', 'extraction_type_group', 'extraction_type_class', 'management', 'management_group', 'payment', 'payment_type', 'water_quality', 'quality_group', 'quantity', 'quantity_group', 'source', 'source_type', 'source_class', 'waterpoint_type', 'waterpoint_type_group']\n"
     ]
    }
   ],
   "source": [
    "print len(other_feats), other_feats"
   ]
  },
  {
   "cell_type": "code",
   "execution_count": 20,
   "metadata": {
    "collapsed": false
   },
   "outputs": [],
   "source": [
    "# Lets check out features which seem to be repeating but the data might be at a different level.\n",
    "def ret_grouped_view(cols):\n",
    "    lcols = list(cols)\n",
    "    return data.groupby(lcols).size()"
   ]
  },
  {
   "cell_type": "code",
   "execution_count": 21,
   "metadata": {
    "collapsed": false
   },
   "outputs": [],
   "source": [
    "# In scheme_names there were same strings but segregrated in diff groups due to caps, maybe should do this with\n",
    "# everything before encoding.\n",
    "\n",
    "#data['scheme_name'] = data['scheme_name'].str.lower()\n",
    "ret_grouped_view(('scheme_management', 'scheme_name'))\n",
    "#data['scheme_name'].value_counts()\n",
    "\n",
    "# Tried to make sence of scheme names but it doesn't seem to have any logic, hence dropping name and adding\n",
    "# to rem_feat list.\n",
    "\n",
    "data.drop('scheme_name',axis = 1, inplace = True)\n",
    "remaining_feats.append('scheme_management')"
   ]
  },
  {
   "cell_type": "code",
   "execution_count": 22,
   "metadata": {
    "collapsed": false
   },
   "outputs": [
    {
     "data": {
      "text/plain": [
       "extraction_type    extraction_type_group  extraction_type_class\n",
       "afridev            afridev                handpump                  438\n",
       "cemo               other motorpump        motorpump                  18\n",
       "climax             other motorpump        motorpump                   9\n",
       "gravity            gravity                gravity                  6483\n",
       "india mark ii      india mark ii          handpump                  629\n",
       "india mark iii     india mark iii         handpump                   37\n",
       "ksb                submersible            submersible               375\n",
       "mono               mono                   motorpump                 763\n",
       "nira/tanira        nira/tanira            handpump                 2051\n",
       "other              other                  other                    1672\n",
       "other - play pump  other handpump         handpump                   16\n",
       "other - rope pump  rope pump              rope pump                 121\n",
       "other - swn 81     other handpump         handpump                   55\n",
       "submersible        submersible            submersible              1218\n",
       "swn 80             swn 80                 handpump                  918\n",
       "walimi             other handpump         handpump                   12\n",
       "windmill           wind-powered           wind-powered               35\n",
       "dtype: int64"
      ]
     },
     "execution_count": 22,
     "metadata": {},
     "output_type": "execute_result"
    }
   ],
   "source": [
    "ret_grouped_view(('extraction_type', 'extraction_type_group','extraction_type_class'))"
   ]
  },
  {
   "cell_type": "code",
   "execution_count": 23,
   "metadata": {
    "collapsed": true
   },
   "outputs": [],
   "source": [
    "# Dropping ext type and using other two\n",
    "data.drop('extraction_type_group',axis = 1,inplace = True)\n",
    "remaining_feats.append('extraction_type')\n",
    "remaining_feats.append('extraction_type_class')"
   ]
  },
  {
   "cell_type": "code",
   "execution_count": 24,
   "metadata": {
    "collapsed": false
   },
   "outputs": [
    {
     "data": {
      "text/plain": [
       "management        management_group\n",
       "company           commercial            174\n",
       "other             other                 239\n",
       "other - school    other                  27\n",
       "parastatal        parastatal            461\n",
       "private operator  commercial            533\n",
       "trust             commercial             27\n",
       "unknown           unknown               122\n",
       "vwc               user-group          10117\n",
       "water authority   commercial            219\n",
       "water board       user-group            755\n",
       "wua               user-group            583\n",
       "wug               user-group           1593\n",
       "dtype: int64"
      ]
     },
     "execution_count": 24,
     "metadata": {},
     "output_type": "execute_result"
    }
   ],
   "source": [
    "ret_grouped_view(('management', 'management_group'))"
   ]
  },
  {
   "cell_type": "code",
   "execution_count": 25,
   "metadata": {
    "collapsed": true
   },
   "outputs": [],
   "source": [
    "# Dropping mgmt grp\n",
    "data.drop('management_group',axis = 1, inplace=True)\n",
    "remaining_feats.append('management')"
   ]
  },
  {
   "cell_type": "code",
   "execution_count": 26,
   "metadata": {
    "collapsed": false
   },
   "outputs": [
    {
     "data": {
      "text/plain": [
       "water_quality       quality_group\n",
       "coloured            colored            133\n",
       "fluoride            fluoride            44\n",
       "fluoride abandoned  fluoride             6\n",
       "milky               milky              201\n",
       "salty               salty             1226\n",
       "salty abandoned     salty               84\n",
       "soft                good             12687\n",
       "unknown             unknown            469\n",
       "dtype: int64"
      ]
     },
     "execution_count": 26,
     "metadata": {},
     "output_type": "execute_result"
    }
   ],
   "source": [
    "ret_grouped_view(('water_quality', 'quality_group'))"
   ]
  },
  {
   "cell_type": "code",
   "execution_count": 27,
   "metadata": {
    "collapsed": true
   },
   "outputs": [],
   "source": [
    "# Dropping quality_grp\n",
    "data.drop('quality_group',axis = 1, inplace=True)\n",
    "remaining_feats.append('water_quality')"
   ]
  },
  {
   "cell_type": "code",
   "execution_count": 28,
   "metadata": {
    "collapsed": false
   },
   "outputs": [
    {
     "data": {
      "text/plain": [
       "quantity      quantity_group\n",
       "dry           dry               1536\n",
       "enough        enough            8336\n",
       "insufficient  insufficient      3767\n",
       "seasonal      seasonal          1025\n",
       "unknown       unknown            186\n",
       "dtype: int64"
      ]
     },
     "execution_count": 28,
     "metadata": {},
     "output_type": "execute_result"
    }
   ],
   "source": [
    "ret_grouped_view(('quantity', 'quantity_group'))"
   ]
  },
  {
   "cell_type": "code",
   "execution_count": 29,
   "metadata": {
    "collapsed": true
   },
   "outputs": [],
   "source": [
    "# Dropping quantity_group\n",
    "data.drop('quantity_group',axis = 1, inplace=True)\n",
    "remaining_feats.append('quantity')"
   ]
  },
  {
   "cell_type": "code",
   "execution_count": 30,
   "metadata": {
    "collapsed": false
   },
   "outputs": [
    {
     "data": {
      "text/plain": [
       "source                source_type           source_class\n",
       "dam                   dam                   surface          184\n",
       "hand dtw              borehole              groundwater      234\n",
       "lake                  river/lake            surface          185\n",
       "machine dbh           borehole              groundwater     2747\n",
       "other                 other                 unknown           49\n",
       "rainwater harvesting  rainwater harvesting  surface          568\n",
       "river                 river/lake            surface         2352\n",
       "shallow well          shallow well          groundwater     4316\n",
       "spring                spring                groundwater     4195\n",
       "unknown               other                 unknown           20\n",
       "dtype: int64"
      ]
     },
     "execution_count": 30,
     "metadata": {},
     "output_type": "execute_result"
    }
   ],
   "source": [
    "ret_grouped_view(('source', 'source_type', 'source_class'))"
   ]
  },
  {
   "cell_type": "code",
   "execution_count": 31,
   "metadata": {
    "collapsed": true
   },
   "outputs": [],
   "source": [
    "#As source seems to be cleanest using source dropping other two.\n",
    "data.drop('source',inplace=True,axis=1)\n",
    "data.drop('source_type',inplace=True,axis=1)\n",
    "remaining_feats.append('source_class')"
   ]
  },
  {
   "cell_type": "code",
   "execution_count": 32,
   "metadata": {
    "collapsed": false
   },
   "outputs": [
    {
     "data": {
      "text/plain": [
       "waterpoint_type              waterpoint_type_group\n",
       "cattle trough                cattle trough              34\n",
       "communal standpipe           communal standpipe       7106\n",
       "communal standpipe multiple  communal standpipe       1508\n",
       "dam                          dam                         1\n",
       "hand pump                    hand pump                4396\n",
       "improved spring              improved spring           175\n",
       "other                        other                    1630\n",
       "dtype: int64"
      ]
     },
     "execution_count": 32,
     "metadata": {},
     "output_type": "execute_result"
    }
   ],
   "source": [
    "ret_grouped_view(('waterpoint_type', 'waterpoint_type_group'))"
   ]
  },
  {
   "cell_type": "code",
   "execution_count": 33,
   "metadata": {
    "collapsed": true
   },
   "outputs": [],
   "source": [
    "data.drop('waterpoint_type_group',inplace=True,axis=1)\n",
    "remaining_feats.append('waterpoint_type')"
   ]
  },
  {
   "cell_type": "code",
   "execution_count": 34,
   "metadata": {
    "collapsed": false
   },
   "outputs": [
    {
     "data": {
      "text/plain": [
       "payment                payment_type\n",
       "never pay              never pay       6364\n",
       "other                  other            260\n",
       "pay annually           annually         928\n",
       "pay monthly            monthly         2097\n",
       "pay per bucket         per bucket      2281\n",
       "pay when scheme fails  on failure       928\n",
       "unknown                unknown         1992\n",
       "dtype: int64"
      ]
     },
     "execution_count": 34,
     "metadata": {},
     "output_type": "execute_result"
    }
   ],
   "source": [
    "ret_grouped_view(('payment','payment_type'))"
   ]
  },
  {
   "cell_type": "code",
   "execution_count": 35,
   "metadata": {
    "collapsed": true
   },
   "outputs": [],
   "source": [
    "data.drop('payment',inplace=True,axis=1)\n",
    "remaining_feats.append('payment_type')"
   ]
  },
  {
   "cell_type": "code",
   "execution_count": 36,
   "metadata": {
    "collapsed": false
   },
   "outputs": [
    {
     "name": "stdout",
     "output_type": "stream",
     "text": [
      "<class 'pandas.core.frame.DataFrame'>\n",
      "RangeIndex: 14850 entries, 0 to 14849\n",
      "Data columns (total 30 columns):\n",
      "id                       14850 non-null int64\n",
      "amount_tsh               14850 non-null float64\n",
      "funder                   13981 non-null object\n",
      "gps_height               14850 non-null float64\n",
      "installer                13973 non-null object\n",
      "longitude                14850 non-null float64\n",
      "latitude                 14850 non-null float64\n",
      "wpt_name                 14850 non-null object\n",
      "num_private              14850 non-null int64\n",
      "basin                    14850 non-null int64\n",
      "subvillage               14850 non-null int64\n",
      "region                   14850 non-null int64\n",
      "region_code              14850 non-null int64\n",
      "district_code            14850 non-null int64\n",
      "lga                      14850 non-null int64\n",
      "ward                     14850 non-null int64\n",
      "population               14850 non-null int64\n",
      "public_meeting           14029 non-null object\n",
      "recorded_by              14850 non-null object\n",
      "scheme_management        13881 non-null object\n",
      "permit                   14113 non-null object\n",
      "extraction_type          14850 non-null object\n",
      "extraction_type_class    14850 non-null object\n",
      "management               14850 non-null object\n",
      "payment_type             14850 non-null object\n",
      "water_quality            14850 non-null object\n",
      "quantity                 14850 non-null object\n",
      "source_class             14850 non-null object\n",
      "waterpoint_type          14850 non-null object\n",
      "age_of_pump_mnths        14850 non-null float64\n",
      "dtypes: float64(5), int64(10), object(15)\n",
      "memory usage: 3.4+ MB\n"
     ]
    }
   ],
   "source": [
    "data.info()"
   ]
  },
  {
   "cell_type": "code",
   "execution_count": 37,
   "metadata": {
    "collapsed": false
   },
   "outputs": [
    {
     "name": "stdout",
     "output_type": "stream",
     "text": [
      "funder\n",
      "installer\n",
      "wpt_name\n",
      "public_meeting\n",
      "recorded_by\n",
      "permit\n"
     ]
    }
   ],
   "source": [
    "# There were non repeating objects which we need to account for:\n",
    "for i in data.columns:\n",
    "    if data[i].dtype not in ['int64','float64']:\n",
    "        if i not in remaining_feats:\n",
    "            print i"
   ]
  },
  {
   "cell_type": "code",
   "execution_count": 38,
   "metadata": {
    "collapsed": true
   },
   "outputs": [],
   "source": [
    "#Also dropping pub meeting, rec by\n",
    "data.drop('public_meeting',inplace=True,axis=1)\n",
    "data.drop('recorded_by',inplace=True,axis=1)\n",
    "\n",
    "remaining_feats.append('funder')\n",
    "remaining_feats.append('installer')\n",
    "remaining_feats.append('wpt_name')"
   ]
  },
  {
   "cell_type": "code",
   "execution_count": 39,
   "metadata": {
    "collapsed": false
   },
   "outputs": [
    {
     "data": {
      "text/plain": [
       "['scheme_management',\n",
       " 'extraction_type',\n",
       " 'extraction_type_class',\n",
       " 'management',\n",
       " 'water_quality',\n",
       " 'quantity',\n",
       " 'source_class',\n",
       " 'waterpoint_type',\n",
       " 'payment_type',\n",
       " 'funder',\n",
       " 'installer',\n",
       " 'wpt_name']"
      ]
     },
     "execution_count": 39,
     "metadata": {},
     "output_type": "execute_result"
    }
   ],
   "source": [
    "remaining_feats"
   ]
  },
  {
   "cell_type": "code",
   "execution_count": 40,
   "metadata": {
    "collapsed": false
   },
   "outputs": [
    {
     "name": "stdout",
     "output_type": "stream",
     "text": [
      "scheme_management object\n",
      "extraction_type object\n",
      "extraction_type_class object\n",
      "management object\n",
      "water_quality object\n",
      "quantity object\n",
      "source_class object\n",
      "waterpoint_type object\n",
      "payment_type object\n",
      "funder object\n",
      "installer object\n",
      "wpt_name object\n"
     ]
    }
   ],
   "source": [
    "for i in remaining_feats:\n",
    "    print i, data[i].dtypes"
   ]
  },
  {
   "cell_type": "code",
   "execution_count": 41,
   "metadata": {
    "collapsed": false
   },
   "outputs": [],
   "source": [
    "def feat_eng(df):\n",
    "    le = LabelEncoder()\n",
    "    for i in df.columns:\n",
    "        print \"\"\n",
    "        print \"Picked up Feature: \"+i\n",
    "        if i in remaining_feats:\n",
    "            df[i] = df[i].str.lower()\n",
    "            le.fit(df[i])\n",
    "            print \"Fitting LabelEncoder on Feature: \"+i\n",
    "            df[i] = le.transform(df[i])\n",
    "            print \"Transformed Feature: \"+i\n",
    "        else:\n",
    "            print \"Ignored, Out of scope\"\n",
    "    return df.dtypes"
   ]
  },
  {
   "cell_type": "code",
   "execution_count": 42,
   "metadata": {
    "collapsed": false
   },
   "outputs": [
    {
     "name": "stdout",
     "output_type": "stream",
     "text": [
      "\n",
      "Picked up Feature: id\n",
      "Ignored, Out of scope\n",
      "\n",
      "Picked up Feature: amount_tsh\n",
      "Ignored, Out of scope\n",
      "\n",
      "Picked up Feature: funder\n",
      "Fitting LabelEncoder on Feature: funder\n",
      "Transformed Feature: funder\n",
      "\n",
      "Picked up Feature: gps_height\n",
      "Ignored, Out of scope\n",
      "\n",
      "Picked up Feature: installer\n",
      "Fitting LabelEncoder on Feature: installer\n",
      "Transformed Feature: installer\n",
      "\n",
      "Picked up Feature: longitude\n",
      "Ignored, Out of scope\n",
      "\n",
      "Picked up Feature: latitude\n",
      "Ignored, Out of scope\n",
      "\n",
      "Picked up Feature: wpt_name\n",
      "Fitting LabelEncoder on Feature: wpt_name\n",
      "Transformed Feature: wpt_name\n",
      "\n",
      "Picked up Feature: num_private\n",
      "Ignored, Out of scope\n",
      "\n",
      "Picked up Feature: basin\n",
      "Ignored, Out of scope\n",
      "\n",
      "Picked up Feature: subvillage\n",
      "Ignored, Out of scope\n",
      "\n",
      "Picked up Feature: region\n",
      "Ignored, Out of scope\n",
      "\n",
      "Picked up Feature: region_code\n",
      "Ignored, Out of scope\n",
      "\n",
      "Picked up Feature: district_code\n",
      "Ignored, Out of scope\n",
      "\n",
      "Picked up Feature: lga\n",
      "Ignored, Out of scope\n",
      "\n",
      "Picked up Feature: ward\n",
      "Ignored, Out of scope\n",
      "\n",
      "Picked up Feature: population\n",
      "Ignored, Out of scope\n",
      "\n",
      "Picked up Feature: scheme_management\n",
      "Fitting LabelEncoder on Feature: scheme_management\n",
      "Transformed Feature: scheme_management\n",
      "\n",
      "Picked up Feature: permit\n",
      "Ignored, Out of scope\n",
      "\n",
      "Picked up Feature: extraction_type\n",
      "Fitting LabelEncoder on Feature: extraction_type\n",
      "Transformed Feature: extraction_type\n",
      "\n",
      "Picked up Feature: extraction_type_class\n",
      "Fitting LabelEncoder on Feature: extraction_type_class\n",
      "Transformed Feature: extraction_type_class\n",
      "\n",
      "Picked up Feature: management\n",
      "Fitting LabelEncoder on Feature: management\n",
      "Transformed Feature: management\n",
      "\n",
      "Picked up Feature: payment_type\n",
      "Fitting LabelEncoder on Feature: payment_type\n",
      "Transformed Feature: payment_type\n",
      "\n",
      "Picked up Feature: water_quality\n",
      "Fitting LabelEncoder on Feature: water_quality\n",
      "Transformed Feature: water_quality\n",
      "\n",
      "Picked up Feature: quantity\n",
      "Fitting LabelEncoder on Feature: quantity\n",
      "Transformed Feature: quantity\n",
      "\n",
      "Picked up Feature: source_class\n",
      "Fitting LabelEncoder on Feature: source_class\n",
      "Transformed Feature: source_class\n",
      "\n",
      "Picked up Feature: waterpoint_type\n",
      "Fitting LabelEncoder on Feature: waterpoint_type\n",
      "Transformed Feature: waterpoint_type\n",
      "\n",
      "Picked up Feature: age_of_pump_mnths\n",
      "Ignored, Out of scope\n"
     ]
    },
    {
     "data": {
      "text/plain": [
       "id                         int64\n",
       "amount_tsh               float64\n",
       "funder                     int64\n",
       "gps_height               float64\n",
       "installer                  int64\n",
       "longitude                float64\n",
       "latitude                 float64\n",
       "wpt_name                   int64\n",
       "num_private                int64\n",
       "basin                      int64\n",
       "subvillage                 int64\n",
       "region                     int64\n",
       "region_code                int64\n",
       "district_code              int64\n",
       "lga                        int64\n",
       "ward                       int64\n",
       "population                 int64\n",
       "scheme_management          int64\n",
       "permit                    object\n",
       "extraction_type            int64\n",
       "extraction_type_class      int64\n",
       "management                 int64\n",
       "payment_type               int64\n",
       "water_quality              int64\n",
       "quantity                   int64\n",
       "source_class               int64\n",
       "waterpoint_type            int64\n",
       "age_of_pump_mnths        float64\n",
       "dtype: object"
      ]
     },
     "execution_count": 42,
     "metadata": {},
     "output_type": "execute_result"
    }
   ],
   "source": [
    "feat_eng(data)"
   ]
  },
  {
   "cell_type": "code",
   "execution_count": 43,
   "metadata": {
    "collapsed": false
   },
   "outputs": [
    {
     "data": {
      "text/plain": [
       "id                         int64\n",
       "amount_tsh               float64\n",
       "funder                     int64\n",
       "gps_height               float64\n",
       "installer                  int64\n",
       "longitude                float64\n",
       "latitude                 float64\n",
       "wpt_name                   int64\n",
       "num_private                int64\n",
       "basin                      int64\n",
       "subvillage                 int64\n",
       "region                     int64\n",
       "region_code                int64\n",
       "district_code              int64\n",
       "lga                        int64\n",
       "ward                       int64\n",
       "population                 int64\n",
       "scheme_management          int64\n",
       "permit                    object\n",
       "extraction_type            int64\n",
       "extraction_type_class      int64\n",
       "management                 int64\n",
       "payment_type               int64\n",
       "water_quality              int64\n",
       "quantity                   int64\n",
       "source_class               int64\n",
       "waterpoint_type            int64\n",
       "age_of_pump_mnths        float64\n",
       "dtype: object"
      ]
     },
     "execution_count": 43,
     "metadata": {},
     "output_type": "execute_result"
    }
   ],
   "source": [
    "data.dtypes"
   ]
  },
  {
   "cell_type": "code",
   "execution_count": 44,
   "metadata": {
    "collapsed": true
   },
   "outputs": [],
   "source": [
    "# Handle the last obj\n",
    "data['permit'].fillna(False,inplace = True)\n",
    "data['permit'] = data.permit.map({True:0, False:1})"
   ]
  },
  {
   "cell_type": "code",
   "execution_count": 45,
   "metadata": {
    "collapsed": false,
    "scrolled": true
   },
   "outputs": [
    {
     "data": {
      "text/plain": [
       "28"
      ]
     },
     "execution_count": 45,
     "metadata": {},
     "output_type": "execute_result"
    }
   ],
   "source": [
    "len(data.columns)"
   ]
  },
  {
   "cell_type": "markdown",
   "metadata": {},
   "source": [
    "Creating a new DF so that all prev changes to data remains intact."
   ]
  },
  {
   "cell_type": "code",
   "execution_count": 46,
   "metadata": {
    "collapsed": true
   },
   "outputs": [],
   "source": [
    "cleaned_data = pd.DataFrame(data)"
   ]
  },
  {
   "cell_type": "code",
   "execution_count": 47,
   "metadata": {
    "collapsed": false
   },
   "outputs": [
    {
     "data": {
      "text/html": [
       "<div>\n",
       "<table border=\"1\" class=\"dataframe\">\n",
       "  <thead>\n",
       "    <tr style=\"text-align: right;\">\n",
       "      <th></th>\n",
       "      <th>id</th>\n",
       "      <th>amount_tsh</th>\n",
       "      <th>funder</th>\n",
       "      <th>gps_height</th>\n",
       "      <th>installer</th>\n",
       "      <th>longitude</th>\n",
       "      <th>latitude</th>\n",
       "      <th>wpt_name</th>\n",
       "      <th>num_private</th>\n",
       "      <th>basin</th>\n",
       "      <th>...</th>\n",
       "      <th>permit</th>\n",
       "      <th>extraction_type</th>\n",
       "      <th>extraction_type_class</th>\n",
       "      <th>management</th>\n",
       "      <th>payment_type</th>\n",
       "      <th>water_quality</th>\n",
       "      <th>quantity</th>\n",
       "      <th>source_class</th>\n",
       "      <th>waterpoint_type</th>\n",
       "      <th>age_of_pump_mnths</th>\n",
       "    </tr>\n",
       "  </thead>\n",
       "  <tbody>\n",
       "    <tr>\n",
       "      <th>0</th>\n",
       "      <td>50785</td>\n",
       "      <td>0.0</td>\n",
       "      <td>176</td>\n",
       "      <td>1996.0</td>\n",
       "      <td>208</td>\n",
       "      <td>35.290799</td>\n",
       "      <td>-4.059696</td>\n",
       "      <td>656</td>\n",
       "      <td>0</td>\n",
       "      <td>0</td>\n",
       "      <td>...</td>\n",
       "      <td>0</td>\n",
       "      <td>9</td>\n",
       "      <td>3</td>\n",
       "      <td>3</td>\n",
       "      <td>2</td>\n",
       "      <td>6</td>\n",
       "      <td>3</td>\n",
       "      <td>1</td>\n",
       "      <td>6</td>\n",
       "      <td>43.094656</td>\n",
       "    </tr>\n",
       "    <tr>\n",
       "      <th>1</th>\n",
       "      <td>51630</td>\n",
       "      <td>0.0</td>\n",
       "      <td>251</td>\n",
       "      <td>1569.0</td>\n",
       "      <td>220</td>\n",
       "      <td>36.656709</td>\n",
       "      <td>-3.309214</td>\n",
       "      <td>1780</td>\n",
       "      <td>0</td>\n",
       "      <td>5</td>\n",
       "      <td>...</td>\n",
       "      <td>0</td>\n",
       "      <td>3</td>\n",
       "      <td>0</td>\n",
       "      <td>7</td>\n",
       "      <td>2</td>\n",
       "      <td>6</td>\n",
       "      <td>2</td>\n",
       "      <td>0</td>\n",
       "      <td>1</td>\n",
       "      <td>43.094656</td>\n",
       "    </tr>\n",
       "    <tr>\n",
       "      <th>2</th>\n",
       "      <td>17168</td>\n",
       "      <td>0.0</td>\n",
       "      <td>0</td>\n",
       "      <td>1567.0</td>\n",
       "      <td>0</td>\n",
       "      <td>34.767863</td>\n",
       "      <td>-5.004344</td>\n",
       "      <td>9674</td>\n",
       "      <td>0</td>\n",
       "      <td>0</td>\n",
       "      <td>...</td>\n",
       "      <td>1</td>\n",
       "      <td>9</td>\n",
       "      <td>3</td>\n",
       "      <td>7</td>\n",
       "      <td>2</td>\n",
       "      <td>6</td>\n",
       "      <td>2</td>\n",
       "      <td>1</td>\n",
       "      <td>6</td>\n",
       "      <td>43.086443</td>\n",
       "    </tr>\n",
       "    <tr>\n",
       "      <th>3</th>\n",
       "      <td>45559</td>\n",
       "      <td>0.0</td>\n",
       "      <td>223</td>\n",
       "      <td>267.0</td>\n",
       "      <td>243</td>\n",
       "      <td>38.058046</td>\n",
       "      <td>-9.418672</td>\n",
       "      <td>5595</td>\n",
       "      <td>0</td>\n",
       "      <td>7</td>\n",
       "      <td>...</td>\n",
       "      <td>0</td>\n",
       "      <td>9</td>\n",
       "      <td>3</td>\n",
       "      <td>7</td>\n",
       "      <td>6</td>\n",
       "      <td>6</td>\n",
       "      <td>0</td>\n",
       "      <td>0</td>\n",
       "      <td>6</td>\n",
       "      <td>43.059063</td>\n",
       "    </tr>\n",
       "    <tr>\n",
       "      <th>4</th>\n",
       "      <td>49871</td>\n",
       "      <td>500.0</td>\n",
       "      <td>74</td>\n",
       "      <td>1260.0</td>\n",
       "      <td>84</td>\n",
       "      <td>35.006123</td>\n",
       "      <td>-10.950412</td>\n",
       "      <td>5706</td>\n",
       "      <td>0</td>\n",
       "      <td>7</td>\n",
       "      <td>...</td>\n",
       "      <td>0</td>\n",
       "      <td>3</td>\n",
       "      <td>0</td>\n",
       "      <td>9</td>\n",
       "      <td>1</td>\n",
       "      <td>6</td>\n",
       "      <td>1</td>\n",
       "      <td>0</td>\n",
       "      <td>1</td>\n",
       "      <td>43.234290</td>\n",
       "    </tr>\n",
       "  </tbody>\n",
       "</table>\n",
       "<p>5 rows × 28 columns</p>\n",
       "</div>"
      ],
      "text/plain": [
       "      id  amount_tsh  funder  gps_height  installer  longitude   latitude  \\\n",
       "0  50785         0.0     176      1996.0        208  35.290799  -4.059696   \n",
       "1  51630         0.0     251      1569.0        220  36.656709  -3.309214   \n",
       "2  17168         0.0       0      1567.0          0  34.767863  -5.004344   \n",
       "3  45559         0.0     223       267.0        243  38.058046  -9.418672   \n",
       "4  49871       500.0      74      1260.0         84  35.006123 -10.950412   \n",
       "\n",
       "   wpt_name  num_private  basin        ...          permit  extraction_type  \\\n",
       "0       656            0      0        ...               0                9   \n",
       "1      1780            0      5        ...               0                3   \n",
       "2      9674            0      0        ...               1                9   \n",
       "3      5595            0      7        ...               0                9   \n",
       "4      5706            0      7        ...               0                3   \n",
       "\n",
       "   extraction_type_class  management  payment_type  water_quality  quantity  \\\n",
       "0                      3           3             2              6         3   \n",
       "1                      0           7             2              6         2   \n",
       "2                      3           7             2              6         2   \n",
       "3                      3           7             6              6         0   \n",
       "4                      0           9             1              6         1   \n",
       "\n",
       "   source_class  waterpoint_type  age_of_pump_mnths  \n",
       "0             1                6          43.094656  \n",
       "1             0                1          43.094656  \n",
       "2             1                6          43.086443  \n",
       "3             0                6          43.059063  \n",
       "4             0                1          43.234290  \n",
       "\n",
       "[5 rows x 28 columns]"
      ]
     },
     "execution_count": 47,
     "metadata": {},
     "output_type": "execute_result"
    }
   ],
   "source": [
    "cleaned_data.head()"
   ]
  },
  {
   "cell_type": "code",
   "execution_count": 48,
   "metadata": {
    "collapsed": true
   },
   "outputs": [],
   "source": [
    "cleaned_data.drop('id',inplace=True,axis=1)"
   ]
  },
  {
   "cell_type": "code",
   "execution_count": 49,
   "metadata": {
    "collapsed": false
   },
   "outputs": [],
   "source": [
    "features = cleaned_data"
   ]
  },
  {
   "cell_type": "code",
   "execution_count": 50,
   "metadata": {
    "collapsed": false
   },
   "outputs": [
    {
     "data": {
      "text/html": [
       "<div>\n",
       "<table border=\"1\" class=\"dataframe\">\n",
       "  <thead>\n",
       "    <tr style=\"text-align: right;\">\n",
       "      <th></th>\n",
       "      <th>amount_tsh</th>\n",
       "      <th>funder</th>\n",
       "      <th>gps_height</th>\n",
       "      <th>installer</th>\n",
       "      <th>longitude</th>\n",
       "      <th>latitude</th>\n",
       "      <th>wpt_name</th>\n",
       "      <th>num_private</th>\n",
       "      <th>basin</th>\n",
       "      <th>subvillage</th>\n",
       "      <th>...</th>\n",
       "      <th>permit</th>\n",
       "      <th>extraction_type</th>\n",
       "      <th>extraction_type_class</th>\n",
       "      <th>management</th>\n",
       "      <th>payment_type</th>\n",
       "      <th>water_quality</th>\n",
       "      <th>quantity</th>\n",
       "      <th>source_class</th>\n",
       "      <th>waterpoint_type</th>\n",
       "      <th>age_of_pump_mnths</th>\n",
       "    </tr>\n",
       "  </thead>\n",
       "  <tbody>\n",
       "    <tr>\n",
       "      <th>0</th>\n",
       "      <td>0.0</td>\n",
       "      <td>176</td>\n",
       "      <td>1996.0</td>\n",
       "      <td>208</td>\n",
       "      <td>35.290799</td>\n",
       "      <td>-4.059696</td>\n",
       "      <td>656</td>\n",
       "      <td>0</td>\n",
       "      <td>0</td>\n",
       "      <td>3917</td>\n",
       "      <td>...</td>\n",
       "      <td>0</td>\n",
       "      <td>9</td>\n",
       "      <td>3</td>\n",
       "      <td>3</td>\n",
       "      <td>2</td>\n",
       "      <td>6</td>\n",
       "      <td>3</td>\n",
       "      <td>1</td>\n",
       "      <td>6</td>\n",
       "      <td>43.094656</td>\n",
       "    </tr>\n",
       "    <tr>\n",
       "      <th>1</th>\n",
       "      <td>0.0</td>\n",
       "      <td>251</td>\n",
       "      <td>1569.0</td>\n",
       "      <td>220</td>\n",
       "      <td>36.656709</td>\n",
       "      <td>-3.309214</td>\n",
       "      <td>1780</td>\n",
       "      <td>0</td>\n",
       "      <td>5</td>\n",
       "      <td>2718</td>\n",
       "      <td>...</td>\n",
       "      <td>0</td>\n",
       "      <td>3</td>\n",
       "      <td>0</td>\n",
       "      <td>7</td>\n",
       "      <td>2</td>\n",
       "      <td>6</td>\n",
       "      <td>2</td>\n",
       "      <td>0</td>\n",
       "      <td>1</td>\n",
       "      <td>43.094656</td>\n",
       "    </tr>\n",
       "    <tr>\n",
       "      <th>2</th>\n",
       "      <td>0.0</td>\n",
       "      <td>0</td>\n",
       "      <td>1567.0</td>\n",
       "      <td>0</td>\n",
       "      <td>34.767863</td>\n",
       "      <td>-5.004344</td>\n",
       "      <td>9674</td>\n",
       "      <td>0</td>\n",
       "      <td>0</td>\n",
       "      <td>5399</td>\n",
       "      <td>...</td>\n",
       "      <td>1</td>\n",
       "      <td>9</td>\n",
       "      <td>3</td>\n",
       "      <td>7</td>\n",
       "      <td>2</td>\n",
       "      <td>6</td>\n",
       "      <td>2</td>\n",
       "      <td>1</td>\n",
       "      <td>6</td>\n",
       "      <td>43.086443</td>\n",
       "    </tr>\n",
       "    <tr>\n",
       "      <th>3</th>\n",
       "      <td>0.0</td>\n",
       "      <td>223</td>\n",
       "      <td>267.0</td>\n",
       "      <td>243</td>\n",
       "      <td>38.058046</td>\n",
       "      <td>-9.418672</td>\n",
       "      <td>5595</td>\n",
       "      <td>0</td>\n",
       "      <td>7</td>\n",
       "      <td>2796</td>\n",
       "      <td>...</td>\n",
       "      <td>0</td>\n",
       "      <td>9</td>\n",
       "      <td>3</td>\n",
       "      <td>7</td>\n",
       "      <td>6</td>\n",
       "      <td>6</td>\n",
       "      <td>0</td>\n",
       "      <td>0</td>\n",
       "      <td>6</td>\n",
       "      <td>43.059063</td>\n",
       "    </tr>\n",
       "    <tr>\n",
       "      <th>4</th>\n",
       "      <td>500.0</td>\n",
       "      <td>74</td>\n",
       "      <td>1260.0</td>\n",
       "      <td>84</td>\n",
       "      <td>35.006123</td>\n",
       "      <td>-10.950412</td>\n",
       "      <td>5706</td>\n",
       "      <td>0</td>\n",
       "      <td>7</td>\n",
       "      <td>3545</td>\n",
       "      <td>...</td>\n",
       "      <td>0</td>\n",
       "      <td>3</td>\n",
       "      <td>0</td>\n",
       "      <td>9</td>\n",
       "      <td>1</td>\n",
       "      <td>6</td>\n",
       "      <td>1</td>\n",
       "      <td>0</td>\n",
       "      <td>1</td>\n",
       "      <td>43.234290</td>\n",
       "    </tr>\n",
       "  </tbody>\n",
       "</table>\n",
       "<p>5 rows × 27 columns</p>\n",
       "</div>"
      ],
      "text/plain": [
       "   amount_tsh  funder  gps_height  installer  longitude   latitude  wpt_name  \\\n",
       "0         0.0     176      1996.0        208  35.290799  -4.059696       656   \n",
       "1         0.0     251      1569.0        220  36.656709  -3.309214      1780   \n",
       "2         0.0       0      1567.0          0  34.767863  -5.004344      9674   \n",
       "3         0.0     223       267.0        243  38.058046  -9.418672      5595   \n",
       "4       500.0      74      1260.0         84  35.006123 -10.950412      5706   \n",
       "\n",
       "   num_private  basin  subvillage        ...          permit  extraction_type  \\\n",
       "0            0      0        3917        ...               0                9   \n",
       "1            0      5        2718        ...               0                3   \n",
       "2            0      0        5399        ...               1                9   \n",
       "3            0      7        2796        ...               0                9   \n",
       "4            0      7        3545        ...               0                3   \n",
       "\n",
       "   extraction_type_class  management  payment_type  water_quality  quantity  \\\n",
       "0                      3           3             2              6         3   \n",
       "1                      0           7             2              6         2   \n",
       "2                      3           7             2              6         2   \n",
       "3                      3           7             6              6         0   \n",
       "4                      0           9             1              6         1   \n",
       "\n",
       "   source_class  waterpoint_type  age_of_pump_mnths  \n",
       "0             1                6          43.094656  \n",
       "1             0                1          43.094656  \n",
       "2             1                6          43.086443  \n",
       "3             0                6          43.059063  \n",
       "4             0                1          43.234290  \n",
       "\n",
       "[5 rows x 27 columns]"
      ]
     },
     "execution_count": 50,
     "metadata": {},
     "output_type": "execute_result"
    }
   ],
   "source": [
    "features.head()"
   ]
  },
  {
   "cell_type": "code",
   "execution_count": 51,
   "metadata": {
    "collapsed": false
   },
   "outputs": [
    {
     "data": {
      "text/html": [
       "<div>\n",
       "<table border=\"1\" class=\"dataframe\">\n",
       "  <thead>\n",
       "    <tr style=\"text-align: right;\">\n",
       "      <th></th>\n",
       "      <th>amount_tsh</th>\n",
       "      <th>funder</th>\n",
       "      <th>gps_height</th>\n",
       "      <th>installer</th>\n",
       "      <th>longitude</th>\n",
       "      <th>latitude</th>\n",
       "      <th>wpt_name</th>\n",
       "      <th>num_private</th>\n",
       "      <th>basin</th>\n",
       "      <th>subvillage</th>\n",
       "      <th>...</th>\n",
       "      <th>permit</th>\n",
       "      <th>extraction_type</th>\n",
       "      <th>extraction_type_class</th>\n",
       "      <th>management</th>\n",
       "      <th>payment_type</th>\n",
       "      <th>water_quality</th>\n",
       "      <th>quantity</th>\n",
       "      <th>source_class</th>\n",
       "      <th>waterpoint_type</th>\n",
       "      <th>age_of_pump_mnths</th>\n",
       "    </tr>\n",
       "  </thead>\n",
       "  <tbody>\n",
       "    <tr>\n",
       "      <th>0</th>\n",
       "      <td>-0.128571</td>\n",
       "      <td>-0.788992</td>\n",
       "      <td>1.990258</td>\n",
       "      <td>-0.509880</td>\n",
       "      <td>0.057368</td>\n",
       "      <td>0.552598</td>\n",
       "      <td>-1.603863</td>\n",
       "      <td>-0.050821</td>\n",
       "      <td>-1.673368</td>\n",
       "      <td>-0.111603</td>\n",
       "      <td>...</td>\n",
       "      <td>-0.722809</td>\n",
       "      <td>0.701073</td>\n",
       "      <td>1.031309</td>\n",
       "      <td>-2.048393</td>\n",
       "      <td>-0.451705</td>\n",
       "      <td>0.274411</td>\n",
       "      <td>2.093099</td>\n",
       "      <td>1.779726</td>\n",
       "      <td>1.911787</td>\n",
       "      <td>0.934685</td>\n",
       "    </tr>\n",
       "    <tr>\n",
       "      <th>1</th>\n",
       "      <td>-0.128571</td>\n",
       "      <td>-0.540900</td>\n",
       "      <td>1.128935</td>\n",
       "      <td>-0.465209</td>\n",
       "      <td>0.587954</td>\n",
       "      <td>0.807803</td>\n",
       "      <td>-1.266739</td>\n",
       "      <td>-0.050821</td>\n",
       "      <td>0.354568</td>\n",
       "      <td>-0.603111</td>\n",
       "      <td>...</td>\n",
       "      <td>-0.722809</td>\n",
       "      <td>-0.828447</td>\n",
       "      <td>-0.796322</td>\n",
       "      <td>-0.112257</td>\n",
       "      <td>-0.451705</td>\n",
       "      <td>0.274411</td>\n",
       "      <td>0.842847</td>\n",
       "      <td>-0.533933</td>\n",
       "      <td>-0.886033</td>\n",
       "      <td>0.934685</td>\n",
       "    </tr>\n",
       "    <tr>\n",
       "      <th>2</th>\n",
       "      <td>-0.128571</td>\n",
       "      <td>-1.371182</td>\n",
       "      <td>1.124901</td>\n",
       "      <td>-1.284194</td>\n",
       "      <td>-0.145766</td>\n",
       "      <td>0.231366</td>\n",
       "      <td>1.100929</td>\n",
       "      <td>-0.050821</td>\n",
       "      <td>-1.673368</td>\n",
       "      <td>0.495915</td>\n",
       "      <td>...</td>\n",
       "      <td>1.383492</td>\n",
       "      <td>0.701073</td>\n",
       "      <td>1.031309</td>\n",
       "      <td>-0.112257</td>\n",
       "      <td>-0.451705</td>\n",
       "      <td>0.274411</td>\n",
       "      <td>0.842847</td>\n",
       "      <td>1.779726</td>\n",
       "      <td>1.911787</td>\n",
       "      <td>0.925825</td>\n",
       "    </tr>\n",
       "    <tr>\n",
       "      <th>3</th>\n",
       "      <td>-0.128571</td>\n",
       "      <td>-0.633521</td>\n",
       "      <td>-1.497392</td>\n",
       "      <td>-0.379587</td>\n",
       "      <td>1.132301</td>\n",
       "      <td>-1.269746</td>\n",
       "      <td>-0.122496</td>\n",
       "      <td>-0.050821</td>\n",
       "      <td>1.165742</td>\n",
       "      <td>-0.571136</td>\n",
       "      <td>...</td>\n",
       "      <td>-0.722809</td>\n",
       "      <td>0.701073</td>\n",
       "      <td>1.031309</td>\n",
       "      <td>-0.112257</td>\n",
       "      <td>1.728636</td>\n",
       "      <td>0.274411</td>\n",
       "      <td>-1.657657</td>\n",
       "      <td>-0.533933</td>\n",
       "      <td>1.911787</td>\n",
       "      <td>0.896291</td>\n",
       "    </tr>\n",
       "    <tr>\n",
       "      <th>4</th>\n",
       "      <td>0.070562</td>\n",
       "      <td>-1.126398</td>\n",
       "      <td>0.505636</td>\n",
       "      <td>-0.971491</td>\n",
       "      <td>-0.053214</td>\n",
       "      <td>-1.790621</td>\n",
       "      <td>-0.089203</td>\n",
       "      <td>-0.050821</td>\n",
       "      <td>1.165742</td>\n",
       "      <td>-0.264098</td>\n",
       "      <td>...</td>\n",
       "      <td>-0.722809</td>\n",
       "      <td>-0.828447</td>\n",
       "      <td>-0.796322</td>\n",
       "      <td>0.855811</td>\n",
       "      <td>-0.996790</td>\n",
       "      <td>0.274411</td>\n",
       "      <td>-0.407405</td>\n",
       "      <td>-0.533933</td>\n",
       "      <td>-0.886033</td>\n",
       "      <td>1.085308</td>\n",
       "    </tr>\n",
       "  </tbody>\n",
       "</table>\n",
       "<p>5 rows × 27 columns</p>\n",
       "</div>"
      ],
      "text/plain": [
       "   amount_tsh    funder  gps_height  installer  longitude  latitude  wpt_name  \\\n",
       "0   -0.128571 -0.788992    1.990258  -0.509880   0.057368  0.552598 -1.603863   \n",
       "1   -0.128571 -0.540900    1.128935  -0.465209   0.587954  0.807803 -1.266739   \n",
       "2   -0.128571 -1.371182    1.124901  -1.284194  -0.145766  0.231366  1.100929   \n",
       "3   -0.128571 -0.633521   -1.497392  -0.379587   1.132301 -1.269746 -0.122496   \n",
       "4    0.070562 -1.126398    0.505636  -0.971491  -0.053214 -1.790621 -0.089203   \n",
       "\n",
       "   num_private     basin  subvillage        ...            permit  \\\n",
       "0    -0.050821 -1.673368   -0.111603        ...         -0.722809   \n",
       "1    -0.050821  0.354568   -0.603111        ...         -0.722809   \n",
       "2    -0.050821 -1.673368    0.495915        ...          1.383492   \n",
       "3    -0.050821  1.165742   -0.571136        ...         -0.722809   \n",
       "4    -0.050821  1.165742   -0.264098        ...         -0.722809   \n",
       "\n",
       "   extraction_type  extraction_type_class  management  payment_type  \\\n",
       "0         0.701073               1.031309   -2.048393     -0.451705   \n",
       "1        -0.828447              -0.796322   -0.112257     -0.451705   \n",
       "2         0.701073               1.031309   -0.112257     -0.451705   \n",
       "3         0.701073               1.031309   -0.112257      1.728636   \n",
       "4        -0.828447              -0.796322    0.855811     -0.996790   \n",
       "\n",
       "   water_quality  quantity  source_class  waterpoint_type  age_of_pump_mnths  \n",
       "0       0.274411  2.093099      1.779726         1.911787           0.934685  \n",
       "1       0.274411  0.842847     -0.533933        -0.886033           0.934685  \n",
       "2       0.274411  0.842847      1.779726         1.911787           0.925825  \n",
       "3       0.274411 -1.657657     -0.533933         1.911787           0.896291  \n",
       "4       0.274411 -0.407405     -0.533933        -0.886033           1.085308  \n",
       "\n",
       "[5 rows x 27 columns]"
      ]
     },
     "execution_count": 51,
     "metadata": {},
     "output_type": "execute_result"
    }
   ],
   "source": [
    "sc = StandardScaler()\n",
    "sc.fit(features)\n",
    "std_features = sc.fit_transform(features)\n",
    "std_features = pd.DataFrame(std_features,columns = features.columns)\n",
    "std_features.head()"
   ]
  },
  {
   "cell_type": "code",
   "execution_count": 52,
   "metadata": {
    "collapsed": true
   },
   "outputs": [],
   "source": [
    "std_features.to_csv('test_cleaned_data',index=False)"
   ]
  },
  {
   "cell_type": "code",
   "execution_count": 53,
   "metadata": {
    "collapsed": false
   },
   "outputs": [],
   "source": [
    "X = std_features"
   ]
  },
  {
   "cell_type": "markdown",
   "metadata": {},
   "source": [
    "# RandomForestClassifier"
   ]
  },
  {
   "cell_type": "code",
   "execution_count": 54,
   "metadata": {
    "collapsed": true
   },
   "outputs": [],
   "source": [
    "rcp_in = open('RFC.pickle','rb')\n",
    "rfc = pickle.load(rcp_in)"
   ]
  },
  {
   "cell_type": "code",
   "execution_count": 55,
   "metadata": {
    "collapsed": false
   },
   "outputs": [],
   "source": [
    "rfc_pred = rfc.predict(X)"
   ]
  },
  {
   "cell_type": "code",
   "execution_count": 56,
   "metadata": {
    "collapsed": false
   },
   "outputs": [
    {
     "data": {
      "text/plain": [
       "array([2, 0, 0, ..., 0, 0, 2])"
      ]
     },
     "execution_count": 56,
     "metadata": {},
     "output_type": "execute_result"
    }
   ],
   "source": [
    "rfc_pred"
   ]
  },
  {
   "cell_type": "code",
   "execution_count": 57,
   "metadata": {
    "collapsed": true
   },
   "outputs": [],
   "source": [
    "rfc_submission = pd.DataFrame()"
   ]
  },
  {
   "cell_type": "code",
   "execution_count": 58,
   "metadata": {
    "collapsed": true
   },
   "outputs": [],
   "source": [
    "rfc_submission['id'] = data['id']"
   ]
  },
  {
   "cell_type": "code",
   "execution_count": 59,
   "metadata": {
    "collapsed": false
   },
   "outputs": [],
   "source": [
    "rfc_submission['status_group'] = rfc_pred"
   ]
  },
  {
   "cell_type": "code",
   "execution_count": 60,
   "metadata": {
    "collapsed": true
   },
   "outputs": [],
   "source": [
    "rfc_submission['status_group'] = rfc_submission.status_group.map({0:'functional', 1: 'functional needs repair', 2:'non functional'})"
   ]
  },
  {
   "cell_type": "code",
   "execution_count": 61,
   "metadata": {
    "collapsed": false
   },
   "outputs": [
    {
     "data": {
      "text/html": [
       "<div>\n",
       "<table border=\"1\" class=\"dataframe\">\n",
       "  <thead>\n",
       "    <tr style=\"text-align: right;\">\n",
       "      <th></th>\n",
       "      <th>id</th>\n",
       "      <th>status_group</th>\n",
       "    </tr>\n",
       "  </thead>\n",
       "  <tbody>\n",
       "    <tr>\n",
       "      <th>0</th>\n",
       "      <td>50785</td>\n",
       "      <td>non functional</td>\n",
       "    </tr>\n",
       "    <tr>\n",
       "      <th>1</th>\n",
       "      <td>51630</td>\n",
       "      <td>functional</td>\n",
       "    </tr>\n",
       "    <tr>\n",
       "      <th>2</th>\n",
       "      <td>17168</td>\n",
       "      <td>functional</td>\n",
       "    </tr>\n",
       "    <tr>\n",
       "      <th>3</th>\n",
       "      <td>45559</td>\n",
       "      <td>non functional</td>\n",
       "    </tr>\n",
       "    <tr>\n",
       "      <th>4</th>\n",
       "      <td>49871</td>\n",
       "      <td>functional</td>\n",
       "    </tr>\n",
       "  </tbody>\n",
       "</table>\n",
       "</div>"
      ],
      "text/plain": [
       "      id    status_group\n",
       "0  50785  non functional\n",
       "1  51630      functional\n",
       "2  17168      functional\n",
       "3  45559  non functional\n",
       "4  49871      functional"
      ]
     },
     "execution_count": 61,
     "metadata": {},
     "output_type": "execute_result"
    }
   ],
   "source": [
    "rfc_submission.head()"
   ]
  },
  {
   "cell_type": "code",
   "execution_count": 62,
   "metadata": {
    "collapsed": false
   },
   "outputs": [],
   "source": [
    "rfc_submission.to_csv('rfc_submission',index=False)"
   ]
  }
 ],
 "metadata": {
  "kernelspec": {
   "display_name": "Python 2",
   "language": "python",
   "name": "python2"
  },
  "language_info": {
   "codemirror_mode": {
    "name": "ipython",
    "version": 2
   },
   "file_extension": ".py",
   "mimetype": "text/x-python",
   "name": "python",
   "nbconvert_exporter": "python",
   "pygments_lexer": "ipython2",
   "version": "2.7.10"
  }
 },
 "nbformat": 4,
 "nbformat_minor": 2
}
