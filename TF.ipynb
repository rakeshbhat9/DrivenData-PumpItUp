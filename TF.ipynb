{
 "cells": [
  {
   "cell_type": "code",
   "execution_count": 4,
   "metadata": {
    "collapsed": false
   },
   "outputs": [],
   "source": [
    "from tensorflow.contrib import learn\n",
    "import tensorflow as tf\n",
    "from sklearn.cross_validation import train_test_split\n",
    "import pandas as pd\n",
    "import numpy as np\n",
    "\n",
    "import warnings\n",
    "warnings.filterwarnings('ignore')"
   ]
  },
  {
   "cell_type": "code",
   "execution_count": 2,
   "metadata": {
    "collapsed": false
   },
   "outputs": [],
   "source": [
    "trng_data = pd.read_csv('training set values.csv')\n",
    "trng_lbl = pd.read_csv('training set labels.csv')\n",
    "trng_lbl['status_group'] = trng_lbl.status_group.map({'functional':0, 'functional needs repair':1, 'non functional':2})\n",
    "data = pd.merge(trng_data,trng_lbl,how ='outer',on ='id')"
   ]
  },
  {
   "cell_type": "code",
   "execution_count": 3,
   "metadata": {
    "collapsed": true
   },
   "outputs": [],
   "source": [
    "X = pd.read_csv('training_cleaned_data')\n",
    "y = data['status_group']"
   ]
  },
  {
   "cell_type": "code",
   "execution_count": 17,
   "metadata": {
    "collapsed": false
   },
   "outputs": [
    {
     "name": "stdout",
     "output_type": "stream",
     "text": [
      "WARNING:tensorflow:float64 is not supported by many models, consider casting to float32.\n",
      "INFO:tensorflow:Using default config.\n",
      "WARNING:tensorflow:Using temporary folder as model directory: C:\\Program Files\\Microsoft\\R Server\\R_SERVER\\o16n\\rserve\\workdir\\tmp\\tmpokh6d547\n",
      "INFO:tensorflow:Using config: {'_is_chief': True, '_num_worker_replicas': 0, '_tf_random_seed': None, '_save_summary_steps': 100, '_environment': 'local', '_evaluation_master': '', '_master': '', '_tf_config': gpu_options {\n",
      "  per_process_gpu_memory_fraction: 1\n",
      "}\n",
      ", '_keep_checkpoint_every_n_hours': 10000, '_num_ps_replicas': 0, '_task_id': 0, '_save_checkpoints_steps': None, '_session_config': None, '_save_checkpoints_secs': 600, '_model_dir': 'C:\\\\Program Files\\\\Microsoft\\\\R Server\\\\R_SERVER\\\\o16n\\\\rserve\\\\workdir\\\\tmp\\\\tmpokh6d547', '_task_type': None, '_cluster_spec': <tensorflow.python.training.server_lib.ClusterSpec object at 0x000000D6EE2ED9B0>, '_keep_checkpoint_max': 5}\n"
     ]
    }
   ],
   "source": [
    "clf = learn.DNNClassifier(hidden_units=[50,70,50],feature_columns= learn.infer_real_valued_columns_from_input(X_train),n_classes=3)"
   ]
  },
  {
   "cell_type": "code",
   "execution_count": 18,
   "metadata": {
    "collapsed": false
   },
   "outputs": [
    {
     "name": "stdout",
     "output_type": "stream",
     "text": [
      "(47520, 27)\n",
      "(11880, 27)\n",
      "(47520,)\n",
      "(11880,)\n"
     ]
    }
   ],
   "source": [
    "X_train, X_test, y_train, y_test = train_test_split(X, y, test_size=0.20)\n",
    "print (X_train.shape)\n",
    "print (X_test.shape)\n",
    "print (y_train.shape)\n",
    "print (y_test.shape)"
   ]
  },
  {
   "cell_type": "code",
   "execution_count": 19,
   "metadata": {
    "collapsed": false
   },
   "outputs": [
    {
     "name": "stdout",
     "output_type": "stream",
     "text": [
      "WARNING:tensorflow:From <ipython-input-19-aab8f38be5a8>:1: calling BaseEstimator.fit (from tensorflow.contrib.learn.python.learn.estimators.estimator) with y is deprecated and will be removed after 2016-12-01.\n",
      "Instructions for updating:\n",
      "Estimator is decoupled from Scikit Learn interface by moving into\n",
      "separate class SKCompat. Arguments x, y and batch_size are only\n",
      "available in the SKCompat class, Estimator will only accept input_fn.\n",
      "Example conversion:\n",
      "  est = Estimator(...) -> est = SKCompat(Estimator(...))\n",
      "WARNING:tensorflow:From <ipython-input-19-aab8f38be5a8>:1: calling BaseEstimator.fit (from tensorflow.contrib.learn.python.learn.estimators.estimator) with x is deprecated and will be removed after 2016-12-01.\n",
      "Instructions for updating:\n",
      "Estimator is decoupled from Scikit Learn interface by moving into\n",
      "separate class SKCompat. Arguments x, y and batch_size are only\n",
      "available in the SKCompat class, Estimator will only accept input_fn.\n",
      "Example conversion:\n",
      "  est = Estimator(...) -> est = SKCompat(Estimator(...))\n",
      "WARNING:tensorflow:float64 is not supported by many models, consider casting to float32.\n",
      "WARNING:tensorflow:From C:\\Anaconda\\envs\\py35\\lib\\site-packages\\tensorflow\\contrib\\learn\\python\\learn\\estimators\\head.py:625: scalar_summary (from tensorflow.python.ops.logging_ops) is deprecated and will be removed after 2016-11-30.\n",
      "Instructions for updating:\n",
      "Please switch to tf.summary.scalar. Note that tf.summary.scalar uses the node name instead of the tag. This means that TensorFlow will automatically de-duplicate summary names based on the scope they are created in. Also, passing a tensor or list of tags to a scalar summary op is no longer supported.\n",
      "INFO:tensorflow:Create CheckpointSaverHook.\n",
      "INFO:tensorflow:Saving checkpoints for 1 into C:\\Program Files\\Microsoft\\R Server\\R_SERVER\\o16n\\rserve\\workdir\\tmp\\tmpokh6d547\\model.ckpt.\n",
      "INFO:tensorflow:step = 1, loss = 1.27567\n",
      "INFO:tensorflow:global_step/sec: 1.10924\n",
      "INFO:tensorflow:step = 101, loss = 0.775305 (90.153 sec)\n",
      "INFO:tensorflow:global_step/sec: 1.11304\n",
      "INFO:tensorflow:step = 201, loss = 0.709441 (89.850 sec)\n",
      "INFO:tensorflow:global_step/sec: 1.10651\n",
      "INFO:tensorflow:step = 301, loss = 0.674992 (90.369 sec)\n",
      "INFO:tensorflow:global_step/sec: 1.11625\n",
      "INFO:tensorflow:step = 401, loss = 0.663405 (89.590 sec)\n",
      "INFO:tensorflow:global_step/sec: 1.10664\n",
      "INFO:tensorflow:step = 501, loss = 0.643511 (90.360 sec)\n",
      "INFO:tensorflow:global_step/sec: 1.1138\n",
      "INFO:tensorflow:step = 601, loss = 0.632319 (89.788 sec)\n",
      "INFO:tensorflow:Saving checkpoints for 668 into C:\\Program Files\\Microsoft\\R Server\\R_SERVER\\o16n\\rserve\\workdir\\tmp\\tmpokh6d547\\model.ckpt.\n",
      "INFO:tensorflow:global_step/sec: 1.11409\n",
      "INFO:tensorflow:step = 701, loss = 0.623083 (89.754 sec)\n",
      "INFO:tensorflow:global_step/sec: 1.14874\n",
      "INFO:tensorflow:step = 801, loss = 0.614887 (87.057 sec)\n",
      "INFO:tensorflow:global_step/sec: 1.13392\n",
      "INFO:tensorflow:step = 901, loss = 0.607482 (88.185 sec)\n",
      "INFO:tensorflow:Saving checkpoints for 1000 into C:\\Program Files\\Microsoft\\R Server\\R_SERVER\\o16n\\rserve\\workdir\\tmp\\tmpokh6d547\\model.ckpt.\n",
      "INFO:tensorflow:Loss for final step: 0.601561.\n"
     ]
    }
   ],
   "source": [
    "model = clf.fit(X_train,y_train,steps=1000)"
   ]
  },
  {
   "cell_type": "code",
   "execution_count": 20,
   "metadata": {
    "collapsed": false
   },
   "outputs": [
    {
     "name": "stdout",
     "output_type": "stream",
     "text": [
      "WARNING:tensorflow:From C:\\Anaconda\\envs\\py35\\lib\\site-packages\\tensorflow\\python\\util\\deprecation.py:347: calling DNNClassifier.predict (from tensorflow.contrib.learn.python.learn.estimators.dnn) with outputs=None is deprecated and will be removed after 2017-03-01.\n",
      "Instructions for updating:\n",
      "Please switch to predict_classes, or set `outputs` argument.\n",
      "WARNING:tensorflow:From C:\\Anaconda\\envs\\py35\\lib\\site-packages\\tensorflow\\contrib\\learn\\python\\learn\\estimators\\dnn.py:433: calling BaseEstimator.predict (from tensorflow.contrib.learn.python.learn.estimators.estimator) with x is deprecated and will be removed after 2016-12-01.\n",
      "Instructions for updating:\n",
      "Estimator is decoupled from Scikit Learn interface by moving into\n",
      "separate class SKCompat. Arguments x, y and batch_size are only\n",
      "available in the SKCompat class, Estimator will only accept input_fn.\n",
      "Example conversion:\n",
      "  est = Estimator(...) -> est = SKCompat(Estimator(...))\n",
      "WARNING:tensorflow:float64 is not supported by many models, consider casting to float32.\n",
      "INFO:tensorflow:Restoring parameters from C:\\Program Files\\Microsoft\\R Server\\R_SERVER\\o16n\\rserve\\workdir\\tmp\\tmpokh6d547\\model.ckpt-1000\n"
     ]
    }
   ],
   "source": [
    "pred = model.predict(X_test)"
   ]
  },
  {
   "cell_type": "code",
   "execution_count": 21,
   "metadata": {
    "collapsed": true
   },
   "outputs": [],
   "source": [
    "tfpred = list(pred)"
   ]
  },
  {
   "cell_type": "code",
   "execution_count": 22,
   "metadata": {
    "collapsed": true
   },
   "outputs": [],
   "source": [
    "from sklearn.metrics import classification_report,confusion_matrix,accuracy_score"
   ]
  },
  {
   "cell_type": "code",
   "execution_count": 23,
   "metadata": {
    "collapsed": false
   },
   "outputs": [
    {
     "name": "stdout",
     "output_type": "stream",
     "text": [
      "             precision    recall  f1-score   support\n",
      "\n",
      "          0       0.75      0.84      0.79      6551\n",
      "          1       0.62      0.13      0.21       868\n",
      "          2       0.73      0.71      0.72      4461\n",
      "\n",
      "avg / total       0.73      0.74      0.72     11880\n",
      "\n",
      "\n",
      "[[5493   53 1005]\n",
      " [ 557  110  201]\n",
      " [1257   15 3189]]\n",
      "\n",
      "0.740067340067\n"
     ]
    }
   ],
   "source": [
    "print (classification_report(y_test,tfpred))\n",
    "print (\"\")\n",
    "print (confusion_matrix(y_test,tfpred))\n",
    "print (\"\")\n",
    "print (accuracy_score(y_test,tfpred))"
   ]
  },
  {
   "cell_type": "code",
   "execution_count": null,
   "metadata": {
    "collapsed": true
   },
   "outputs": [],
   "source": []
  }
 ],
 "metadata": {
  "kernelspec": {
   "display_name": "Python [conda env:py35]",
   "language": "python",
   "name": "conda-env-py35-py"
  },
  "language_info": {
   "codemirror_mode": {
    "name": "ipython",
    "version": 3
   },
   "file_extension": ".py",
   "mimetype": "text/x-python",
   "name": "python",
   "nbconvert_exporter": "python",
   "pygments_lexer": "ipython3",
   "version": "3.5.2"
  }
 },
 "nbformat": 4,
 "nbformat_minor": 2
}
